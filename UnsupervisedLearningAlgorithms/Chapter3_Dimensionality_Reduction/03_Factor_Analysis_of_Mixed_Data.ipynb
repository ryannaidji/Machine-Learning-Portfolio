{
 "cells": [
  {
   "cell_type": "markdown",
   "id": "5752751d",
   "metadata": {},
   "source": [
    "# Factor Analysis of Mixed Data (FAMD)\n",
    "\n",
    "Factor Analysis of Mixed Data (FAMD) is an extension of Principal Component Analysis (PCA) and Multiple Correspondence Analysis (MCA) designed to handle datasets that contain both numerical and categorical variables. It combines the principles of PCA and MCA to analyze and visualize the relationships between mixed-type variables in a reduced dimensional space.\n",
    "\n",
    "FAMD is particularly useful in scenarios where the data is heterogeneous, containing both continuous and categorical variables, and helps in reducing the dimensionality while preserving as much information as possible.\n",
    "\n"
   ]
  },
  {
   "cell_type": "markdown",
   "id": "a20c802a",
   "metadata": {},
   "source": [
    "## Mathematical Foundations of FAMD\n",
    "\n",
    "FAMD can be understood as a combination of PCA and MCA. Here are the key steps involved:\n",
    "\n",
    "1. **Standardization**: Standardize the numerical variables and create an indicator matrix for the categorical variables.\n",
    "\n",
    "2. **Weighting**: Apply appropriate weights to balance the influence of numerical and categorical variables. The weights are determined based on the proportion of each type of variable.\n",
    "\n",
    "3. **Construction of the Indicator Matrix**: Construct the indicator matrix $Z$ from the standardized numerical variables and the categorical indicator matrix.\n",
    "\n",
    "4. **Singular Value Decomposition (SVD)**: Perform SVD on the indicator matrix $Z$ to obtain the principal components and singular values:\n",
    "---\n",
    "\n",
    "\n",
    ">$$Z = U \\Sigma V^T$$\n",
    "\n",
    "\n",
    "---\n",
    "   where $U$ and $V$ are the left and right singular vectors, respectively, and $\\Sigma$ is the diagonal matrix of singular values.\n",
    "\n",
    "5. **Principal Components**: The principal components are obtained by projecting the data onto the singular vectors:\n",
    "---\n",
    "\n",
    "\n",
    ">$$F = U \\Sigma$$\n",
    "\n",
    "\n",
    "---\n",
    "   The principal components can be used to represent the data in a lower-dimensional space.\n",
    "\n",
    "6. **Inertia and Eigenvalues**: Inertia represents the total variance in the dataset. The eigenvalues obtained from the decomposition represent the amount of inertia explained by each principal component. Higher eigenvalues indicate that the corresponding component explains a larger portion of the total inertia.\n",
    "\n",
    "7. **Contribution and Cosine Squared**: The contribution of a variable to a principal component indicates how much that variable influences the component. The cosine squared ($cos^2$) measure indicates the quality of the representation of a variable on a principal component. Higher values of $cos^2$ suggest that the variable is well represented by the component."
   ]
  },
  {
   "cell_type": "markdown",
   "id": "191e2b96",
   "metadata": {},
   "source": [
    "### When to Use FAMD\n",
    "\n",
    "FAMD is particularly useful when:\n",
    "1. **Dealing with Mixed Data Types**: FAMD helps in summarizing and visualizing the relationships between both numerical and categorical variables.\n",
    "2. **Reducing Dimensionality**: FAMD reduces the dimensionality of mixed-type data, making it easier to visualize and interpret.\n",
    "3. **Identifying Patterns**: FAMD can reveal patterns and associations between mixed-type variables that may not be apparent in the original data."
   ]
  },
  {
   "cell_type": "markdown",
   "id": "5089eb93",
   "metadata": {},
   "source": [
    "### Differences between PCA, MCA, and FAMD\n",
    "- **PCA**: Used for continuous numerical data to reduce dimensionality while preserving variance.\n",
    "- **MCA**: Used for categorical data to identify and visualize relationships between categories.\n",
    "- **FAMD**: A hybrid approach used for datasets with both numerical and categorical variables.\n",
    "\n",
    "Choosing the right method depends on the type of data you have and the goals of your analysis."
   ]
  },
  {
   "cell_type": "markdown",
   "id": "c6cd2162",
   "metadata": {},
   "source": [
    "## Implementation with Examples"
   ]
  },
  {
   "cell_type": "code",
   "execution_count": 34,
   "id": "c1f4c988",
   "metadata": {},
   "outputs": [
    {
     "name": "stdout",
     "output_type": "stream",
     "text": [
      "component         0         1\n",
      "0          1.909532 -0.300230\n",
      "1         -1.653416 -0.740893\n",
      "2          2.707287 -1.477057\n",
      "3         -2.250393 -1.278442\n",
      "4          0.217520  2.941282\n",
      "5          0.553466 -1.823660\n",
      "6          0.239204  1.492485\n",
      "7         -2.585880  1.679933\n",
      "8          2.161042  1.210071\n",
      "9         -1.298361 -1.703490\n"
     ]
    }
   ],
   "source": [
    "import pandas as pd\n",
    "import prince\n",
    "import matplotlib.pyplot as plt\n",
    "\n",
    "# Sample data\n",
    "data = {\n",
    "    'Numerical1': [1.0, 2.1, 1.2, 3.3, 2.5, 3.1, 4.2, 5.1, 3.6, 2.7],\n",
    "    'Numerical2': [3.2, 2.3, 4.1, 1.2, 2.0, 3.5, 2.8, 1.9, 3.4, 2.6],\n",
    "    'Categorical1': ['A', 'B', 'A', 'B', 'C', 'A', 'B', 'C', 'A', 'B'],\n",
    "    'Categorical2': ['X', 'X', 'Y', 'Y', 'Z', 'Y', 'Z', 'X', 'Z', 'Y'],\n",
    "    'Categorical3': ['M', 'F', 'M', 'F', 'M', 'F', 'M', 'F', 'M', 'F']\n",
    "}\n",
    "\n",
    "# Create a DataFrame\n",
    "df = pd.DataFrame(data)\n",
    "\n",
    "# Initialize FAMD\n",
    "famd = prince.FAMD(\n",
    "    n_components=2,\n",
    "    n_iter=3,\n",
    "    copy=True,\n",
    "    check_input=True,\n",
    "    engine='sklearn',  # Use 'sklearn' as the engine\n",
    "    random_state=42\n",
    ")\n",
    "\n",
    "# Fit the FAMD model\n",
    "famd = famd.fit(df)\n",
    "\n",
    "# Transform the data\n",
    "famd_transformed = famd.transform(df)\n",
    "\n",
    "# Display the results\n",
    "print(famd_transformed)"
   ]
  },
  {
   "cell_type": "code",
   "execution_count": 35,
   "id": "f8860569",
   "metadata": {},
   "outputs": [
    {
     "name": "stdout",
     "output_type": "stream",
     "text": [
      "Eigenvalues (amount of inertia explained by each component):\n",
      "[3.22272445 2.58478834]\n"
     ]
    }
   ],
   "source": [
    "# Print the eigenvalues to understand the amount of inertia explained by each component\n",
    "print(\"Eigenvalues (amount of inertia explained by each component):\")\n",
    "print(famd.eigenvalues_)"
   ]
  },
  {
   "cell_type": "code",
   "execution_count": 36,
   "id": "158bd7a6",
   "metadata": {},
   "outputs": [
    {
     "data": {
      "image/png": "[encoded data removed]",
      "text/plain": [
       "<Figure size 600x600 with 1 Axes>"
      ]
     },
     "metadata": {},
     "output_type": "display_data"
    }
   ],
   "source": [
    "# Plot the results using matplotlib\n",
    "plt.figure(figsize=(6, 6))\n",
    "plt.scatter(famd_transformed[0], famd_transformed[1])\n",
    "\n",
    "# Annotate points with their index\n",
    "for i, (x, y) in enumerate(zip(famd_transformed[0], famd_transformed[1])):\n",
    "    plt.text(x, y, str(i), fontsize=12)\n",
    "\n",
    "plt.xlabel('Component 1')\n",
    "plt.ylabel('Component 2')\n",
    "plt.title('FAMD Results')\n",
    "plt.grid(True)\n",
    "plt.show()"
   ]
  },
  {
   "cell_type": "code",
   "execution_count": 37,
   "id": "487cb034",
   "metadata": {},
   "outputs": [
    {
     "name": "stdout",
     "output_type": "stream",
     "text": [
      "Contribution of variables to the components:\n",
      "component            0         1\n",
      "variable                        \n",
      "Numerical1    0.085811  0.073341\n",
      "Numerical2    0.228898  0.029682\n",
      "Categorical1  0.215670  0.199824\n",
      "Categorical2  0.039613  0.308654\n",
      "Categorical3  0.201577  0.089507\n"
     ]
    }
   ],
   "source": [
    "# Display the contribution of variables to the components\n",
    "contributions = famd.column_contributions_\n",
    "print(\"Contribution of variables to the components:\")\n",
    "print(contributions)\n"
   ]
  },
  {
   "cell_type": "code",
   "execution_count": 38,
   "id": "7bffe159",
   "metadata": {},
   "outputs": [
    {
     "name": "stdout",
     "output_type": "stream",
     "text": [
      "Cosine Squared (cos^2) values for variables:\n",
      "<bound method FAMD.column_cosine_similarities_ of FAMD(random_state=42)>\n"
     ]
    }
   ],
   "source": [
    "# Display the cosine squared (cos^2) values to indicate the quality of representation of variables\n",
    "cos_squared = famd.column_cosine_similarities_\n",
    "print(\"Cosine Squared (cos^2) values for variables:\")\n",
    "print(cos_squared)\n"
   ]
  },
  {
   "cell_type": "markdown",
   "id": "19b0e46f",
   "metadata": {},
   "source": [
    "## Conclusion\n",
    "\n",
    "FAMD is a powerful technique for analyzing and visualizing mixed-type data. By reducing the dimensionality of the data, FAMD helps in uncovering patterns and relationships that may not be immediately apparent. Understanding the mathematical foundations and implementation of FAMD can greatly enhance your ability to work with heterogeneous datasets.\n",
    "\n",
    "Using tools like prince allows us to efficiently perform FAMD on large datasets, providing insights into the underlying structure of the data. Whether in marketing, social sciences, or other fields, FAMD is a valuable method for exploring and interpreting mixed-type data."
   ]
  }
 ],
 "metadata": {
  "kernelspec": {
   "display_name": "Python 3 (ipykernel)",
   "language": "python",
   "name": "python3"
  },
  "language_info": {
   "codemirror_mode": {
    "name": "ipython",
    "version": 3
   },
   "file_extension": ".py",
   "mimetype": "text/x-python",
   "name": "python",
   "nbconvert_exporter": "python",
   "pygments_lexer": "ipython3",
   "version": "3.11.5"
  }
 },
 "nbformat": 4,
 "nbformat_minor": 5
}
