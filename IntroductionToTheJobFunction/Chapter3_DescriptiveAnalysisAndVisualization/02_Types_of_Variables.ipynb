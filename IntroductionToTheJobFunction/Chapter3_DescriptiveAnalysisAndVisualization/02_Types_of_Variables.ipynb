{
 "cells": [
  {
   "cell_type": "markdown",
   "id": "cfbf5369",
   "metadata": {},
   "source": [
    "# 2. Types of Variables\n",
    "\n",
    "## 2.1 Qualitative Variables\n",
    "\n",
    "- A variable is called qualitative if its values are not measurable.\n",
    "- Gender, profession, and marital status are some examples of qualitative variables. The values of a qualitative variable are called categories.\n",
    "- A qualitative variable is called nominal if its categories are not naturally ordered. For example, in a population of working people, profession is a nominal variable.\n",
    "- A qualitative variable is called ordinal if its categories follow a natural order. For example, a disease can be categorized as mild, moderate, or severe. These values can be ordered: mild < moderate < severe.\n",
    "\n",
    "## 2.2 Quantitative Variables\n",
    "\n",
    "- A variable is called quantitative if its values are measurable and numerical.\n",
    "- A quantitative variable is called discrete if it can take only values that can be enumerated.\n",
    "- A quantitative variable is called continuous if its potential values cannot be enumerated.\n",
    "- Binary variables are discrete quantitative variables with specific properties.\n",
    "\n",
    "### Binary Quantitative Variables\n",
    "\n",
    "- **Symmetric**: A binary variable is symmetric if its two categories have the same importance, meaning they can be coded indifferently by 0 or 1. For example, the variable gender is symmetric because it can be coded as 0 or 1 for male or female without any difference.\n",
    "- **Asymmetric**: A binary variable is asymmetric if its two categories do not have the same importance. For example, the result of a medical test cannot be coded as 0 if the test is positive and 1 if the test is negative due to the importance of the expected test result.\n",
    "\n",
    "## Modifying the Dataset\n",
    "\n",
    "We will now modify the dataset created in `01_Data` to include all types of variables. Then we will display the types of the variables using `.dtypes` and `.info()`."
   ]
  },
  {
   "cell_type": "code",
   "execution_count": 1,
   "id": "4eff2e38",
   "metadata": {},
   "outputs": [
    {
     "data": {
      "text/html": [
       "<div>\n",
       "<style scoped>\n",
       "    .dataframe tbody tr th:only-of-type {\n",
       "        vertical-align: middle;\n",
       "    }\n",
       "\n",
       "    .dataframe tbody tr th {\n",
       "        vertical-align: top;\n",
       "    }\n",
       "\n",
       "    .dataframe thead th {\n",
       "        text-align: right;\n",
       "    }\n",
       "</style>\n",
       "<table border=\"1\" class=\"dataframe\">\n",
       "  <thead>\n",
       "    <tr style=\"text-align: right;\">\n",
       "      <th></th>\n",
       "      <th>Name</th>\n",
       "      <th>Gender</th>\n",
       "      <th>Department</th>\n",
       "      <th>Age</th>\n",
       "      <th>Salary</th>\n",
       "      <th>Years of Experience</th>\n",
       "      <th>Marital Status</th>\n",
       "      <th>Disease Severity</th>\n",
       "      <th>Test Result</th>\n",
       "    </tr>\n",
       "  </thead>\n",
       "  <tbody>\n",
       "    <tr>\n",
       "      <th>0</th>\n",
       "      <td>Alice</td>\n",
       "      <td>Female</td>\n",
       "      <td>HR</td>\n",
       "      <td>25</td>\n",
       "      <td>50000</td>\n",
       "      <td>2</td>\n",
       "      <td>Single</td>\n",
       "      <td>Mild</td>\n",
       "      <td>1</td>\n",
       "    </tr>\n",
       "    <tr>\n",
       "      <th>1</th>\n",
       "      <td>Bob</td>\n",
       "      <td>Male</td>\n",
       "      <td>Engineering</td>\n",
       "      <td>30</td>\n",
       "      <td>60000</td>\n",
       "      <td>5</td>\n",
       "      <td>Married</td>\n",
       "      <td>Moderate</td>\n",
       "      <td>0</td>\n",
       "    </tr>\n",
       "    <tr>\n",
       "      <th>2</th>\n",
       "      <td>Charlie</td>\n",
       "      <td>Male</td>\n",
       "      <td>Marketing</td>\n",
       "      <td>35</td>\n",
       "      <td>70000</td>\n",
       "      <td>10</td>\n",
       "      <td>Married</td>\n",
       "      <td>Severe</td>\n",
       "      <td>0</td>\n",
       "    </tr>\n",
       "    <tr>\n",
       "      <th>3</th>\n",
       "      <td>David</td>\n",
       "      <td>Male</td>\n",
       "      <td>Engineering</td>\n",
       "      <td>40</td>\n",
       "      <td>80000</td>\n",
       "      <td>15</td>\n",
       "      <td>Single</td>\n",
       "      <td>Mild</td>\n",
       "      <td>1</td>\n",
       "    </tr>\n",
       "    <tr>\n",
       "      <th>4</th>\n",
       "      <td>Eva</td>\n",
       "      <td>Female</td>\n",
       "      <td>HR</td>\n",
       "      <td>28</td>\n",
       "      <td>52000</td>\n",
       "      <td>3</td>\n",
       "      <td>Single</td>\n",
       "      <td>Moderate</td>\n",
       "      <td>1</td>\n",
       "    </tr>\n",
       "  </tbody>\n",
       "</table>\n",
       "</div>"
      ],
      "text/plain": [
       "      Name  Gender   Department  Age  Salary  Years of Experience  \\\n",
       "0    Alice  Female           HR   25   50000                    2   \n",
       "1      Bob    Male  Engineering   30   60000                    5   \n",
       "2  Charlie    Male    Marketing   35   70000                   10   \n",
       "3    David    Male  Engineering   40   80000                   15   \n",
       "4      Eva  Female           HR   28   52000                    3   \n",
       "\n",
       "  Marital Status Disease Severity  Test Result  \n",
       "0         Single             Mild            1  \n",
       "1        Married         Moderate            0  \n",
       "2        Married           Severe            0  \n",
       "3         Single             Mild            1  \n",
       "4         Single         Moderate            1  "
      ]
     },
     "execution_count": 1,
     "metadata": {},
     "output_type": "execute_result"
    }
   ],
   "source": [
    "# Importing the necessary library\n",
    "import pandas as pd\n",
    "\n",
    "# Creating the modified dataset\n",
    "data = {\n",
    "    'Name': ['Alice', 'Bob', 'Charlie', 'David', 'Eva'],\n",
    "    'Gender': ['Female', 'Male', 'Male', 'Male', 'Female'],\n",
    "    'Department': ['HR', 'Engineering', 'Marketing', 'Engineering', 'HR'],\n",
    "    'Age': [25, 30, 35, 40, 28],\n",
    "    'Salary': [50000, 60000, 70000, 80000, 52000],\n",
    "    'Years of Experience': [2, 5, 10, 15, 3],\n",
    "    'Marital Status': ['Single', 'Married', 'Married', 'Single', 'Single'],  # Qualitative Nominal\n",
    "    'Disease Severity': ['Mild', 'Moderate', 'Severe', 'Mild', 'Moderate'],  # Qualitative Ordinal\n",
    "    'Test Result': [1, 0, 0, 1, 1]  # Binary Quantitative Asymmetric\n",
    "}\n",
    "\n",
    "# Creating a DataFrame\n",
    "df = pd.DataFrame(data)\n",
    "\n",
    "# Displaying the DataFrame\n",
    "df\n"
   ]
  },
  {
   "cell_type": "code",
   "execution_count": 2,
   "id": "a98b3d53",
   "metadata": {},
   "outputs": [
    {
     "data": {
      "text/plain": [
       "Name                   object\n",
       "Gender                 object\n",
       "Department             object\n",
       "Age                     int64\n",
       "Salary                  int64\n",
       "Years of Experience     int64\n",
       "Marital Status         object\n",
       "Disease Severity       object\n",
       "Test Result             int64\n",
       "dtype: object"
      ]
     },
     "execution_count": 2,
     "metadata": {},
     "output_type": "execute_result"
    }
   ],
   "source": [
    "# Displaying the types of variables\n",
    "df.dtypes"
   ]
  },
  {
   "cell_type": "code",
   "execution_count": 3,
   "id": "612def39",
   "metadata": {},
   "outputs": [
    {
     "name": "stdout",
     "output_type": "stream",
     "text": [
      "<class 'pandas.core.frame.DataFrame'>\n",
      "RangeIndex: 5 entries, 0 to 4\n",
      "Data columns (total 9 columns):\n",
      " #   Column               Non-Null Count  Dtype \n",
      "---  ------               --------------  ----- \n",
      " 0   Name                 5 non-null      object\n",
      " 1   Gender               5 non-null      object\n",
      " 2   Department           5 non-null      object\n",
      " 3   Age                  5 non-null      int64 \n",
      " 4   Salary               5 non-null      int64 \n",
      " 5   Years of Experience  5 non-null      int64 \n",
      " 6   Marital Status       5 non-null      object\n",
      " 7   Disease Severity     5 non-null      object\n",
      " 8   Test Result          5 non-null      int64 \n",
      "dtypes: int64(4), object(5)\n",
      "memory usage: 492.0+ bytes\n"
     ]
    }
   ],
   "source": [
    "# Displaying information about the DataFrame\n",
    "df.info()"
   ]
  },
  {
   "cell_type": "markdown",
   "id": "200eaaed",
   "metadata": {},
   "source": [
    "## Exercise\n",
    "\n",
    "Determine the types of the following variables in the dataset. Are they qualitative or quantitative? If they are binary, are they symmetric or asymmetric?\n",
    "\n",
    "- **Name**\n",
    "- **Gender**\n",
    "- **Department**\n",
    "- **Age**\n",
    "- **Salary**\n",
    "- **Years of Experience**\n",
    "- **Marital Status**\n",
    "- **Disease Severity**\n",
    "- **Test Result**"
   ]
  }
 ],
 "metadata": {
  "kernelspec": {
   "display_name": "Python 3 (ipykernel)",
   "language": "python",
   "name": "python3"
  },
  "language_info": {
   "codemirror_mode": {
    "name": "ipython",
    "version": 3
   },
   "file_extension": ".py",
   "mimetype": "text/x-python",
   "name": "python",
   "nbconvert_exporter": "python",
   "pygments_lexer": "ipython3",
   "version": "3.11.5"
  }
 },
 "nbformat": 4,
 "nbformat_minor": 5
}
