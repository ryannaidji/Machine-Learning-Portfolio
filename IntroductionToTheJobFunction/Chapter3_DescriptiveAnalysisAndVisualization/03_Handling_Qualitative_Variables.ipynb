{
 "cells": [
  {
   "cell_type": "markdown",
   "id": "ca414e4c",
   "metadata": {},
   "source": [
    "# Handling Qualitative Variables\n",
    "\n",
    "## Description of Qualitative Variables\n",
    "\n",
    "Consider an individual described by a qualitative variable $x$ that can take $c$ categories $(a_1, a_2, ..., a_i, ..., a_c)$.\n",
    "\n",
    "### Frequency (Count)\n",
    "The count, also called absolute frequency, is the number of individuals $n_i$ for which the variable $x$ has the category $a_i$.\n",
    "\n",
    "### Relative Frequency\n",
    "The relative frequency of a category is the ratio between the count and the total number of individuals.\n",
    "\n",
    "$f_i = \\frac{n_i}{N}$\n",
    "\n",
    "\n",
    "Where $N$ is the total number of individuals.\n",
    "\n",
    "## Graphical Representation\n",
    "\n",
    "We will use Matplotlib to create graphical representations of qualitative data. Matplotlib is a powerful plotting library in Python."
   ]
  },
  {
   "cell_type": "code",
   "execution_count": 11,
   "id": "29e28e16",
   "metadata": {},
   "outputs": [
    {
     "data": {
      "text/html": [
       "<div>\n",
       "<style scoped>\n",
       "    .dataframe tbody tr th:only-of-type {\n",
       "        vertical-align: middle;\n",
       "    }\n",
       "\n",
       "    .dataframe tbody tr th {\n",
       "        vertical-align: top;\n",
       "    }\n",
       "\n",
       "    .dataframe thead th {\n",
       "        text-align: right;\n",
       "    }\n",
       "</style>\n",
       "<table border=\"1\" class=\"dataframe\">\n",
       "  <thead>\n",
       "    <tr style=\"text-align: right;\">\n",
       "      <th></th>\n",
       "      <th>Name</th>\n",
       "      <th>Gender</th>\n",
       "      <th>Department</th>\n",
       "      <th>Age</th>\n",
       "      <th>Salary</th>\n",
       "      <th>Years of Experience</th>\n",
       "      <th>Marital Status</th>\n",
       "      <th>Disease Severity</th>\n",
       "      <th>Test Result</th>\n",
       "    </tr>\n",
       "  </thead>\n",
       "  <tbody>\n",
       "    <tr>\n",
       "      <th>0</th>\n",
       "      <td>Alice</td>\n",
       "      <td>Female</td>\n",
       "      <td>HR</td>\n",
       "      <td>25</td>\n",
       "      <td>50000</td>\n",
       "      <td>2</td>\n",
       "      <td>Single</td>\n",
       "      <td>Mild</td>\n",
       "      <td>1</td>\n",
       "    </tr>\n",
       "    <tr>\n",
       "      <th>1</th>\n",
       "      <td>Bob</td>\n",
       "      <td>Male</td>\n",
       "      <td>Engineering</td>\n",
       "      <td>30</td>\n",
       "      <td>60000</td>\n",
       "      <td>5</td>\n",
       "      <td>Married</td>\n",
       "      <td>Moderate</td>\n",
       "      <td>0</td>\n",
       "    </tr>\n",
       "    <tr>\n",
       "      <th>2</th>\n",
       "      <td>Charlie</td>\n",
       "      <td>Male</td>\n",
       "      <td>Marketing</td>\n",
       "      <td>35</td>\n",
       "      <td>70000</td>\n",
       "      <td>10</td>\n",
       "      <td>Married</td>\n",
       "      <td>Severe</td>\n",
       "      <td>0</td>\n",
       "    </tr>\n",
       "    <tr>\n",
       "      <th>3</th>\n",
       "      <td>David</td>\n",
       "      <td>Male</td>\n",
       "      <td>Engineering</td>\n",
       "      <td>40</td>\n",
       "      <td>80000</td>\n",
       "      <td>15</td>\n",
       "      <td>Single</td>\n",
       "      <td>Mild</td>\n",
       "      <td>1</td>\n",
       "    </tr>\n",
       "    <tr>\n",
       "      <th>4</th>\n",
       "      <td>Eva</td>\n",
       "      <td>Female</td>\n",
       "      <td>HR</td>\n",
       "      <td>28</td>\n",
       "      <td>52000</td>\n",
       "      <td>3</td>\n",
       "      <td>Single</td>\n",
       "      <td>Moderate</td>\n",
       "      <td>1</td>\n",
       "    </tr>\n",
       "  </tbody>\n",
       "</table>\n",
       "</div>"
      ],
      "text/plain": [
       "      Name  Gender   Department  Age  Salary  Years of Experience  \\\n",
       "0    Alice  Female           HR   25   50000                    2   \n",
       "1      Bob    Male  Engineering   30   60000                    5   \n",
       "2  Charlie    Male    Marketing   35   70000                   10   \n",
       "3    David    Male  Engineering   40   80000                   15   \n",
       "4      Eva  Female           HR   28   52000                    3   \n",
       "\n",
       "  Marital Status Disease Severity  Test Result  \n",
       "0         Single             Mild            1  \n",
       "1        Married         Moderate            0  \n",
       "2        Married           Severe            0  \n",
       "3         Single             Mild            1  \n",
       "4         Single         Moderate            1  "
      ]
     },
     "execution_count": 11,
     "metadata": {},
     "output_type": "execute_result"
    }
   ],
   "source": [
    "# Importing the necessary libraries\n",
    "import pandas as pd\n",
    "import matplotlib.pyplot as plt\n",
    "\n",
    "# Creating the modified dataset from the previous notebook\n",
    "data = {\n",
    "    'Name': ['Alice', 'Bob', 'Charlie', 'David', 'Eva'],\n",
    "    'Gender': ['Female', 'Male', 'Male', 'Male', 'Female'],\n",
    "    'Department': ['HR', 'Engineering', 'Marketing', 'Engineering', 'HR'],\n",
    "    'Age': [25, 30, 35, 40, 28],\n",
    "    'Salary': [50000, 60000, 70000, 80000, 52000],\n",
    "    'Years of Experience': [2, 5, 10, 15, 3],\n",
    "    'Marital Status': ['Single', 'Married', 'Married', 'Single', 'Single'],\n",
    "    'Disease Severity': ['Mild', 'Moderate', 'Severe', 'Mild', 'Moderate'],\n",
    "    'Test Result': [1, 0, 0, 1, 1]\n",
    "}\n",
    "\n",
    "# Creating a DataFrame\n",
    "df = pd.DataFrame(data)\n",
    "\n",
    "# Displaying the DataFrame\n",
    "df\n"
   ]
  },
  {
   "cell_type": "markdown",
   "id": "2a89052c",
   "metadata": {},
   "source": [
    "### Bar Chart\n",
    "A bar chart is a graphical representation of the distribution of a qualitative variable using vertical or horizontal bars. It is similar to a histogram, but the histogram is used for quantitative variables while the bar chart is used for qualitative variables."
   ]
  },
  {
   "cell_type": "code",
   "execution_count": 12,
   "id": "fe27a48a",
   "metadata": {},
   "outputs": [
    {
     "data": {
      "image/png": "[encoded data removed]",
      "text/plain": [
       "<Figure size 800x500 with 1 Axes>"
      ]
     },
     "metadata": {},
     "output_type": "display_data"
    }
   ],
   "source": [
    "# Bar Chart for 'Gender'\n",
    "gender_counts = df['Gender'].value_counts()\n",
    "\n",
    "plt.figure(figsize=(8, 5))\n",
    "gender_counts.plot(kind='bar', color=['skyblue', 'lightgreen'])\n",
    "plt.title('Gender Distribution')\n",
    "plt.xlabel('Gender')\n",
    "plt.ylabel('Count')\n",
    "plt.show()"
   ]
  },
  {
   "cell_type": "markdown",
   "id": "7a472ba1",
   "metadata": {},
   "source": [
    "### Pie Chart\n",
    "A pie chart is a graphical representation of qualitative data in the form of a disk divided into sectors. Each sector corresponds to a category, and the size of each sector is proportional to the frequency of the category."
   ]
  },
  {
   "cell_type": "code",
   "execution_count": 13,
   "id": "261f6a7b",
   "metadata": {},
   "outputs": [
    {
     "data": {
      "image/png": "[encoded data removed]",
      "text/plain": [
       "<Figure size 800x800 with 1 Axes>"
      ]
     },
     "metadata": {},
     "output_type": "display_data"
    }
   ],
   "source": [
    "# Pie Chart for 'Department'\n",
    "department_counts = df['Department'].value_counts()\n",
    "\n",
    "plt.figure(figsize=(8, 8))\n",
    "department_counts.plot(kind='pie', autopct='%1.1f%%', startangle=90, colors=['lightcoral', 'lightskyblue', 'lightgreen'])\n",
    "plt.title('Department Distribution')\n",
    "plt.ylabel('')\n",
    "plt.show()"
   ]
  },
  {
   "cell_type": "markdown",
   "id": "2dd7e8d1",
   "metadata": {},
   "source": [
    "## Example of Frequency and Relative Frequency\n",
    "\n",
    "The table above shows the count and relative frequency of each category in the 'Gender' variable.\n",
    "\n",
    "- **Count**: The number of individuals for each category (absolute frequency).\n",
    "- **Relative Frequency**: The ratio of the count to the total number of individuals.\n"
   ]
  },
  {
   "cell_type": "code",
   "execution_count": 14,
   "id": "c99ee79d",
   "metadata": {},
   "outputs": [
    {
     "data": {
      "text/html": [
       "<div>\n",
       "<style scoped>\n",
       "    .dataframe tbody tr th:only-of-type {\n",
       "        vertical-align: middle;\n",
       "    }\n",
       "\n",
       "    .dataframe tbody tr th {\n",
       "        vertical-align: top;\n",
       "    }\n",
       "\n",
       "    .dataframe thead th {\n",
       "        text-align: right;\n",
       "    }\n",
       "</style>\n",
       "<table border=\"1\" class=\"dataframe\">\n",
       "  <thead>\n",
       "    <tr style=\"text-align: right;\">\n",
       "      <th></th>\n",
       "      <th>Count</th>\n",
       "      <th>Relative Frequency</th>\n",
       "    </tr>\n",
       "  </thead>\n",
       "  <tbody>\n",
       "    <tr>\n",
       "      <th>Male</th>\n",
       "      <td>3</td>\n",
       "      <td>0.6</td>\n",
       "    </tr>\n",
       "    <tr>\n",
       "      <th>Female</th>\n",
       "      <td>2</td>\n",
       "      <td>0.4</td>\n",
       "    </tr>\n",
       "  </tbody>\n",
       "</table>\n",
       "</div>"
      ],
      "text/plain": [
       "        Count  Relative Frequency\n",
       "Male        3                 0.6\n",
       "Female      2                 0.4"
      ]
     },
     "execution_count": 14,
     "metadata": {},
     "output_type": "execute_result"
    }
   ],
   "source": [
    "# Calculating frequency (count) and relative frequency for 'Gender'\n",
    "gender_counts = df['Gender'].value_counts()\n",
    "gender_relative_freq = df['Gender'].value_counts(normalize=True)\n",
    "\n",
    "# Combining the counts and relative frequencies into a DataFrame\n",
    "gender_freq_df = pd.DataFrame({'Count': gender_counts, 'Relative Frequency': gender_relative_freq})\n",
    "\n",
    "# Displaying the frequency DataFrame\n",
    "gender_freq_df"
   ]
  }
 ],
 "metadata": {
  "kernelspec": {
   "display_name": "Python 3 (ipykernel)",
   "language": "python",
   "name": "python3"
  },
  "language_info": {
   "codemirror_mode": {
    "name": "ipython",
    "version": 3
   },
   "file_extension": ".py",
   "mimetype": "text/x-python",
   "name": "python",
   "nbconvert_exporter": "python",
   "pygments_lexer": "ipython3",
   "version": "3.11.5"
  }
 },
 "nbformat": 4,
 "nbformat_minor": 5
}
