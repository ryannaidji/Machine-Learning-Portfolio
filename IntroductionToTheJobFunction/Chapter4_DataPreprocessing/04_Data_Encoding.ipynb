{
 "cells": [
  {
   "cell_type": "markdown",
   "id": "610389aa",
   "metadata": {},
   "source": [
    "# 5. Data Encoding\n",
    "\n",
    "In this notebook, we will explain why data encoding is necessary and provide examples of One-Hot Encoding and Label Encoding.\n",
    "\n",
    "## Why Data Encoding?\n",
    "\n",
    "- The presence of qualitative variables (which take modalities) often complicates machine learning algorithms.\n",
    "- Most machine learning algorithms take numerical values as input, so we need to find a way to transform these modalities into numerical data."
   ]
  },
  {
   "cell_type": "markdown",
   "id": "52db9d09",
   "metadata": {},
   "source": [
    "## One-Hot Encoding\n",
    "\n",
    "- One-Hot Encoding (or 1-of-N encoding) is common in machine learning.\n",
    "- It involves encoding a variable with n labels on n bits, where the modality taken by the variable takes the value 1, and the others are set to 0.\n",
    "- **Advantage**: Ease of application.\n",
    "- **Disadvantage**: The disadvantage is the memory size of the variable since it uses as many bits as there are modalities.\n",
    "\n",
    "Let's demonstrate One-Hot Encoding with a generated DataFrame."
   ]
  },
  {
   "cell_type": "code",
   "execution_count": 5,
   "id": "124c486e",
   "metadata": {},
   "outputs": [],
   "source": [
    "import pandas as pd\n",
    "from sklearn.preprocessing import OneHotEncoder\n",
    "\n",
    "# Creating a sample DataFrame\n",
    "data = {\n",
    "    'Country': ['France', 'Spain', 'Germany', 'Spain', 'Germany', 'France', 'Spain']\n",
    "}\n",
    "\n",
    "df = pd.DataFrame(data)"
   ]
  },
  {
   "cell_type": "code",
   "execution_count": 6,
   "id": "cd749126",
   "metadata": {},
   "outputs": [
    {
     "name": "stdout",
     "output_type": "stream",
     "text": [
      "Original DataFrame:\n",
      "    Country\n",
      "0   France\n",
      "1    Spain\n",
      "2  Germany\n",
      "3    Spain\n",
      "4  Germany\n",
      "5   France\n",
      "6    Spain\n",
      "\n",
      "One-Hot Encoded DataFrame:\n",
      "    Country_France  Country_Germany  Country_Spain\n",
      "0             1.0              0.0            0.0\n",
      "1             0.0              0.0            1.0\n",
      "2             0.0              1.0            0.0\n",
      "3             0.0              0.0            1.0\n",
      "4             0.0              1.0            0.0\n",
      "5             1.0              0.0            0.0\n",
      "6             0.0              0.0            1.0\n"
     ]
    }
   ],
   "source": [
    "# One-Hot Encoding\n",
    "encoder = OneHotEncoder(sparse=False)\n",
    "one_hot_encoded = encoder.fit_transform(df[['Country']])\n",
    "\n",
    "df_one_hot_encoded = pd.DataFrame(one_hot_encoded, columns=encoder.get_feature_names_out(['Country']))\n",
    "\n",
    "print(\"Original DataFrame:\\n\", df)\n",
    "print(\"\\nOne-Hot Encoded DataFrame:\\n\", df_one_hot_encoded)\n"
   ]
  },
  {
   "cell_type": "markdown",
   "id": "0a367f1c",
   "metadata": {},
   "source": [
    "## Label Encoding\n",
    "\n",
    "- Label Encoding involves converting labels (qualitative variables) into a quantitative form to make them readable by the machine.\n",
    "\n",
    "Let's demonstrate Label Encoding with a generated DataFrame."
   ]
  },
  {
   "cell_type": "code",
   "execution_count": 7,
   "id": "73868227",
   "metadata": {},
   "outputs": [
    {
     "name": "stdout",
     "output_type": "stream",
     "text": [
      "Original DataFrame:\n",
      "    Country\n",
      "0   France\n",
      "1    Spain\n",
      "2  Germany\n",
      "3    Spain\n",
      "4  Germany\n",
      "5   France\n",
      "6    Spain\n",
      "\n",
      "Label Encoded DataFrame:\n",
      "    Country\n",
      "0        0\n",
      "1        2\n",
      "2        1\n",
      "3        2\n",
      "4        1\n",
      "5        0\n",
      "6        2\n"
     ]
    }
   ],
   "source": [
    "from sklearn.preprocessing import LabelEncoder\n",
    "\n",
    "# Label Encoding\n",
    "label_encoder = LabelEncoder()\n",
    "label_encoded = label_encoder.fit_transform(df['Country'])\n",
    "\n",
    "df_label_encoded = df.copy()\n",
    "df_label_encoded['Country'] = label_encoded\n",
    "\n",
    "print(\"Original DataFrame:\\n\", df)\n",
    "print(\"\\nLabel Encoded DataFrame:\\n\", df_label_encoded)"
   ]
  }
 ],
 "metadata": {
  "kernelspec": {
   "display_name": "Python 3 (ipykernel)",
   "language": "python",
   "name": "python3"
  },
  "language_info": {
   "codemirror_mode": {
    "name": "ipython",
    "version": 3
   },
   "file_extension": ".py",
   "mimetype": "text/x-python",
   "name": "python",
   "nbconvert_exporter": "python",
   "pygments_lexer": "ipython3",
   "version": "3.11.5"
  }
 },
 "nbformat": 4,
 "nbformat_minor": 5
}
