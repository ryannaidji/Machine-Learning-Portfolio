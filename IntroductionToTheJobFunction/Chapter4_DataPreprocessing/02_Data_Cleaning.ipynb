{
 "cells": [
  {
   "cell_type": "markdown",
   "id": "a3baad12",
   "metadata": {},
   "source": [
    "# 2. Data Cleaning\n",
    "\n",
    "In this notebook, we will cover the essential concepts and methods for cleaning data. We will start by defining missing data and outliers, followed by various techniques to handle them."
   ]
  },
  {
   "cell_type": "markdown",
   "id": "25596331",
   "metadata": {},
   "source": [
    "## Missing Data\n",
    "\n",
    "### What is Missing Data?\n",
    "\n",
    "- Missing data (missed data) are incomplete data, meaning that some variables are unknown.\n",
    "- Examples:\n",
    "  - A patient may be withdrawn from a clinical study if their condition is not well controlled, leading to a loss of data.\n",
    "  - A data acquisition problem occurs during collection, so one or more variables cannot be measured.\n",
    "\n",
    "Let's create a simple DataFrame with some missing values and explore the methods to detect them using `isnull()` and `isna()`.\n"
   ]
  },
  {
   "cell_type": "code",
   "execution_count": 6,
   "id": "dd4df11c",
   "metadata": {},
   "outputs": [
    {
     "data": {
      "text/html": [
       "<div>\n",
       "<style scoped>\n",
       "    .dataframe tbody tr th:only-of-type {\n",
       "        vertical-align: middle;\n",
       "    }\n",
       "\n",
       "    .dataframe tbody tr th {\n",
       "        vertical-align: top;\n",
       "    }\n",
       "\n",
       "    .dataframe thead th {\n",
       "        text-align: right;\n",
       "    }\n",
       "</style>\n",
       "<table border=\"1\" class=\"dataframe\">\n",
       "  <thead>\n",
       "    <tr style=\"text-align: right;\">\n",
       "      <th></th>\n",
       "      <th>Age</th>\n",
       "      <th>Salary</th>\n",
       "      <th>Experience</th>\n",
       "    </tr>\n",
       "  </thead>\n",
       "  <tbody>\n",
       "    <tr>\n",
       "      <th>0</th>\n",
       "      <td>25.0</td>\n",
       "      <td>50000.0</td>\n",
       "      <td>2.0</td>\n",
       "    </tr>\n",
       "    <tr>\n",
       "      <th>1</th>\n",
       "      <td>30.0</td>\n",
       "      <td>60000.0</td>\n",
       "      <td>NaN</td>\n",
       "    </tr>\n",
       "    <tr>\n",
       "      <th>2</th>\n",
       "      <td>35.0</td>\n",
       "      <td>NaN</td>\n",
       "      <td>NaN</td>\n",
       "    </tr>\n",
       "    <tr>\n",
       "      <th>3</th>\n",
       "      <td>38.0</td>\n",
       "      <td>70000.0</td>\n",
       "      <td>5.0</td>\n",
       "    </tr>\n",
       "    <tr>\n",
       "      <th>4</th>\n",
       "      <td>40.0</td>\n",
       "      <td>80000.0</td>\n",
       "      <td>NaN</td>\n",
       "    </tr>\n",
       "    <tr>\n",
       "      <th>5</th>\n",
       "      <td>45.0</td>\n",
       "      <td>NaN</td>\n",
       "      <td>10.0</td>\n",
       "    </tr>\n",
       "    <tr>\n",
       "      <th>6</th>\n",
       "      <td>NaN</td>\n",
       "      <td>90000.0</td>\n",
       "      <td>12.0</td>\n",
       "    </tr>\n",
       "  </tbody>\n",
       "</table>\n",
       "</div>"
      ],
      "text/plain": [
       "    Age   Salary  Experience\n",
       "0  25.0  50000.0         2.0\n",
       "1  30.0  60000.0         NaN\n",
       "2  35.0      NaN         NaN\n",
       "3  38.0  70000.0         5.0\n",
       "4  40.0  80000.0         NaN\n",
       "5  45.0      NaN        10.0\n",
       "6   NaN  90000.0        12.0"
      ]
     },
     "execution_count": 6,
     "metadata": {},
     "output_type": "execute_result"
    }
   ],
   "source": [
    "import pandas as pd\n",
    "import numpy as np\n",
    "\n",
    "# Creating a sample DataFrame with missing values\n",
    "data = {\n",
    "    'Age': [25, 30, 35, 38, 40, 45, np.nan],\n",
    "    'Salary': [50000, 60000, np.nan, 70000, 80000, np.nan, 90000],\n",
    "    'Experience': [2, np.nan, np.nan, 5, np.nan, 10, 12]\n",
    "}\n",
    "\n",
    "df = pd.DataFrame(data)\n",
    "\n",
    "df"
   ]
  },
  {
   "cell_type": "code",
   "execution_count": 7,
   "id": "49821412",
   "metadata": {},
   "outputs": [
    {
     "name": "stdout",
     "output_type": "stream",
     "text": [
      "\n",
      "Missing Data:\n",
      "      Age  Salary  Experience\n",
      "0  False   False       False\n",
      "1  False   False        True\n",
      "2  False    True        True\n",
      "3  False   False       False\n",
      "4  False   False        True\n",
      "5  False    True       False\n",
      "6   True   False       False\n"
     ]
    }
   ],
   "source": [
    "# Detecting missing values\n",
    "missing_data = df.isnull()\n",
    "print(\"\\nMissing Data:\\n\", missing_data)"
   ]
  },
  {
   "cell_type": "code",
   "execution_count": 8,
   "id": "26537377",
   "metadata": {},
   "outputs": [
    {
     "name": "stdout",
     "output_type": "stream",
     "text": [
      "\n",
      "Sum of Missing Data:\n",
      " Age           1\n",
      "Salary        2\n",
      "Experience    3\n",
      "dtype: int64\n"
     ]
    }
   ],
   "source": [
    "missing_data_sum = df.isna().sum()\n",
    "print(\"\\nSum of Missing Data:\\n\", missing_data_sum)"
   ]
  },
  {
   "cell_type": "markdown",
   "id": "b760b5b4",
   "metadata": {},
   "source": [
    "## Handling Missing Data\n",
    "\n",
    "- Missing data cannot be automatically processed in a single manner. Their treatment depends on their proportion relative to the entire dataset.\n",
    "- The repair of a dataset containing missing data can take two main forms:\n",
    "  - Removing the missing data = Deletion\n",
    "  - Replacing the missing values with artificial values = Imputation\n",
    "\n",
    "### Deletion of Missing Data\n",
    "\n",
    "- Missing data are removed if their proportion in the dataset is small.\n",
    "- This method allows us to consider only individuals who have no missing values in the selected variables for machine learning.\n",
    "- Disadvantage: Loss of data samples, especially when the dataset is small.\n",
    "\n",
    "Let's demonstrate this using the sample DataFrame."
   ]
  },
  {
   "cell_type": "code",
   "execution_count": 9,
   "id": "39899eff",
   "metadata": {},
   "outputs": [
    {
     "name": "stdout",
     "output_type": "stream",
     "text": [
      "Data after deleting rows with missing values:\n",
      "     Age   Salary  Experience\n",
      "0  25.0  50000.0         2.0\n",
      "3  38.0  70000.0         5.0\n"
     ]
    }
   ],
   "source": [
    "# Deleting rows with missing values\n",
    "df_dropped = df.dropna()\n",
    "print(\"Data after deleting rows with missing values:\\n\", df_dropped)"
   ]
  },
  {
   "cell_type": "markdown",
   "id": "8e409cb8",
   "metadata": {},
   "source": [
    "### Imputation of Missing Data\n",
    "\n",
    "- Imputation of missing data refers to replacing the missing values in the dataset with artificial values.\n",
    "- Ideally, these replacements should not significantly alter the distribution and composition of the dataset.\n",
    "- Approaches to imputation:\n",
    "  - Imputation with a statistical value\n",
    "  - Imputation using k-nearest neighbors\n",
    "  - Iterative imputation\n",
    "\n",
    "#### Imputation with a Statistical Value\n",
    "\n",
    "- For quantitative data, missing data can be imputed with:\n",
    "  - A constant value\n",
    "  - The mean of the variable\n",
    "  - The median of the variable\n",
    "- For qualitative data, missing data can be imputed with the mode.\n",
    "\n",
    "Let's demonstrate imputation using the mean and median."
   ]
  },
  {
   "cell_type": "code",
   "execution_count": 10,
   "id": "6ad5f0f3",
   "metadata": {},
   "outputs": [
    {
     "name": "stdout",
     "output_type": "stream",
     "text": [
      "Data after mean imputation:\n",
      "     Age   Salary  Experience\n",
      "0  25.0  50000.0        2.00\n",
      "1  30.0  60000.0        7.25\n",
      "2  35.0  70000.0        7.25\n",
      "3  38.0  70000.0        5.00\n",
      "4  40.0  80000.0        7.25\n",
      "5  45.0  70000.0       10.00\n",
      "6  35.5  90000.0       12.00\n",
      "Data after median imputation:\n",
      "     Age   Salary  Experience\n",
      "0  25.0  50000.0         2.0\n",
      "1  30.0  60000.0         7.5\n",
      "2  35.0  70000.0         7.5\n",
      "3  38.0  70000.0         5.0\n",
      "4  40.0  80000.0         7.5\n",
      "5  45.0  70000.0        10.0\n",
      "6  36.5  90000.0        12.0\n"
     ]
    }
   ],
   "source": [
    "# Imputation using the mean\n",
    "df_mean_imputed = df.fillna(df.mean())\n",
    "print(\"Data after mean imputation:\\n\", df_mean_imputed)\n",
    "\n",
    "# Imputation using the median\n",
    "df_median_imputed = df.fillna(df.median())\n",
    "print(\"Data after median imputation:\\n\", df_median_imputed)\n"
   ]
  },
  {
   "cell_type": "markdown",
   "id": "6d5d1b3d",
   "metadata": {},
   "source": [
    "## Outliers\n",
    "\n",
    "### What are Outliers?\n",
    "\n",
    "- Outliers are extreme values compared to the rest of the data to be analyzed.\n",
    "- They are often caused by errors during data acquisition or transcription.\n",
    "- However, in some cases, they may correspond to real but unusual observations.\n",
    "\n",
    "### Methods for Detecting Outliers\n",
    "\n",
    "- Graphical analysis\n",
    "- Detection based on interquartile distance\n",
    "- Detection based on standard deviation\n",
    "\n",
    "#### Graphical Analysis\n",
    "\n",
    "- In univariate analysis (x is a scalar), graphical methods such as scatter plots can detect outliers.\n",
    "- A scatter plot is a cloud of points that represents one numerical variable as a function of another numerical variable: \\(Y \\sim X\\)\n",
    "- Each point represents an individual.\n",
    "- The positions on the X (horizontal) and Y (vertical) axes represent the values of the two variables.\n",
    "\n",
    "Let's demonstrate a scatter plot with outliers."
   ]
  },
  {
   "cell_type": "code",
   "execution_count": 14,
   "id": "3a96d787",
   "metadata": {},
   "outputs": [
    {
     "data": {
      "image/png": "[encoded data removed]",
      "text/plain": [
       "<Figure size 640x480 with 1 Axes>"
      ]
     },
     "metadata": {},
     "output_type": "display_data"
    }
   ],
   "source": [
    "# Creating a scatter plot with outliers\n",
    "import matplotlib.pyplot as plt\n",
    "\n",
    "# Generating sample data with outliers\n",
    "np.random.seed(0)\n",
    "X = np.random.normal(50, 10, 100)\n",
    "Y = np.random.normal(60, 15, 100)\n",
    "# Adding outliers\n",
    "X = np.append(X, [100, 110, 120])\n",
    "Y = np.append(Y, [130, 140, 150])\n",
    "\n",
    "# Identifying outliers\n",
    "outliers_X = X[X > 80]\n",
    "outliers_Y = Y[Y > 100]\n",
    "\n",
    "# Creating scatter plot\n",
    "plt.scatter(X, Y, color='blue', label='Data Points')\n",
    "plt.scatter(outliers_X, outliers_Y, color='red', label='Outliers')\n",
    "plt.title('Scatter Plot with Outliers')\n",
    "plt.xlabel('X')\n",
    "plt.ylabel('Y')\n",
    "plt.legend()\n",
    "plt.show()\n"
   ]
  },
  {
   "cell_type": "markdown",
   "id": "a1493280",
   "metadata": {},
   "source": [
    "#### Detection Based on Interquartile Distance\n",
    "\n",
    "According to the classic definition of a box plot, a point is displayed as an outlier if:\n",
    "\n",
    "$x < Q_{25\\%}(x) - 1.5 \\times IQR_{25\\%-75\\%}(x)$\n",
    "\n",
    "or\n",
    "\n",
    "$x > Q_{75\\%}(x) + 1.5 \\times IQR_{25\\%-75\\%}(x)$\n",
    "\n",
    "where $Q_a$ is the quartile for the probability $a$\n",
    "$IQR_{ab}$ is the distance between the quartiles $a$ and $b$ (with $b > a$)\n",
    "\n",
    "Let's demonstrate this using a box plot with the generated data."
   ]
  },
  {
   "cell_type": "code",
   "execution_count": 15,
   "id": "b33a6561",
   "metadata": {},
   "outputs": [
    {
     "data": {
      "image/png": "[encoded data removed]",
      "text/plain": [
       "<Figure size 1000x500 with 1 Axes>"
      ]
     },
     "metadata": {},
     "output_type": "display_data"
    }
   ],
   "source": [
    "# Creating a box plot with outliers\n",
    "plt.figure(figsize=(10, 5))\n",
    "\n",
    "# Creating box plot\n",
    "plt.boxplot([X, Y], vert=True, patch_artist=True, labels=['X', 'Y'], flierprops=dict(markerfacecolor='r', marker='o'))\n",
    "plt.title('Box Plot with Outliers')\n",
    "plt.xlabel('Variables')\n",
    "plt.ylabel('Values')\n",
    "plt.show()\n"
   ]
  },
  {
   "cell_type": "markdown",
   "id": "7d2f095c",
   "metadata": {},
   "source": [
    "#### Detection Based on Standard Deviation\n",
    "\n",
    "- This method uses the variation of the variable around the mean and excludes values exceptionally far from this mean, within an interval defined by two thresholds centered around the mean.\n",
    "- The thresholds are measured in terms of the number $\\eta$ of standard deviations:\n",
    "\n",
    "$[\\mu - \\eta\\sigma, \\mu + \\eta\\sigma]$\n",
    "\n",
    "where $\\mu$ is the mean, $\\sigma$ is the standard deviation, and $\\eta$ is the threshold.\n",
    "\n",
    "- Disadvantage: The choice of $\\eta$ is arbitrary.\n",
    "\n",
    "Let's demonstrate this method."
   ]
  },
  {
   "cell_type": "code",
   "execution_count": 13,
   "id": "6ec72583",
   "metadata": {},
   "outputs": [
    {
     "name": "stdout",
     "output_type": "stream",
     "text": [
      "Outliers detected based on standard deviation:\n",
      " [100. 110. 120.]\n"
     ]
    }
   ],
   "source": [
    "# Detection of outliers based on standard deviation\n",
    "threshold = 3\n",
    "mean_X = np.mean(X)\n",
    "std_X = np.std(X)\n",
    "\n",
    "outliers = X[(X < mean_X - threshold * std_X) | (X > mean_X + threshold * std_X)]\n",
    "print(\"Outliers detected based on standard deviation:\\n\", outliers)"
   ]
  }
 ],
 "metadata": {
  "kernelspec": {
   "display_name": "Python 3 (ipykernel)",
   "language": "python",
   "name": "python3"
  },
  "language_info": {
   "codemirror_mode": {
    "name": "ipython",
    "version": 3
   },
   "file_extension": ".py",
   "mimetype": "text/x-python",
   "name": "python",
   "nbconvert_exporter": "python",
   "pygments_lexer": "ipython3",
   "version": "3.11.5"
  }
 },
 "nbformat": 4,
 "nbformat_minor": 5
}
