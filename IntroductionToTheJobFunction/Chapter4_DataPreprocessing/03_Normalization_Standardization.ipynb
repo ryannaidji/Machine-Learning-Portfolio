{
 "cells": [
  {
   "cell_type": "markdown",
   "id": "5b4ba0cc",
   "metadata": {},
   "source": [
    "# 3. Normalization and Standardization\n",
    "\n",
    "In this notebook, we will explain why it is essential to normalize and standardize data, and provide examples of both techniques.\n",
    "\n",
    "## Why Normalize & Standardize?\n",
    "\n",
    "- Most of the time, data comes from different sources, resulting in different magnitudes.\n",
    "- This difference in scale can lead to poor performance in machine learning.\n",
    "- Two preprocessing treatments are applied to make the data \"homogeneous\": Normalization and Standardization.\n"
   ]
  },
  {
   "cell_type": "markdown",
   "id": "3ea6fb91",
   "metadata": {},
   "source": [
    "## Normalization\n",
    "\n",
    "- Min-max scaling transforms each numerical value $x$ into another value $x_e \\in [0, 1]$ using the minimum and maximum values in the data.\n",
    "- This normalization preserves the proportional distance between the values of a feature.\n",
    "\n",
    "$x_e = \\frac{x - x_{\\text{min}}}{x_{\\text{max}} - x_{\\text{min}}}$\n",
    "\n",
    "where $x_{\\text{min}}$ is the minimum value of the variable $x$ and $x_{\\text{max}}$ is the maximum value.\n"
   ]
  },
  {
   "cell_type": "code",
   "execution_count": 14,
   "id": "0e8df758",
   "metadata": {},
   "outputs": [
    {
     "name": "stdout",
     "output_type": "stream",
     "text": [
      "Original Data:\n",
      "     Age  Salary  Experience\n",
      "0    20   54777          29\n",
      "1    23   43824           3\n",
      "2    23   32418          28\n",
      "3    59   42843          20\n",
      "4    29  108778          26\n",
      "..  ...     ...         ...\n",
      "95   23   63930          29\n",
      "96   54   76774          37\n",
      "97   33   58651          26\n",
      "98   59   92885          33\n",
      "99   41   45997          15\n",
      "\n",
      "[100 rows x 3 columns]\n",
      "\n",
      "Normalized Data:\n",
      "          Age    Salary  Experience\n",
      "0   0.000000  0.273841    0.756757\n",
      "1   0.076923  0.150450    0.054054\n",
      "2   0.076923  0.021956    0.729730\n",
      "3   1.000000  0.139399    0.513514\n",
      "4   0.230769  0.882186    0.675676\n",
      "..       ...       ...         ...\n",
      "95  0.076923  0.376953    0.756757\n",
      "96  0.871795  0.521647    0.972973\n",
      "97  0.333333  0.317483    0.675676\n",
      "98  1.000000  0.703144    0.864865\n",
      "99  0.538462  0.174930    0.378378\n",
      "\n",
      "[100 rows x 3 columns]\n"
     ]
    }
   ],
   "source": [
    "import pandas as pd\n",
    "import numpy as np\n",
    "import matplotlib.pyplot as plt\n",
    "from sklearn.preprocessing import MinMaxScaler\n",
    "\n",
    "# Generating a larger sample DataFrame\n",
    "np.random.seed(0)\n",
    "data = {\n",
    "    'Age': np.random.randint(20, 60, 100),\n",
    "    'Salary': np.random.randint(30000, 120000, 100),\n",
    "    'Experience': np.random.randint(1, 40, 100)\n",
    "}\n",
    "\n",
    "df = pd.DataFrame(data)\n",
    "\n",
    "# Normalizing the data\n",
    "scaler = MinMaxScaler()\n",
    "normalized_data = scaler.fit_transform(df)\n",
    "df_normalized = pd.DataFrame(normalized_data, columns=df.columns)\n",
    "\n",
    "print(\"Original Data:\\n\", df)\n",
    "print(\"\\nNormalized Data:\\n\", df_normalized)"
   ]
  },
  {
   "cell_type": "markdown",
   "id": "b4e015f1",
   "metadata": {},
   "source": [
    "## Standardization\n",
    "\n",
    "- Standardization can be applied when the variable meets the criteria of a normal distribution (Gaussian Distributions).\n",
    "- Standardization is the process of transforming a variable into another that will follow the normal distribution $X \\sim N(\\mu, \\sigma)$ with:\n",
    "  - $\\mu = 0$: The mean of the distribution\n",
    "  - $\\sigma = 1$: The standard deviation\n",
    "\n",
    "- Standardization transforms $x$ into:\n",
    "\n",
    "$x_s = \\frac{x - \\mu}{\\sigma}$"
   ]
  },
  {
   "cell_type": "code",
   "execution_count": 15,
   "id": "93041167",
   "metadata": {},
   "outputs": [
    {
     "name": "stdout",
     "output_type": "stream",
     "text": [
      "\n",
      "Original Data:\n",
      "     Age  Salary  Experience\n",
      "0    20   54777          29\n",
      "1    23   43824           3\n",
      "2    23   32418          28\n",
      "3    59   42843          20\n",
      "4    29  108778          26\n",
      "..  ...     ...         ...\n",
      "95   23   63930          29\n",
      "96   54   76774          37\n",
      "97   33   58651          26\n",
      "98   59   92885          33\n",
      "99   41   45997          15\n",
      "\n",
      "[100 rows x 3 columns]\n",
      "\n",
      "Standardized Data:\n",
      "          Age    Salary  Experience\n",
      "0  -1.500053 -0.687615    0.763871\n",
      "1  -1.262702 -1.096027   -1.603310\n",
      "2  -1.262702 -1.521330    0.672826\n",
      "3   1.585499 -1.132606   -0.055538\n",
      "4  -0.788002  1.325956    0.490735\n",
      "..       ...       ...         ...\n",
      "95 -1.262702 -0.346321    0.763871\n",
      "96  1.189915  0.132602    1.492234\n",
      "97 -0.471536 -0.543163    0.490735\n",
      "98  1.585499  0.733343    1.128053\n",
      "99  0.161398 -1.015001   -0.510765\n",
      "\n",
      "[100 rows x 3 columns]\n"
     ]
    }
   ],
   "source": [
    "from sklearn.preprocessing import StandardScaler\n",
    "\n",
    "# Standardizing the data\n",
    "scaler = StandardScaler()\n",
    "standardized_data = scaler.fit_transform(df)\n",
    "df_standardized = pd.DataFrame(standardized_data, columns=df.columns)\n",
    "\n",
    "print(\"\\nOriginal Data:\\n\", df)\n",
    "print(\"\\nStandardized Data:\\n\", df_standardized)"
   ]
  },
  {
   "cell_type": "markdown",
   "id": "c73cd611",
   "metadata": {},
   "source": [
    "The tables below illustrate the differences between the original data, normalized data, and standardized data.\n",
    "\n",
    "- **Original Data**: The raw data before any transformation.\n",
    "- **Normalized Data**: Data scaled to a range of [0, 1] using min-max scaling.\n",
    "- **Standardized Data**: Data transformed to have a mean of 0 and a standard deviation of 1 using standardization.\n",
    "\n",
    "The transformation ensures that each feature contributes equally to the analysis, preventing features with larger magnitudes from dominating the model training process.\n"
   ]
  }
 ],
 "metadata": {
  "kernelspec": {
   "display_name": "Python 3 (ipykernel)",
   "language": "python",
   "name": "python3"
  },
  "language_info": {
   "codemirror_mode": {
    "name": "ipython",
    "version": 3
   },
   "file_extension": ".py",
   "mimetype": "text/x-python",
   "name": "python",
   "nbconvert_exporter": "python",
   "pygments_lexer": "ipython3",
   "version": "3.11.5"
  }
 },
 "nbformat": 4,
 "nbformat_minor": 5
}
