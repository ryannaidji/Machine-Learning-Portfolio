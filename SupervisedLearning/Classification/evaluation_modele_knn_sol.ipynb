{
 "cells": [
  {
   "cell_type": "markdown",
   "metadata": {
    "toc": true
   },
   "source": [
    "<h1>Tables des matières<span class=\"tocSkip\"></span></h1>\n",
    "<div class=\"toc\"><ul class=\"toc-item\"><li><span><a href=\"#Evaluation-de-Modele-selon-des-paramètres\" data-toc-modified-id=\"Evaluation-de-Modele-selon-des-paramètres-1\"><span class=\"toc-item-num\">1&nbsp;&nbsp;</span>Evaluation de Modele selon des paramètres</a></span></li><li><span><a href=\"#Objectif\" data-toc-modified-id=\"Objectif-2\"><span class=\"toc-item-num\">2&nbsp;&nbsp;</span>Objectif</a></span></li><li><span><a href=\"#Train-et-test-sur-tout-le-dataset\" data-toc-modified-id=\"Train-et-test-sur-tout-le-dataset-3\"><span class=\"toc-item-num\">3&nbsp;&nbsp;</span>Train et test sur tout le dataset</a></span></li><li><span><a href=\"#Evaluation-procedure-#2:-Train/test-split\" data-toc-modified-id=\"Evaluation-procedure-#2:-Train/test-split-4\"><span class=\"toc-item-num\">4&nbsp;&nbsp;</span>Evaluation procedure #2: Train/test split</a></span></li><li><span><a href=\"#Prediction-avec-un-echantillon-out-of-sample\" data-toc-modified-id=\"Prediction-avec-un-echantillon-out-of-sample-5\"><span class=\"toc-item-num\">5&nbsp;&nbsp;</span>Prediction avec un echantillon out-of-sample</a></span></li></ul></div>"
   ]
  },
  {
   "cell_type": "markdown",
   "metadata": {},
   "source": [
    "# Evaluation de Modele selon des paramètres"
   ]
  },
  {
   "cell_type": "markdown",
   "metadata": {},
   "source": [
    "# Objectif\n",
    "* Prédire l'espece d'une fleur iris en utilisant KNN avec K variable\n",
    "* Trouver la valeur appropriée de K\n",
    "* Obtenir le modèle qui généralise correctement "
   ]
  },
  {
   "cell_type": "markdown",
   "metadata": {},
   "source": [
    "# Train et test sur tout le dataset"
   ]
  },
  {
   "cell_type": "markdown",
   "metadata": {},
   "source": [
    "* Apprentissage du modele sur tout le dataset.\n",
    "* Effectur le Test du modele sur le meme dataset, \n",
    "* Evaluer et comparer la classe predite avec la vraie classe"
   ]
  },
  {
   "cell_type": "code",
   "execution_count": 28,
   "metadata": {},
   "outputs": [
    {
     "name": "stdout",
     "output_type": "stream",
     "text": [
      "chargement du dataset iris\n"
     ]
    }
   ],
   "source": [
    "# Lire iris data dans un DataFrame\n",
    "import pandas as pd\n",
    "from sklearn import datasets\n",
    "print \"chargement du dataset iris\"\n",
    "iris = datasets.load_iris()\n",
    "#print iris.data\n"
   ]
  },
  {
   "cell_type": "markdown",
   "metadata": {},
   "source": [
    "* utiliser KNN avec K = 50 par exemple"
   ]
  },
  {
   "cell_type": "code",
   "execution_count": 7,
   "metadata": {},
   "outputs": [
    {
     "data": {
      "text/plain": [
       "array([0, 0, 0, 0, 0, 0, 0, 0, 0, 0, 0, 0, 0, 0, 0, 0, 0, 0, 0, 0, 0, 0, 0,\n",
       "       0, 0, 0, 0, 0, 0, 0, 0, 0, 0, 0, 0, 0, 0, 0, 0, 0, 0, 0, 0, 0, 0, 0,\n",
       "       0, 0, 0, 0, 1, 1, 2, 1, 1, 1, 1, 1, 1, 1, 1, 1, 1, 1, 1, 1, 1, 1, 1,\n",
       "       1, 1, 1, 1, 1, 1, 1, 1, 2, 1, 1, 1, 1, 1, 1, 1, 1, 1, 1, 1, 1, 1, 1,\n",
       "       1, 1, 1, 1, 1, 1, 1, 1, 2, 2, 2, 2, 2, 2, 1, 2, 2, 2, 2, 2, 2, 2, 2,\n",
       "       2, 2, 2, 2, 1, 2, 1, 2, 2, 2, 2, 1, 1, 2, 2, 2, 2, 2, 1, 2, 2, 2, 2,\n",
       "       1, 2, 2, 2, 2, 2, 2, 2, 2, 2, 2, 2])"
      ]
     },
     "execution_count": 7,
     "metadata": {},
     "output_type": "execute_result"
    }
   ],
   "source": [
    "from sklearn.neighbors import KNeighborsClassifier\n",
    "X = iris.data\n",
    "y = iris.target\n",
    "# instantier le modele\n",
    "knn = KNeighborsClassifier(n_neighbors=50)\n",
    "# Effectuer l'apprentissage du model sur tout le dataset\n",
    "knn.fit(X, y)\n",
    "# predire la réponse pour les observations dans X, test du model\n",
    "knn.predict(X)"
   ]
  },
  {
   "cell_type": "code",
   "execution_count": 9,
   "metadata": {},
   "outputs": [
    {
     "name": "stdout",
     "output_type": "stream",
     "text": [
      "[0 0 0 0 0 0 0 0 0 0 0 0 0 0 0 0 0 0 0 0 0 0 0 0 0 0 0 0 0 0 0 0 0 0 0 0 0\n",
      " 0 0 0 0 0 0 0 0 0 0 0 0 0 1 1 2 1 1 1 1 1 1 1 1 1 1 1 1 1 1 1 1 1 1 1 1 1\n",
      " 1 1 1 2 1 1 1 1 1 1 1 1 1 1 1 1 1 1 1 1 1 1 1 1 1 1 2 2 2 2 2 2 1 2 2 2 2\n",
      " 2 2 2 2 2 2 2 2 1 2 1 2 2 2 2 1 1 2 2 2 2 2 1 2 2 2 2 1 2 2 2 2 2 2 2 2 2\n",
      " 2 2]\n"
     ]
    }
   ],
   "source": [
    "# stocker les réponses prédites dans y_pred\n",
    "y_pred = knn.predict(X)\n",
    "print y_pred"
   ]
  },
  {
   "cell_type": "markdown",
   "metadata": {},
   "source": [
    "* Determiner un metrique tel que Accuracy"
   ]
  },
  {
   "cell_type": "code",
   "execution_count": 10,
   "metadata": {},
   "outputs": [
    {
     "name": "stdout",
     "output_type": "stream",
     "text": [
      "0.94\n"
     ]
    }
   ],
   "source": [
    "# Metrique d'évaluation - Accuracy de classification\n",
    "\n",
    "from sklearn import metrics\n",
    "print metrics.accuracy_score(y, y_pred)\n",
    "\n",
    "#conclusion ! Est ce qu'on a training accuracy ou testing accuracy ?"
   ]
  },
  {
   "cell_type": "markdown",
   "metadata": {},
   "source": [
    "* utiliser KNN avec K = 1 maintenant"
   ]
  },
  {
   "cell_type": "code",
   "execution_count": 11,
   "metadata": {},
   "outputs": [
    {
     "name": "stdout",
     "output_type": "stream",
     "text": [
      "1.0\n"
     ]
    }
   ],
   "source": [
    "#calculer Accuracy\n",
    "knn = KNeighborsClassifier(n_neighbors=1)\n",
    "knn.fit(X, y)\n",
    "y_pred = knn.predict(X)\n",
    "print metrics.accuracy_score(y, y_pred)\n",
    "\n",
    "#conclusion: est ce qu'on a un problème avec cette approche ?\n"
   ]
  },
  {
   "cell_type": "markdown",
   "metadata": {},
   "source": [
    "# Evaluation procedure #2: Train/test split"
   ]
  },
  {
   "cell_type": "markdown",
   "metadata": {},
   "source": [
    "* Split du dataset en deux ensemble:  training set et testing set.\n",
    "* apprentissage du modele sur le training set.\n",
    "* Test du modele sur le testing set \n",
    "* Evaluer le modele"
   ]
  },
  {
   "cell_type": "code",
   "execution_count": 12,
   "metadata": {},
   "outputs": [
    {
     "name": "stdout",
     "output_type": "stream",
     "text": [
      "(150, 4)\n",
      "(90, 4)\n",
      "(60, 4)\n",
      "(150,)\n",
      "(90,)\n",
      "(60,)\n",
      "[ 6.4  3.1  5.5  1.8]\n",
      "[ 5.   3.5  1.6  0.6]\n",
      "2\n",
      "0\n"
     ]
    }
   ],
   "source": [
    "#utiliser la fonction train_test_split avec taille test de 40% sans random_state\n",
    "# Utiliser X_train, X_test, y_train, y_test\n",
    "from sklearn.cross_validation import train_test_split\n",
    "X_train, X_test, y_train, y_test = train_test_split(X, y, test_size=0.4)\n",
    "\n",
    "#afficher les différentes shape\n",
    "# before splitting\n",
    "print X.shape\n",
    "\n",
    "# after splitting\n",
    "print X_train.shape\n",
    "print X_test.shape\n",
    "# before splitting\n",
    "print y.shape\n",
    "\n",
    "# after splitting\n",
    "print y_train.shape\n",
    "print y_test.shape\n",
    "#afficher le premier element de chaque ensemble\n",
    "print X_train[0]\n",
    "print X_test[0]\n",
    "print y_train[0]\n",
    "print y_test[0]"
   ]
  },
  {
   "cell_type": "markdown",
   "metadata": {},
   "source": [
    "* Effet du paramètre random_state"
   ]
  },
  {
   "cell_type": "markdown",
   "metadata": {},
   "source": [
    "* refaire le meme avec random_state = 4"
   ]
  },
  {
   "cell_type": "code",
   "execution_count": 13,
   "metadata": {},
   "outputs": [
    {
     "name": "stdout",
     "output_type": "stream",
     "text": [
      "[ 4.6  3.4  1.4  0.3]\n",
      "[ 6.4  2.8  5.6  2.1]\n",
      "0\n",
      "2\n"
     ]
    }
   ],
   "source": [
    "# Utiliser X_train, X_test, y_train, y_test\n",
    "X_train, X_test, y_train, y_test = train_test_split(X, y, test_size=0.4, random_state=4)\n",
    "\n",
    "\n",
    "#afficher les différentes shape\n",
    "print X_train[0]\n",
    "print X_test[0]\n",
    "print y_train[0]\n",
    "print y_test[0]\n",
    "\n",
    "#afficher le premier element de chaque ensemble\n",
    "#votre code ici"
   ]
  },
  {
   "cell_type": "markdown",
   "metadata": {},
   "source": [
    "* Effectuer apprentissage avec K=1"
   ]
  },
  {
   "cell_type": "code",
   "execution_count": 19,
   "metadata": {},
   "outputs": [
    {
     "name": "stdout",
     "output_type": "stream",
     "text": [
      "0.95\n"
     ]
    }
   ],
   "source": [
    "#Etape 1: split en traning et test avec random state = 4\n",
    "X_train, X_test, y_train, y_test = train_test_split(X, y, test_size=0.4, random_state=4)\n",
    "\n",
    "#Etape 2: faire l'apprentissage\n",
    "knn = KNeighborsClassifier(n_neighbors=1)\n",
    "knn.fit(X_train, y_train)\n",
    "\n",
    "#Etape 3: faire le test du modèle avec l'ensemble d'apprentissage\n",
    "y_pred = knn.predict(X_test)\n",
    "\n",
    "#Etape 4: determiner accuracy\n",
    "print metrics.accuracy_score(y_test, y_pred)\n",
    "\n",
    "#Est ce que vous avez une training accuracy ou testing accuracy ?"
   ]
  },
  {
   "cell_type": "markdown",
   "metadata": {},
   "source": [
    "* Effectuer apprentissage avec K=50"
   ]
  },
  {
   "cell_type": "code",
   "execution_count": 20,
   "metadata": {},
   "outputs": [
    {
     "name": "stdout",
     "output_type": "stream",
     "text": [
      "0.933333333333\n"
     ]
    }
   ],
   "source": [
    "#Etape 1: split en traning et test avec random state = 4\n",
    "knn = KNeighborsClassifier(n_neighbors=50)\n",
    "\n",
    "#Etape 2: faire l'apprentissage\n",
    "knn.fit(X_train, y_train)\n",
    "\n",
    "#Etape 3: faire le test du modèle avec l'ensemble d'apprentissage\n",
    "y_pred = knn.predict(X_test)\n",
    "\n",
    "#Etape 4: determiner accuracy\n",
    "print metrics.accuracy_score(y_test, y_pred)"
   ]
  },
  {
   "cell_type": "code",
   "execution_count": 21,
   "metadata": {
    "collapsed": true
   },
   "outputs": [],
   "source": [
    "#Comparer avec l'approche où un seul ensemble de données\n",
    "\n",
    "#Votre conclusion"
   ]
  },
  {
   "cell_type": "markdown",
   "metadata": {},
   "source": [
    "# Prediction avec un echantillon out-of-sample"
   ]
  },
  {
   "cell_type": "markdown",
   "metadata": {},
   "source": [
    "* On prend un echantillon completement inconnu"
   ]
  },
  {
   "cell_type": "code",
   "execution_count": 42,
   "metadata": {},
   "outputs": [
    {
     "name": "stdout",
     "output_type": "stream",
     "text": [
      "[2]\n"
     ]
    }
   ],
   "source": [
    "import numpy as np\n",
    "#Instantier le modele avec K égale à valeur optimale (comment?)\n",
    "knn = KNeighborsClassifier(n_neighbors=6)\n",
    "\n",
    "#Effectuer l'apprentissage avec X et y  (ne pas prendre X_train et y_train)\n",
    "knn.fit(X, y)\n",
    "\n",
    "#Faire une prediction avec l'échantillon [3,5,4,5]\n",
    "tmp = np.array([3, 5, 4, 5]).reshape(1, -1)\n",
    "y_pred = knn.predict(tmp)\n",
    "print y_pred"
   ]
  },
  {
   "cell_type": "code",
   "execution_count": null,
   "metadata": {
    "collapsed": true
   },
   "outputs": [],
   "source": []
  }
 ],
 "metadata": {
  "kernelspec": {
   "display_name": "Python 3 (ipykernel)",
   "language": "python",
   "name": "python3"
  },
  "language_info": {
   "codemirror_mode": {
    "name": "ipython",
    "version": 3
   },
   "file_extension": ".py",
   "mimetype": "text/x-python",
   "name": "python",
   "nbconvert_exporter": "python",
   "pygments_lexer": "ipython3",
   "version": "3.9.12"
  },
  "toc": {
   "base_numbering": 1,
   "nav_menu": {},
   "number_sections": true,
   "sideBar": true,
   "skip_h1_title": false,
   "title_cell": "Tables des matières",
   "title_sidebar": "Contenu",
   "toc_cell": true,
   "toc_position": {},
   "toc_section_display": true,
   "toc_window_display": true
  }
 },
 "nbformat": 4,
 "nbformat_minor": 1
}
