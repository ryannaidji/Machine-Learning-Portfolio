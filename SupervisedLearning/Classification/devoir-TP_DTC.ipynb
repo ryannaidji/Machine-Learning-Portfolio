{
 "cells": [
  {
   "cell_type": "markdown",
   "id": "2c0aad3a",
   "metadata": {},
   "source": [
    "# **Approche supervisée**"
   ]
  },
  {
   "cell_type": "markdown",
   "id": "6171fa42",
   "metadata": {},
   "source": [
    "## 1. Collecte de données"
   ]
  },
  {
   "cell_type": "code",
   "execution_count": 165,
   "id": "59ec22ef",
   "metadata": {},
   "outputs": [],
   "source": [
    "import numpy as np\n",
    "import pandas as pd\n",
    "import matplotlib.pyplot as plt\n",
    "import seaborn as sns\n",
    "from sklearn.model_selection import train_test_split\n",
    "from sklearn import neighbors\n",
    "from sklearn.tree import DecisionTreeClassifier\n",
    "from sklearn.metrics import accuracy_score, classification_report, confusion_matrix"
   ]
  },
  {
   "cell_type": "code",
   "execution_count": 166,
   "id": "2b4565dc",
   "metadata": {},
   "outputs": [],
   "source": [
    "data = pd.read_csv(\"breast.data\")"
   ]
  },
  {
   "cell_type": "markdown",
   "id": "aa62271d",
   "metadata": {},
   "source": [
    "## 2. Pré-Exploration EDA"
   ]
  },
  {
   "cell_type": "code",
   "execution_count": 167,
   "id": "16104ce9",
   "metadata": {},
   "outputs": [
    {
     "data": {
      "text/html": [
       "<div>\n",
       "<style scoped>\n",
       "    .dataframe tbody tr th:only-of-type {\n",
       "        vertical-align: middle;\n",
       "    }\n",
       "\n",
       "    .dataframe tbody tr th {\n",
       "        vertical-align: top;\n",
       "    }\n",
       "\n",
       "    .dataframe thead th {\n",
       "        text-align: right;\n",
       "    }\n",
       "</style>\n",
       "<table border=\"1\" class=\"dataframe\">\n",
       "  <thead>\n",
       "    <tr style=\"text-align: right;\">\n",
       "      <th></th>\n",
       "      <th>id_number</th>\n",
       "      <th>Clump_Thickness</th>\n",
       "      <th>Uniformity_Cell_Size</th>\n",
       "      <th>Uniformity_Cell_Shape</th>\n",
       "      <th>Marginal_Adhesion</th>\n",
       "      <th>Single_Epithelial_Cell_Size</th>\n",
       "      <th>Bare_Nuclei</th>\n",
       "      <th>Bland_Chromatin</th>\n",
       "      <th>Normal_Nucleoli</th>\n",
       "      <th>Mitoses</th>\n",
       "      <th>Class</th>\n",
       "    </tr>\n",
       "  </thead>\n",
       "  <tbody>\n",
       "    <tr>\n",
       "      <th>0</th>\n",
       "      <td>1000025</td>\n",
       "      <td>5</td>\n",
       "      <td>1</td>\n",
       "      <td>1</td>\n",
       "      <td>1</td>\n",
       "      <td>2</td>\n",
       "      <td>1</td>\n",
       "      <td>3</td>\n",
       "      <td>1</td>\n",
       "      <td>1</td>\n",
       "      <td>2</td>\n",
       "    </tr>\n",
       "    <tr>\n",
       "      <th>1</th>\n",
       "      <td>1002945</td>\n",
       "      <td>5</td>\n",
       "      <td>4</td>\n",
       "      <td>4</td>\n",
       "      <td>5</td>\n",
       "      <td>7</td>\n",
       "      <td>10</td>\n",
       "      <td>3</td>\n",
       "      <td>2</td>\n",
       "      <td>1</td>\n",
       "      <td>2</td>\n",
       "    </tr>\n",
       "    <tr>\n",
       "      <th>2</th>\n",
       "      <td>1015425</td>\n",
       "      <td>3</td>\n",
       "      <td>1</td>\n",
       "      <td>1</td>\n",
       "      <td>1</td>\n",
       "      <td>2</td>\n",
       "      <td>2</td>\n",
       "      <td>3</td>\n",
       "      <td>1</td>\n",
       "      <td>1</td>\n",
       "      <td>2</td>\n",
       "    </tr>\n",
       "    <tr>\n",
       "      <th>3</th>\n",
       "      <td>1016277</td>\n",
       "      <td>6</td>\n",
       "      <td>8</td>\n",
       "      <td>8</td>\n",
       "      <td>1</td>\n",
       "      <td>3</td>\n",
       "      <td>4</td>\n",
       "      <td>3</td>\n",
       "      <td>7</td>\n",
       "      <td>1</td>\n",
       "      <td>2</td>\n",
       "    </tr>\n",
       "    <tr>\n",
       "      <th>4</th>\n",
       "      <td>1017023</td>\n",
       "      <td>4</td>\n",
       "      <td>1</td>\n",
       "      <td>1</td>\n",
       "      <td>3</td>\n",
       "      <td>2</td>\n",
       "      <td>1</td>\n",
       "      <td>3</td>\n",
       "      <td>1</td>\n",
       "      <td>1</td>\n",
       "      <td>2</td>\n",
       "    </tr>\n",
       "  </tbody>\n",
       "</table>\n",
       "</div>"
      ],
      "text/plain": [
       "   id_number  Clump_Thickness  Uniformity_Cell_Size  Uniformity_Cell_Shape  \\\n",
       "0    1000025                5                     1                      1   \n",
       "1    1002945                5                     4                      4   \n",
       "2    1015425                3                     1                      1   \n",
       "3    1016277                6                     8                      8   \n",
       "4    1017023                4                     1                      1   \n",
       "\n",
       "   Marginal_Adhesion  Single_Epithelial_Cell_Size Bare_Nuclei  \\\n",
       "0                  1                            2           1   \n",
       "1                  5                            7          10   \n",
       "2                  1                            2           2   \n",
       "3                  1                            3           4   \n",
       "4                  3                            2           1   \n",
       "\n",
       "   Bland_Chromatin  Normal_Nucleoli  Mitoses  Class  \n",
       "0                3                1        1      2  \n",
       "1                3                2        1      2  \n",
       "2                3                1        1      2  \n",
       "3                3                7        1      2  \n",
       "4                3                1        1      2  "
      ]
     },
     "execution_count": 167,
     "metadata": {},
     "output_type": "execute_result"
    }
   ],
   "source": [
    "data.head()"
   ]
  },
  {
   "cell_type": "code",
   "execution_count": 168,
   "id": "c869c408",
   "metadata": {},
   "outputs": [
    {
     "data": {
      "text/plain": [
       "(699, 11)"
      ]
     },
     "execution_count": 168,
     "metadata": {},
     "output_type": "execute_result"
    }
   ],
   "source": [
    "data.shape"
   ]
  },
  {
   "cell_type": "code",
   "execution_count": 169,
   "id": "be3cff98",
   "metadata": {},
   "outputs": [
    {
     "name": "stdout",
     "output_type": "stream",
     "text": [
      "<class 'pandas.core.frame.DataFrame'>\n",
      "RangeIndex: 699 entries, 0 to 698\n",
      "Data columns (total 11 columns):\n",
      " #   Column                       Non-Null Count  Dtype \n",
      "---  ------                       --------------  ----- \n",
      " 0   id_number                    699 non-null    int64 \n",
      " 1   Clump_Thickness              699 non-null    int64 \n",
      " 2   Uniformity_Cell_Size         699 non-null    int64 \n",
      " 3   Uniformity_Cell_Shape        699 non-null    int64 \n",
      " 4   Marginal_Adhesion            699 non-null    int64 \n",
      " 5   Single_Epithelial_Cell_Size  699 non-null    int64 \n",
      " 6   Bare_Nuclei                  699 non-null    object\n",
      " 7   Bland_Chromatin              699 non-null    int64 \n",
      " 8   Normal_Nucleoli              699 non-null    int64 \n",
      " 9   Mitoses                      699 non-null    int64 \n",
      " 10  Class                        699 non-null    int64 \n",
      "dtypes: int64(10), object(1)\n",
      "memory usage: 60.2+ KB\n"
     ]
    }
   ],
   "source": [
    "data.info()\n",
    "\n",
    "# On remarque que la colonne \"Bare_Nuclei\" est de type object, inspectons-là."
   ]
  },
  {
   "cell_type": "code",
   "execution_count": 170,
   "id": "a563a95c",
   "metadata": {},
   "outputs": [
    {
     "name": "stdout",
     "output_type": "stream",
     "text": [
      "id_number                      [1000025, 1002945, 1015425, 1016277, 1017023, ...\n",
      "Clump_Thickness                                  [5, 3, 6, 4, 8, 1, 2, 7, 10, 9]\n",
      "Uniformity_Cell_Size                             [1, 4, 8, 10, 2, 3, 7, 5, 6, 9]\n",
      "Uniformity_Cell_Shape                            [1, 4, 8, 10, 2, 3, 5, 6, 7, 9]\n",
      "Marginal_Adhesion                                [1, 5, 3, 8, 10, 4, 6, 2, 9, 7]\n",
      "Single_Epithelial_Cell_Size                      [2, 7, 3, 1, 6, 4, 5, 8, 10, 9]\n",
      "Bare_Nuclei                                   [1, 10, 2, 4, 3, 9, 7, ?, 5, 8, 6]\n",
      "Bland_Chromatin                                  [3, 9, 1, 2, 4, 5, 7, 8, 6, 10]\n",
      "Normal_Nucleoli                                  [1, 2, 7, 4, 5, 3, 10, 6, 9, 8]\n",
      "Mitoses                                             [1, 5, 4, 2, 3, 7, 10, 8, 6]\n",
      "Class                                                                     [2, 4]\n",
      "dtype: object\n"
     ]
    }
   ],
   "source": [
    "uniques_values_data = data.apply(lambda x: pd.unique(x))\n",
    "\n",
    "print(uniques_values_data)"
   ]
  },
  {
   "cell_type": "code",
   "execution_count": 171,
   "id": "e3d37ab9",
   "metadata": {},
   "outputs": [
    {
     "name": "stdout",
     "output_type": "stream",
     "text": [
      "Valeurs de classes disponibles: [2 4]\n",
      "Occurence des classes disponibles:\n",
      " 2    458\n",
      "4    241\n",
      "Name: Class, dtype: int64\n"
     ]
    }
   ],
   "source": [
    "print(\"Valeurs de classes disponibles:\", data[\"Class\"].unique())\n",
    "print(\"Occurence des classes disponibles:\\n\", data[\"Class\"].value_counts())\n",
    "\n",
    "# Il existe donc deux classes pour la cible, soit 2 ou 4"
   ]
  },
  {
   "cell_type": "code",
   "execution_count": 172,
   "id": "2b1c8d7b",
   "metadata": {},
   "outputs": [
    {
     "name": "stdout",
     "output_type": "stream",
     "text": [
      "['1' '10' '2' '4' '3' '9' '7' '?' '5' '8' '6']\n"
     ]
    }
   ],
   "source": [
    "print(data[\"Bare_Nuclei\"].unique())\n",
    "\n",
    "# On remarque une valeur \"?\" dans le descripteur \"Bare_Nuclei\""
   ]
  },
  {
   "cell_type": "markdown",
   "id": "b9d80e59",
   "metadata": {},
   "source": [
    "## 3. Pré-traitement des données"
   ]
  },
  {
   "cell_type": "code",
   "execution_count": 173,
   "id": "91a8d794",
   "metadata": {},
   "outputs": [],
   "source": [
    "# On considère la valeur \"?\" comme une valeur non disponible\n",
    "data[\"Bare_Nuclei\"] = data[\"Bare_Nuclei\"].replace(\"?\", pd.NA)"
   ]
  },
  {
   "cell_type": "code",
   "execution_count": 174,
   "id": "2caf4084",
   "metadata": {},
   "outputs": [],
   "source": [
    "# On supprime les enregistrements contenant des valeurs non disponible\n",
    "data = data.dropna()"
   ]
  },
  {
   "cell_type": "code",
   "execution_count": 175,
   "id": "97277a0a",
   "metadata": {},
   "outputs": [],
   "source": [
    "# On converti le descripteur \"Bare_Nuclei\" en numérique\n",
    "data[\"Bare_Nuclei\"] = pd.to_numeric(data[\"Bare_Nuclei\"])"
   ]
  },
  {
   "cell_type": "markdown",
   "id": "e007018c",
   "metadata": {},
   "source": [
    "## 4. Post-Exploration EDA"
   ]
  },
  {
   "cell_type": "code",
   "execution_count": 176,
   "id": "da3302f6",
   "metadata": {},
   "outputs": [
    {
     "name": "stdout",
     "output_type": "stream",
     "text": [
      "Nombre de features: 11\n",
      "Nombre d'enregistrements: 683\n",
      "Valeurs manquantes: 0\n",
      "Valeurs manquantes (%): 0.0\n",
      "Features qualitatives: 0\n",
      "Features quantitatives: 11\n"
     ]
    }
   ],
   "source": [
    "# Nombre de features dans notre dataframe\n",
    "nb_features = data.shape[1]\n",
    "print(\"Nombre de features:\", nb_features)\n",
    "\n",
    "# Nombre d'enregistrement\n",
    "nb_enregistrements = data.shape[0]\n",
    "print(\"Nombre d'enregistrements:\", nb_enregistrements)\n",
    "\n",
    "# Nombre de valeurs manquantes\n",
    "nb_total_valeurs_manquantes = data.isnull().sum().sum()\n",
    "print(\"Valeurs manquantes:\", nb_total_valeurs_manquantes)\n",
    "\n",
    "# Nombre total de cellules\n",
    "nb_total_cellules = data.size\n",
    "\n",
    "# Pourcentage de valeurs manquantes par rapport au nombre total de\n",
    "# cellules\n",
    "pourcentage_valeurs_manquantes = (nb_total_valeurs_manquantes / nb_total_cellules) * 100\n",
    "print(\"Valeurs manquantes (%):\", round(pourcentage_valeurs_manquantes,2))\n",
    "\n",
    "# Variables qualitatives\n",
    "features_qualitatives = data.select_dtypes(exclude=\"number\").columns\n",
    "nb_features_qualitatives = len(features_qualitatives)\n",
    "print(\"Features qualitatives:\", nb_features_qualitatives)\n",
    "\n",
    "# Variables quantitatives (numériques)\n",
    "features_quantitatives = data.select_dtypes(include=\"number\").columns\n",
    "nb_features_quantitatives = len(features_quantitatives)\n",
    "print(\"Features quantitatives:\", nb_features_quantitatives)"
   ]
  },
  {
   "cell_type": "markdown",
   "id": "933a41ae",
   "metadata": {},
   "source": [
    "Il n'y a plus de valeurs manquantes dans nos données. De plus, on a que des descripteurs quantitatives.\n",
    "On peut en conclure que nos données sont correctement nettoyées et prêtent pour l'étape de selection des descripteurs et cible."
   ]
  },
  {
   "cell_type": "code",
   "execution_count": 177,
   "id": "980a0e59",
   "metadata": {},
   "outputs": [
    {
     "data": {
      "image/png": "[encoded data removed]",
      "text/plain": [
       "<Figure size 1080x432 with 2 Axes>"
      ]
     },
     "metadata": {
      "needs_background": "light"
     },
     "output_type": "display_data"
    }
   ],
   "source": [
    "matrice_correlation = data.corr()\n",
    "\n",
    "plt.figure(figsize=(15,6))\n",
    "sns.heatmap(matrice_correlation, annot=True, linewidths=0.5)\n",
    "plt.title(\"Matrice de corrélation\")\n",
    "plt.show()"
   ]
  },
  {
   "cell_type": "code",
   "execution_count": 178,
   "id": "ffd6936a",
   "metadata": {},
   "outputs": [
    {
     "data": {
      "text/plain": [
       "Class                          1.000000\n",
       "Bare_Nuclei                    0.822696\n",
       "Uniformity_Cell_Shape          0.821891\n",
       "Uniformity_Cell_Size           0.820801\n",
       "Bland_Chromatin                0.758228\n",
       "Normal_Nucleoli                0.718677\n",
       "Clump_Thickness                0.714790\n",
       "Marginal_Adhesion              0.706294\n",
       "Single_Epithelial_Cell_Size    0.690958\n",
       "Mitoses                        0.423448\n",
       "id_number                     -0.084701\n",
       "Name: Class, dtype: float64"
      ]
     },
     "execution_count": 178,
     "metadata": {},
     "output_type": "execute_result"
    }
   ],
   "source": [
    "correlation = data.corr()['Class'].sort_values(ascending = False)\n",
    "correlation"
   ]
  },
  {
   "cell_type": "markdown",
   "id": "efa8d8d7",
   "metadata": {},
   "source": [
    "Interpretation de la matrice de corrélation:\n",
    "La variable \"id_number\" a une corrélation très faible avec la variable \"Class\". Cela signifie que cette variable n'a pas une influence significative sur la cible\n",
    "Toutes les autres variables (descripteurs) ont des coefficients de corrélation positifs relativement élevés avec la cible. Cela signifie qu'elles sont positivement corrélées avec la cible."
   ]
  },
  {
   "cell_type": "markdown",
   "id": "a99d10c3",
   "metadata": {},
   "source": [
    "## 5. Feature Engineering"
   ]
  },
  {
   "cell_type": "code",
   "execution_count": 179,
   "id": "47824a2f",
   "metadata": {},
   "outputs": [],
   "source": [
    "# Prédicteurs: Tout les descripteurs sauf \"Class\" et \"id_number\"\n",
    "X = data.drop(columns=[\"Class\",\"id_number\"])\n",
    "\n",
    "# Cible: La variable \"Class\"\n",
    "y = data[\"Class\"]"
   ]
  },
  {
   "cell_type": "code",
   "execution_count": 180,
   "id": "39221202",
   "metadata": {},
   "outputs": [
    {
     "data": {
      "text/html": [
       "<div>\n",
       "<style scoped>\n",
       "    .dataframe tbody tr th:only-of-type {\n",
       "        vertical-align: middle;\n",
       "    }\n",
       "\n",
       "    .dataframe tbody tr th {\n",
       "        vertical-align: top;\n",
       "    }\n",
       "\n",
       "    .dataframe thead th {\n",
       "        text-align: right;\n",
       "    }\n",
       "</style>\n",
       "<table border=\"1\" class=\"dataframe\">\n",
       "  <thead>\n",
       "    <tr style=\"text-align: right;\">\n",
       "      <th></th>\n",
       "      <th>Clump_Thickness</th>\n",
       "      <th>Uniformity_Cell_Size</th>\n",
       "      <th>Uniformity_Cell_Shape</th>\n",
       "      <th>Marginal_Adhesion</th>\n",
       "      <th>Single_Epithelial_Cell_Size</th>\n",
       "      <th>Bare_Nuclei</th>\n",
       "      <th>Bland_Chromatin</th>\n",
       "      <th>Normal_Nucleoli</th>\n",
       "      <th>Mitoses</th>\n",
       "    </tr>\n",
       "  </thead>\n",
       "  <tbody>\n",
       "    <tr>\n",
       "      <th>0</th>\n",
       "      <td>5</td>\n",
       "      <td>1</td>\n",
       "      <td>1</td>\n",
       "      <td>1</td>\n",
       "      <td>2</td>\n",
       "      <td>1</td>\n",
       "      <td>3</td>\n",
       "      <td>1</td>\n",
       "      <td>1</td>\n",
       "    </tr>\n",
       "    <tr>\n",
       "      <th>1</th>\n",
       "      <td>5</td>\n",
       "      <td>4</td>\n",
       "      <td>4</td>\n",
       "      <td>5</td>\n",
       "      <td>7</td>\n",
       "      <td>10</td>\n",
       "      <td>3</td>\n",
       "      <td>2</td>\n",
       "      <td>1</td>\n",
       "    </tr>\n",
       "    <tr>\n",
       "      <th>2</th>\n",
       "      <td>3</td>\n",
       "      <td>1</td>\n",
       "      <td>1</td>\n",
       "      <td>1</td>\n",
       "      <td>2</td>\n",
       "      <td>2</td>\n",
       "      <td>3</td>\n",
       "      <td>1</td>\n",
       "      <td>1</td>\n",
       "    </tr>\n",
       "    <tr>\n",
       "      <th>3</th>\n",
       "      <td>6</td>\n",
       "      <td>8</td>\n",
       "      <td>8</td>\n",
       "      <td>1</td>\n",
       "      <td>3</td>\n",
       "      <td>4</td>\n",
       "      <td>3</td>\n",
       "      <td>7</td>\n",
       "      <td>1</td>\n",
       "    </tr>\n",
       "    <tr>\n",
       "      <th>4</th>\n",
       "      <td>4</td>\n",
       "      <td>1</td>\n",
       "      <td>1</td>\n",
       "      <td>3</td>\n",
       "      <td>2</td>\n",
       "      <td>1</td>\n",
       "      <td>3</td>\n",
       "      <td>1</td>\n",
       "      <td>1</td>\n",
       "    </tr>\n",
       "  </tbody>\n",
       "</table>\n",
       "</div>"
      ],
      "text/plain": [
       "   Clump_Thickness  Uniformity_Cell_Size  Uniformity_Cell_Shape  \\\n",
       "0                5                     1                      1   \n",
       "1                5                     4                      4   \n",
       "2                3                     1                      1   \n",
       "3                6                     8                      8   \n",
       "4                4                     1                      1   \n",
       "\n",
       "   Marginal_Adhesion  Single_Epithelial_Cell_Size  Bare_Nuclei  \\\n",
       "0                  1                            2            1   \n",
       "1                  5                            7           10   \n",
       "2                  1                            2            2   \n",
       "3                  1                            3            4   \n",
       "4                  3                            2            1   \n",
       "\n",
       "   Bland_Chromatin  Normal_Nucleoli  Mitoses  \n",
       "0                3                1        1  \n",
       "1                3                2        1  \n",
       "2                3                1        1  \n",
       "3                3                7        1  \n",
       "4                3                1        1  "
      ]
     },
     "execution_count": 180,
     "metadata": {},
     "output_type": "execute_result"
    }
   ],
   "source": [
    "X.head()"
   ]
  },
  {
   "cell_type": "code",
   "execution_count": 181,
   "id": "1c079dcc",
   "metadata": {},
   "outputs": [
    {
     "data": {
      "text/plain": [
       "0    2\n",
       "1    2\n",
       "2    2\n",
       "3    2\n",
       "4    2\n",
       "Name: Class, dtype: int64"
      ]
     },
     "execution_count": 181,
     "metadata": {},
     "output_type": "execute_result"
    }
   ],
   "source": [
    "y.head()"
   ]
  },
  {
   "cell_type": "code",
   "execution_count": 182,
   "id": "c1bfedd0",
   "metadata": {},
   "outputs": [],
   "source": [
    "# On divise nos données en données d'entrainement et de test. (80% train, 20% test)\n",
    "X_train, X_test, y_train, y_test = train_test_split(X, y, test_size=0.20, random_state=44)"
   ]
  },
  {
   "cell_type": "code",
   "execution_count": 183,
   "id": "bf2869c3",
   "metadata": {},
   "outputs": [
    {
     "name": "stdout",
     "output_type": "stream",
     "text": [
      "(546, 9) (137, 9) (546,) (137,)\n"
     ]
    }
   ],
   "source": [
    "print(X_train.shape, X_test.shape, y_train.shape, y_test.shape)"
   ]
  },
  {
   "cell_type": "markdown",
   "id": "6a2a084e",
   "metadata": {},
   "source": [
    "## 6. Développement du modèle"
   ]
  },
  {
   "cell_type": "code",
   "execution_count": 184,
   "id": "0f89f04c",
   "metadata": {},
   "outputs": [
    {
     "data": {
      "text/html": [
       "<style>#sk-container-id-13 {color: black;}#sk-container-id-13 pre{padding: 0;}#sk-container-id-13 div.sk-toggleable {background-color: white;}#sk-container-id-13 label.sk-toggleable__label {cursor: pointer;display: block;width: 100%;margin-bottom: 0;padding: 0.3em;box-sizing: border-box;text-align: center;}#sk-container-id-13 label.sk-toggleable__label-arrow:before {content: \"▸\";float: left;margin-right: 0.25em;color: #696969;}#sk-container-id-13 label.sk-toggleable__label-arrow:hover:before {color: black;}#sk-container-id-13 div.sk-estimator:hover label.sk-toggleable__label-arrow:before {color: black;}#sk-container-id-13 div.sk-toggleable__content {max-height: 0;max-width: 0;overflow: hidden;text-align: left;background-color: #f0f8ff;}#sk-container-id-13 div.sk-toggleable__content pre {margin: 0.2em;color: black;border-radius: 0.25em;background-color: #f0f8ff;}#sk-container-id-13 input.sk-toggleable__control:checked~div.sk-toggleable__content {max-height: 200px;max-width: 100%;overflow: auto;}#sk-container-id-13 input.sk-toggleable__control:checked~label.sk-toggleable__label-arrow:before {content: \"▾\";}#sk-container-id-13 div.sk-estimator input.sk-toggleable__control:checked~label.sk-toggleable__label {background-color: #d4ebff;}#sk-container-id-13 div.sk-label input.sk-toggleable__control:checked~label.sk-toggleable__label {background-color: #d4ebff;}#sk-container-id-13 input.sk-hidden--visually {border: 0;clip: rect(1px 1px 1px 1px);clip: rect(1px, 1px, 1px, 1px);height: 1px;margin: -1px;overflow: hidden;padding: 0;position: absolute;width: 1px;}#sk-container-id-13 div.sk-estimator {font-family: monospace;background-color: #f0f8ff;border: 1px dotted black;border-radius: 0.25em;box-sizing: border-box;margin-bottom: 0.5em;}#sk-container-id-13 div.sk-estimator:hover {background-color: #d4ebff;}#sk-container-id-13 div.sk-parallel-item::after {content: \"\";width: 100%;border-bottom: 1px solid gray;flex-grow: 1;}#sk-container-id-13 div.sk-label:hover label.sk-toggleable__label {background-color: #d4ebff;}#sk-container-id-13 div.sk-serial::before {content: \"\";position: absolute;border-left: 1px solid gray;box-sizing: border-box;top: 0;bottom: 0;left: 50%;z-index: 0;}#sk-container-id-13 div.sk-serial {display: flex;flex-direction: column;align-items: center;background-color: white;padding-right: 0.2em;padding-left: 0.2em;position: relative;}#sk-container-id-13 div.sk-item {position: relative;z-index: 1;}#sk-container-id-13 div.sk-parallel {display: flex;align-items: stretch;justify-content: center;background-color: white;position: relative;}#sk-container-id-13 div.sk-item::before, #sk-container-id-13 div.sk-parallel-item::before {content: \"\";position: absolute;border-left: 1px solid gray;box-sizing: border-box;top: 0;bottom: 0;left: 50%;z-index: -1;}#sk-container-id-13 div.sk-parallel-item {display: flex;flex-direction: column;z-index: 1;position: relative;background-color: white;}#sk-container-id-13 div.sk-parallel-item:first-child::after {align-self: flex-end;width: 50%;}#sk-container-id-13 div.sk-parallel-item:last-child::after {align-self: flex-start;width: 50%;}#sk-container-id-13 div.sk-parallel-item:only-child::after {width: 0;}#sk-container-id-13 div.sk-dashed-wrapped {border: 1px dashed gray;margin: 0 0.4em 0.5em 0.4em;box-sizing: border-box;padding-bottom: 0.4em;background-color: white;}#sk-container-id-13 div.sk-label label {font-family: monospace;font-weight: bold;display: inline-block;line-height: 1.2em;}#sk-container-id-13 div.sk-label-container {text-align: center;}#sk-container-id-13 div.sk-container {/* jupyter's `normalize.less` sets `[hidden] { display: none; }` but bootstrap.min.css set `[hidden] { display: none !important; }` so we also need the `!important` here to be able to override the default hidden behavior on the sphinx rendered scikit-learn.org. See: https://github.com/scikit-learn/scikit-learn/issues/21755 */display: inline-block !important;position: relative;}#sk-container-id-13 div.sk-text-repr-fallback {display: none;}</style><div id=\"sk-container-id-13\" class=\"sk-top-container\"><div class=\"sk-text-repr-fallback\"><pre>KNeighborsClassifier()</pre><b>In a Jupyter environment, please rerun this cell to show the HTML representation or trust the notebook. <br />On GitHub, the HTML representation is unable to render, please try loading this page with nbviewer.org.</b></div><div class=\"sk-container\" hidden><div class=\"sk-item\"><div class=\"sk-estimator sk-toggleable\"><input class=\"sk-toggleable__control sk-hidden--visually\" id=\"sk-estimator-id-13\" type=\"checkbox\" checked><label for=\"sk-estimator-id-13\" class=\"sk-toggleable__label sk-toggleable__label-arrow\">KNeighborsClassifier</label><div class=\"sk-toggleable__content\"><pre>KNeighborsClassifier()</pre></div></div></div></div></div>"
      ],
      "text/plain": [
       "KNeighborsClassifier()"
      ]
     },
     "execution_count": 184,
     "metadata": {},
     "output_type": "execute_result"
    }
   ],
   "source": [
    "# Selection du modèle k-nearest neighbor\n",
    "knn = neighbors.KNeighborsClassifier()\n",
    "\n",
    "# Apprentissage du modèle\n",
    "knn.fit(X_train, y_train)"
   ]
  },
  {
   "cell_type": "code",
   "execution_count": 185,
   "id": "440a18e8",
   "metadata": {},
   "outputs": [
    {
     "data": {
      "text/html": [
       "<style>#sk-container-id-14 {color: black;}#sk-container-id-14 pre{padding: 0;}#sk-container-id-14 div.sk-toggleable {background-color: white;}#sk-container-id-14 label.sk-toggleable__label {cursor: pointer;display: block;width: 100%;margin-bottom: 0;padding: 0.3em;box-sizing: border-box;text-align: center;}#sk-container-id-14 label.sk-toggleable__label-arrow:before {content: \"▸\";float: left;margin-right: 0.25em;color: #696969;}#sk-container-id-14 label.sk-toggleable__label-arrow:hover:before {color: black;}#sk-container-id-14 div.sk-estimator:hover label.sk-toggleable__label-arrow:before {color: black;}#sk-container-id-14 div.sk-toggleable__content {max-height: 0;max-width: 0;overflow: hidden;text-align: left;background-color: #f0f8ff;}#sk-container-id-14 div.sk-toggleable__content pre {margin: 0.2em;color: black;border-radius: 0.25em;background-color: #f0f8ff;}#sk-container-id-14 input.sk-toggleable__control:checked~div.sk-toggleable__content {max-height: 200px;max-width: 100%;overflow: auto;}#sk-container-id-14 input.sk-toggleable__control:checked~label.sk-toggleable__label-arrow:before {content: \"▾\";}#sk-container-id-14 div.sk-estimator input.sk-toggleable__control:checked~label.sk-toggleable__label {background-color: #d4ebff;}#sk-container-id-14 div.sk-label input.sk-toggleable__control:checked~label.sk-toggleable__label {background-color: #d4ebff;}#sk-container-id-14 input.sk-hidden--visually {border: 0;clip: rect(1px 1px 1px 1px);clip: rect(1px, 1px, 1px, 1px);height: 1px;margin: -1px;overflow: hidden;padding: 0;position: absolute;width: 1px;}#sk-container-id-14 div.sk-estimator {font-family: monospace;background-color: #f0f8ff;border: 1px dotted black;border-radius: 0.25em;box-sizing: border-box;margin-bottom: 0.5em;}#sk-container-id-14 div.sk-estimator:hover {background-color: #d4ebff;}#sk-container-id-14 div.sk-parallel-item::after {content: \"\";width: 100%;border-bottom: 1px solid gray;flex-grow: 1;}#sk-container-id-14 div.sk-label:hover label.sk-toggleable__label {background-color: #d4ebff;}#sk-container-id-14 div.sk-serial::before {content: \"\";position: absolute;border-left: 1px solid gray;box-sizing: border-box;top: 0;bottom: 0;left: 50%;z-index: 0;}#sk-container-id-14 div.sk-serial {display: flex;flex-direction: column;align-items: center;background-color: white;padding-right: 0.2em;padding-left: 0.2em;position: relative;}#sk-container-id-14 div.sk-item {position: relative;z-index: 1;}#sk-container-id-14 div.sk-parallel {display: flex;align-items: stretch;justify-content: center;background-color: white;position: relative;}#sk-container-id-14 div.sk-item::before, #sk-container-id-14 div.sk-parallel-item::before {content: \"\";position: absolute;border-left: 1px solid gray;box-sizing: border-box;top: 0;bottom: 0;left: 50%;z-index: -1;}#sk-container-id-14 div.sk-parallel-item {display: flex;flex-direction: column;z-index: 1;position: relative;background-color: white;}#sk-container-id-14 div.sk-parallel-item:first-child::after {align-self: flex-end;width: 50%;}#sk-container-id-14 div.sk-parallel-item:last-child::after {align-self: flex-start;width: 50%;}#sk-container-id-14 div.sk-parallel-item:only-child::after {width: 0;}#sk-container-id-14 div.sk-dashed-wrapped {border: 1px dashed gray;margin: 0 0.4em 0.5em 0.4em;box-sizing: border-box;padding-bottom: 0.4em;background-color: white;}#sk-container-id-14 div.sk-label label {font-family: monospace;font-weight: bold;display: inline-block;line-height: 1.2em;}#sk-container-id-14 div.sk-label-container {text-align: center;}#sk-container-id-14 div.sk-container {/* jupyter's `normalize.less` sets `[hidden] { display: none; }` but bootstrap.min.css set `[hidden] { display: none !important; }` so we also need the `!important` here to be able to override the default hidden behavior on the sphinx rendered scikit-learn.org. See: https://github.com/scikit-learn/scikit-learn/issues/21755 */display: inline-block !important;position: relative;}#sk-container-id-14 div.sk-text-repr-fallback {display: none;}</style><div id=\"sk-container-id-14\" class=\"sk-top-container\"><div class=\"sk-text-repr-fallback\"><pre>DecisionTreeClassifier(criterion=&#x27;entropy&#x27;, max_depth=3, min_samples_leaf=5,\n",
       "                       random_state=44)</pre><b>In a Jupyter environment, please rerun this cell to show the HTML representation or trust the notebook. <br />On GitHub, the HTML representation is unable to render, please try loading this page with nbviewer.org.</b></div><div class=\"sk-container\" hidden><div class=\"sk-item\"><div class=\"sk-estimator sk-toggleable\"><input class=\"sk-toggleable__control sk-hidden--visually\" id=\"sk-estimator-id-14\" type=\"checkbox\" checked><label for=\"sk-estimator-id-14\" class=\"sk-toggleable__label sk-toggleable__label-arrow\">DecisionTreeClassifier</label><div class=\"sk-toggleable__content\"><pre>DecisionTreeClassifier(criterion=&#x27;entropy&#x27;, max_depth=3, min_samples_leaf=5,\n",
       "                       random_state=44)</pre></div></div></div></div></div>"
      ],
      "text/plain": [
       "DecisionTreeClassifier(criterion='entropy', max_depth=3, min_samples_leaf=5,\n",
       "                       random_state=44)"
      ]
     },
     "execution_count": 185,
     "metadata": {},
     "output_type": "execute_result"
    }
   ],
   "source": [
    "dtc = DecisionTreeClassifier(criterion=\"entropy\", random_state=44, max_depth=3, min_samples_leaf=5)\n",
    "dtc.fit(X_train, y_train)"
   ]
  },
  {
   "cell_type": "markdown",
   "id": "cc2d3d3d",
   "metadata": {},
   "source": [
    "## 7. Test et évaluation du modèle"
   ]
  },
  {
   "cell_type": "markdown",
   "id": "f7bf0b6c",
   "metadata": {},
   "source": [
    "### 7.1 KNN"
   ]
  },
  {
   "cell_type": "code",
   "execution_count": 188,
   "id": "a5d08236",
   "metadata": {},
   "outputs": [
    {
     "name": "stdout",
     "output_type": "stream",
     "text": [
      "(546,)\n",
      "Accuracy (KNN): 0.9798534798534798\n",
      "\n",
      "Matrice de confusion (KNN):\n",
      " [[351   7]\n",
      " [  4 184]]\n",
      "\n",
      "Rapport de classification (KNN):\n",
      "               precision    recall  f1-score   support\n",
      "\n",
      "           2       0.99      0.98      0.98       358\n",
      "           4       0.96      0.98      0.97       188\n",
      "\n",
      "    accuracy                           0.98       546\n",
      "   macro avg       0.98      0.98      0.98       546\n",
      "weighted avg       0.98      0.98      0.98       546\n",
      "\n"
     ]
    }
   ],
   "source": [
    "# Prédiction avec le modèle obtenu\n",
    "y_pred_knn = knn.predict(X_train)\n",
    "print(y_pred_knn.shape)\n",
    "\n",
    "# Évaluez les performances du modèle KNN\n",
    "acc_knn = accuracy_score(y_train, y_pred_knn)\n",
    "conf_knn = confusion_matrix(y_train, y_pred_knn)\n",
    "clf_report_knn = classification_report(y_train, y_pred_knn)\n",
    "\n",
    "# Affichez les résultats\n",
    "print(\"Accuracy (KNN):\", acc_knn)\n",
    "print(\"\\nMatrice de confusion (KNN):\\n\", conf_knn)\n",
    "print(\"\\nRapport de classification (KNN):\\n\", clf_report_knn)"
   ]
  },
  {
   "cell_type": "code",
   "execution_count": 189,
   "id": "ecfafcea",
   "metadata": {},
   "outputs": [
    {
     "name": "stdout",
     "output_type": "stream",
     "text": [
      "(137,)\n",
      "Accuracy (KNN): 0.9781021897810219\n",
      "\n",
      "Matrice de confusion (KNN):\n",
      " [[84  2]\n",
      " [ 1 50]]\n",
      "\n",
      "Rapport de classification (KNN):\n",
      "               precision    recall  f1-score   support\n",
      "\n",
      "           2       0.99      0.98      0.98        86\n",
      "           4       0.96      0.98      0.97        51\n",
      "\n",
      "    accuracy                           0.98       137\n",
      "   macro avg       0.97      0.98      0.98       137\n",
      "weighted avg       0.98      0.98      0.98       137\n",
      "\n"
     ]
    }
   ],
   "source": [
    "# On prédit les y_test\n",
    "y_pred_knn = knn.predict(X_test)\n",
    "print(y_pred_knn.shape)\n",
    "\n",
    "# Évaluez les performances du modèle KNN\n",
    "acc_knn = accuracy_score(y_test, y_pred_knn)\n",
    "conf_knn = confusion_matrix(y_test, y_pred_knn)\n",
    "clf_report_knn = classification_report(y_test, y_pred_knn)\n",
    "\n",
    "# Affichez les résultats\n",
    "print(\"Accuracy (KNN):\", acc_knn)\n",
    "print(\"\\nMatrice de confusion (KNN):\\n\", conf_knn)\n",
    "print(\"\\nRapport de classification (KNN):\\n\", clf_report_knn)"
   ]
  },
  {
   "cell_type": "markdown",
   "id": "dfb9dac0",
   "metadata": {},
   "source": [
    "Notre modèle a une exactitude de 97.8% pour la phase de test, ce qui est une bonne exactitude."
   ]
  },
  {
   "cell_type": "code",
   "execution_count": 190,
   "id": "11d78da8",
   "metadata": {},
   "outputs": [
    {
     "name": "stdout",
     "output_type": "stream",
     "text": [
      "(1,)\n",
      "[2]\n"
     ]
    }
   ],
   "source": [
    "# On prédit la cible pour un enregistrement Out-Of-Sample\n",
    "ech = {\n",
    "    \"Clump_Thickness\": 4,\n",
    "    \"Uniformity_Cell_Size\": 2,\n",
    "    \"Uniformity_Cell_Shape\": 1,\n",
    "    \"Marginal_Adhesion\": 1,\n",
    "    \"Single_Epithelial_Cell_Size\": 1,\n",
    "    \"Bare_Nuclei\": 2,\n",
    "    \"Bland_Chromatin\": 3,\n",
    "    \"Normal_Nucleoli\": 2,\n",
    "    \"Mitoses\": 1\n",
    "}\n",
    "\n",
    "ech_df = pd.DataFrame(ech, index=[0])\n",
    "\n",
    "y_pred_knn = knn.predict(ech_df)\n",
    "print(y_pred_knn.shape)\n",
    "print(y_pred_knn)"
   ]
  },
  {
   "cell_type": "markdown",
   "id": "cd8e621a",
   "metadata": {},
   "source": [
    "Selon notre modèle, pour cet échantillon on prédit la classe 2."
   ]
  },
  {
   "cell_type": "markdown",
   "id": "52126093",
   "metadata": {},
   "source": [
    "### 7.2 Decision Tree Classifier"
   ]
  },
  {
   "cell_type": "code",
   "execution_count": 192,
   "id": "adde9195",
   "metadata": {},
   "outputs": [
    {
     "name": "stdout",
     "output_type": "stream",
     "text": [
      "(546,)\n",
      "Accuracy (KNN): 0.967032967032967\n",
      "\n",
      "Matrice de confusion (KNN):\n",
      " [[344  14]\n",
      " [  4 184]]\n",
      "\n",
      "Rapport de classification (KNN):\n",
      "               precision    recall  f1-score   support\n",
      "\n",
      "           2       0.99      0.96      0.97       358\n",
      "           4       0.93      0.98      0.95       188\n",
      "\n",
      "    accuracy                           0.97       546\n",
      "   macro avg       0.96      0.97      0.96       546\n",
      "weighted avg       0.97      0.97      0.97       546\n",
      "\n"
     ]
    }
   ],
   "source": [
    "# Prédiction avec le modèle obtenu\n",
    "y_pred_dtc = dtc.predict(X_train)\n",
    "print(y_pred_dtc.shape)\n",
    "\n",
    "# Évaluez les performances du modèle KNN\n",
    "acc_dtc = accuracy_score(y_train, y_pred_dtc)\n",
    "conf_dtc = confusion_matrix(y_train, y_pred_dtc)\n",
    "clf_report_dtc = classification_report(y_train, y_pred_dtc)\n",
    "\n",
    "# Affichez les résultats\n",
    "print(\"Accuracy (KNN):\", acc_dtc)\n",
    "print(\"\\nMatrice de confusion (KNN):\\n\", conf_dtc)\n",
    "print(\"\\nRapport de classification (KNN):\\n\", clf_report_dtc)"
   ]
  },
  {
   "cell_type": "code",
   "execution_count": 193,
   "id": "5e244309",
   "metadata": {},
   "outputs": [
    {
     "name": "stdout",
     "output_type": "stream",
     "text": [
      "(137,)\n",
      "Accuracy (KNN): 0.9197080291970803\n",
      "\n",
      "Matrice de confusion (KNN):\n",
      " [[75 11]\n",
      " [ 0 51]]\n",
      "\n",
      "Rapport de classification (KNN):\n",
      "               precision    recall  f1-score   support\n",
      "\n",
      "           2       1.00      0.87      0.93        86\n",
      "           4       0.82      1.00      0.90        51\n",
      "\n",
      "    accuracy                           0.92       137\n",
      "   macro avg       0.91      0.94      0.92       137\n",
      "weighted avg       0.93      0.92      0.92       137\n",
      "\n"
     ]
    }
   ],
   "source": [
    "# On prédit les y_test\n",
    "y_pred_dtc = dtc.predict(X_test)\n",
    "print(y_pred_dtc.shape)\n",
    "\n",
    "# Évaluez les performances du modèle KNN\n",
    "acc_dtc = accuracy_score(y_test, y_pred_dtc)\n",
    "conf_dtc = confusion_matrix(y_test, y_pred_dtc)\n",
    "clf_report_dtc = classification_report(y_test, y_pred_dtc)\n",
    "\n",
    "# Affichez les résultats\n",
    "print(\"Accuracy (KNN):\", acc_dtc)\n",
    "print(\"\\nMatrice de confusion (KNN):\\n\", conf_dtc)\n",
    "print(\"\\nRapport de classification (KNN):\\n\", clf_report_dtc)"
   ]
  },
  {
   "cell_type": "code",
   "execution_count": 194,
   "id": "d263f987",
   "metadata": {},
   "outputs": [
    {
     "name": "stdout",
     "output_type": "stream",
     "text": [
      "(1,)\n",
      "[2]\n"
     ]
    }
   ],
   "source": [
    "# On prédit la cible pour un enregistrement Out-Of-Sample\n",
    "ech = {\n",
    "    \"Clump_Thickness\": 4,\n",
    "    \"Uniformity_Cell_Size\": 2,\n",
    "    \"Uniformity_Cell_Shape\": 1,\n",
    "    \"Marginal_Adhesion\": 1,\n",
    "    \"Single_Epithelial_Cell_Size\": 1,\n",
    "    \"Bare_Nuclei\": 2,\n",
    "    \"Bland_Chromatin\": 3,\n",
    "    \"Normal_Nucleoli\": 2,\n",
    "    \"Mitoses\": 1\n",
    "}\n",
    "\n",
    "ech_df = pd.DataFrame(ech, index=[0])\n",
    "\n",
    "y_pred_dtc = dtc.predict(ech_df)\n",
    "print(y_pred_dtc.shape)\n",
    "print(y_pred_dtc)"
   ]
  },
  {
   "cell_type": "markdown",
   "id": "ab3ae4fe",
   "metadata": {},
   "source": [
    "## 8. Conclusion"
   ]
  },
  {
   "cell_type": "markdown",
   "id": "70aaff07",
   "metadata": {},
   "source": [
    "L'algorithme kNN a une exactitude de 97.8%, tandis que l'algorithme Decision Tree Classifier a une exactitude de 92%."
   ]
  }
 ],
 "metadata": {
  "kernelspec": {
   "display_name": "Python 3 (ipykernel)",
   "language": "python",
   "name": "python3"
  },
  "language_info": {
   "codemirror_mode": {
    "name": "ipython",
    "version": 3
   },
   "file_extension": ".py",
   "mimetype": "text/x-python",
   "name": "python",
   "nbconvert_exporter": "python",
   "pygments_lexer": "ipython3",
   "version": "3.11.5"
  }
 },
 "nbformat": 4,
 "nbformat_minor": 5
}
