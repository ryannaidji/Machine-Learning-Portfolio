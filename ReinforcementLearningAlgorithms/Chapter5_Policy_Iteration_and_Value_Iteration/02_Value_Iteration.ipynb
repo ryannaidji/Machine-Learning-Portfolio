{
 "cells": [
  {
   "cell_type": "markdown",
   "id": "f24e22d9",
   "metadata": {},
   "source": [
    "# Value Iteration in Reinforcement Learning\n",
    "\n",
    "Value iteration is an algorithm used to compute the optimal policy $\\pi^*$ for a given Markov Decision Process (MDP). The process starts with an initial value function and iteratively updates it until it converges to the optimal value function."
   ]
  },
  {
   "cell_type": "markdown",
   "id": "cac000fa",
   "metadata": {},
   "source": [
    "## Principles of Value Iteration\n",
    "\n",
    "Value iteration is an iterative algorithm that aims to find the optimal policy $\\pi^*$ by improving the value function $V$ at each iteration. The algorithm starts with an initial value function and updates it using the Bellman optimality equation.\n",
    "\n",
    "### Process:\n",
    "1. **Initialization**: Start with an initial state-value function $V$.\n",
    "2. **Value Update**: Update the value function using the Bellman optimality equation.\n",
    "3. **Policy Extraction**: Derive the policy from the value function.\n",
    "\n",
    "The goal is to find the optimal policy $\\pi^*$ by applying the Bellman backup iteratively.\n",
    "\n",
    "### Steps:\n",
    "1. Compute $V_1, V_2, \\ldots$ until $V^*$\n",
    "2. At each iteration $k+1$:\n",
    "   - For all states $s$:\n",
    "     - Update $V_{k+1}(s)$ based on $V_k(s')$\n",
    "\n",
    "### Bellman Backup:\n",
    "\n",
    "---\n",
    "\n",
    "\n",
    ">$$V_{k+1}(s) = \\max_{a} \\sum_{s'} P(s'|s,a) \\left[ R(s,a,s') + \\gamma V_k(s') \\right]$$\n",
    "\n",
    "\n",
    "---\n",
    "\n",
    "The process continues until the value function converges.\n"
   ]
  },
  {
   "cell_type": "markdown",
   "id": "f0b57f67",
   "metadata": {},
   "source": [
    "## Convergence of Value Iteration\n",
    "\n",
    "Value iteration converges to the optimal value function $V^*$ when the value function no longer changes significantly between iterations. Once $V^*$ is obtained, the optimal policy $\\pi^*$ can be derived by choosing the action that maximizes the expected return for each state.\n",
    "\n",
    "### Convergence Check:\n",
    "The algorithm stops when the change in the value function is smaller than a predefined threshold $\\theta$.\n",
    "\n",
    "### Policy Extraction:\n",
    "After convergence, the optimal policy $\\pi^*$ is derived as:\n",
    "\n",
    "---\n",
    "\n",
    "\n",
    ">$$\\pi^*(s) = \\arg\\max_{a} \\sum_{s'} P(s'|s,a) \\left[ R(s,a,s') + \\gamma V^*(s') \\right]$$\n",
    "\n",
    "\n",
    "---"
   ]
  },
  {
   "cell_type": "markdown",
   "id": "3ae78818",
   "metadata": {},
   "source": [
    "## Value Iteration Algorithm\n",
    "\n",
    "The Value Iteration algorithm for estimating $\\pi^*$ is as follows:\n",
    "\n",
    "1. **Initialization**: Start with an initial value function $V$.\n",
    "2. **Value Update**: For each state, update the value function using the Bellman optimality equation.\n",
    "3. **Convergence Check**: If the value function changes are below a threshold, stop.\n",
    "4. **Policy Extraction**: Derive the optimal policy from the converged value function.\n",
    "\n",
    "### Pseudocode\n",
    "\n",
    "1. Initialize $V(s)$ arbitrarily for all states $s$\n",
    "2. Repeat:\n",
    "    - For each state $s$\n",
    "    - $V_{k+1}(s) = \\max_{a} \\sum_{s'} P(s'|s,a) \\left[ R(s,a,s') + \\gamma V_k(s') \\right]$\n",
    "    - If $\\max_{s} \\left| V_{k+1}(s) - V_{k}(s) \\right| < \\theta$: Converged\n",
    "3. Extract the optimal policy $\\pi^*$: $\\pi^*(s) = \\arg\\max_{a} \\sum_{s'} P(s'|s,a) \\left[ R(s,a,s') + \\gamma V^*(s') \\right]$\n",
    "\n",
    "\n"
   ]
  },
  {
   "cell_type": "markdown",
   "id": "76bf2ed0",
   "metadata": {},
   "source": [
    "## Example Implementation of Value Iteration in Python\n",
    "\n",
    "Below is an example implementation of the Value Iteration algorithm in Python.\n"
   ]
  },
  {
   "cell_type": "code",
   "execution_count": 1,
   "id": "44c3015d",
   "metadata": {},
   "outputs": [
    {
     "name": "stdout",
     "output_type": "stream",
     "text": [
      "Optimal Policy:\n",
      "State 0: b\n",
      "State 1: b\n",
      "State 2: b\n",
      "\n",
      "Optimal State-Value Function:\n",
      "V(0) = 29.254688524862296\n",
      "V(1) = 30.292367643612547\n",
      "V(2) = 30.329219672376066\n"
     ]
    }
   ],
   "source": [
    "import numpy as np\n",
    "\n",
    "# Define the states, actions, transition probabilities, and rewards\n",
    "states = [0, 1, 2]\n",
    "actions = ['a', 'b']\n",
    "transition_probs = {\n",
    "    0: {'a': {0: 0.5, 1: 0.5}, 'b': {1: 1.0}},\n",
    "    1: {'a': {0: 1.0}, 'b': {2: 1.0}},\n",
    "    2: {'a': {2: 1.0}, 'b': {0: 1.0}}\n",
    "}\n",
    "rewards = {\n",
    "    0: {'a': {0: 0, 1: 1}, 'b': {1: 2}},\n",
    "    1: {'a': {0: 0}, 'b': {2: 3}},\n",
    "    2: {'a': {2: 0}, 'b': {0: 4}}\n",
    "}\n",
    "gamma = 0.9\n",
    "theta = 0.01\n",
    "\n",
    "def value_iteration(states, actions, transition_probs, rewards, gamma, theta):\n",
    "    V = {s: 0 for s in states}  # Initialize value function to 0 for all states\n",
    "    while True:\n",
    "        delta = 0\n",
    "        for s in states:\n",
    "            v = V[s]\n",
    "            V[s] = max(sum(transition_probs[s][a][s_prime] * (rewards[s][a][s_prime] + gamma * V[s_prime])\n",
    "                           for s_prime in transition_probs[s][a]) for a in actions)\n",
    "            delta = max(delta, abs(v - V[s]))\n",
    "        if delta < theta:\n",
    "            break\n",
    "\n",
    "    policy = {}\n",
    "    for s in states:\n",
    "        action_values = {}\n",
    "        for a in actions:\n",
    "            action_values[a] = sum(transition_probs[s][a][s_prime] * (rewards[s][a][s_prime] + gamma * V[s_prime])\n",
    "                                   for s_prime in transition_probs[s][a])\n",
    "        best_action = max(action_values, key=action_values.get)\n",
    "        policy[s] = best_action\n",
    "\n",
    "    return policy, V\n",
    "\n",
    "# Run value iteration\n",
    "optimal_policy, optimal_value_function = value_iteration(states, actions, transition_probs, rewards, gamma, theta)\n",
    "\n",
    "print(\"Optimal Policy:\")\n",
    "for state in optimal_policy:\n",
    "    print(f\"State {state}: {optimal_policy[state]}\")\n",
    "\n",
    "print(\"\\nOptimal State-Value Function:\")\n",
    "for state in optimal_value_function:\n",
    "    print(f\"V({state}) = {optimal_value_function[state]}\")\n"
   ]
  },
  {
   "cell_type": "markdown",
   "id": "9eec0b7d",
   "metadata": {},
   "source": [
    "## Explanation of the Value Iteration Implementation\n",
    "\n",
    "The implementation of the value iteration algorithm involves the following steps:\n",
    "\n",
    "1. **Initialization**:\n",
    "   - We start with an initial value function where each state value is set to zero.\n",
    "\n",
    "2. **Value Update**:\n",
    "   - For each state, we update the value function using the Bellman optimality equation:\n",
    "     $V_{k+1}(s) = \\max_{a} \\sum_{s'} P(s'|s,a) [ R(s,a,s') + \\gamma V_k(s') ]$\n",
    "   - This step is repeated for all states until the value function converges (i.e., the change in the value function is smaller than a predefined threshold $\\theta$.\n",
    "\n",
    "3. **Policy Extraction**:\n",
    "   - After the value function has converged, we derive the optimal policy by selecting the action that maximizes the expected return for each state:\n",
    "     $\\pi^*(s) = \\arg\\max_{a} \\sum_{s'} P(s'|s,a) [ R(s,a,s') + \\gamma V^*(s') ]$"
   ]
  },
  {
   "cell_type": "markdown",
   "id": "143255e1",
   "metadata": {},
   "source": [
    "The optimal policy indicates the best action to take in each state, and the optimal state-value function provides the maximum expected return starting from each state under the optimal policy."
   ]
  }
 ],
 "metadata": {
  "kernelspec": {
   "display_name": "Python 3 (ipykernel)",
   "language": "python",
   "name": "python3"
  },
  "language_info": {
   "codemirror_mode": {
    "name": "ipython",
    "version": 3
   },
   "file_extension": ".py",
   "mimetype": "text/x-python",
   "name": "python",
   "nbconvert_exporter": "python",
   "pygments_lexer": "ipython3",
   "version": "3.11.5"
  }
 },
 "nbformat": 4,
 "nbformat_minor": 5
}
