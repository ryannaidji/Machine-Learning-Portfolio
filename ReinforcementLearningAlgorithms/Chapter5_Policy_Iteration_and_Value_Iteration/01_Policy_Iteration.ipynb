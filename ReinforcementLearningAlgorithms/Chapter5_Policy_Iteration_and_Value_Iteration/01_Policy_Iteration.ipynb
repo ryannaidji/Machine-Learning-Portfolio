{
 "cells": [
  {
   "cell_type": "markdown",
   "id": "985f5f0b",
   "metadata": {},
   "source": [
    "# Policy Iteration in Reinforcement Learning\n",
    "\n",
    "Policy iteration is an algorithm used to compute the optimal policy $\\pi^*$ for a given Markov Decision Process (MDP). The process starts with an initial policy and iteratively improves it until it converges to the optimal policy."
   ]
  },
  {
   "cell_type": "markdown",
   "id": "2017a259",
   "metadata": {},
   "source": [
    "## Policy Evaluation\n",
    "\n",
    "Policy evaluation is the process of determining the state-value function $V^{\\pi}$ for a given policy $\\pi$. This involves solving the Bellman expectation equation for $V^{\\pi}$:\n",
    "\n",
    "---\n",
    "\n",
    "\n",
    ">$$V^{\\pi}(s) = \\mathbb{E}_{\\pi} [R_{t+1} + \\gamma V^{\\pi}(S_{t+1}) | S_t = s]$$\n",
    "\n",
    "\n",
    "---\n",
    "\n",
    "This iterative process continues until the value function converges."
   ]
  },
  {
   "cell_type": "markdown",
   "id": "809575d1",
   "metadata": {},
   "source": [
    "## Policy Improvement\n",
    "\n",
    "Policy improvement is the process of using the value function $V^{\\pi}$ to find a better policy $\\pi'$ . The policy improvement step uses the following equation:\n",
    "\n",
    "---\n",
    "\n",
    "\n",
    ">$$\\pi'(s) = \\arg\\max_{a} \\sum_{s'} P(s'|s,a) \\left[ R(s,a,s') + \\gamma V^{\\pi}(s') \\right]$$\n",
    "\n",
    "\n",
    "---\n",
    "\n",
    "This step is repeated iteratively to improve the policy.\n"
   ]
  },
  {
   "cell_type": "markdown",
   "id": "d60b6cb7",
   "metadata": {},
   "source": [
    "## Convergence of Policy Iteration\n",
    "\n",
    "Policy iteration converges to the optimal policy $\\pi^*$ when the policy no longer changes between iterations. The process involves two main steps:\n",
    "\n",
    "1. **Policy Evaluation**: Compute the value function $V^{\\pi}$ for the current policy $\\pi$.\n",
    "2. **Policy Improvement**: Use $V^{\\pi}$ to find a better policy $\\pi'$.\n",
    "\n",
    "These steps are repeated until the policy converges to the optimal policy $\\pi^*$.\n"
   ]
  },
  {
   "cell_type": "markdown",
   "id": "9d7b173e",
   "metadata": {},
   "source": [
    "## Policy Iteration Algorithm\n",
    "\n",
    "The Policy Iteration algorithm for estimating $\\pi^*$ is as follows:\n",
    "\n",
    "1. **Initialization**: Start with an arbitrary policy $\\pi$.\n",
    "2. **Policy Evaluation**: Compute the value function $V^{\\pi}$ for the current policy $\\pi$.\n",
    "3. **Policy Improvement**: Update the policy $\\pi$ using the value function $V^{\\pi}$.\n",
    "4. **Convergence Check**: If the policy $\\pi$ has not changed, stop. Otherwise, go back to step 2.\n",
    "\n",
    "### Pseudocode\n",
    "\n",
    "\n",
    "1. Initialize $\\pi$ arbitrarily\n",
    "2. Repeat:\n",
    "    - Policy Evaluation: Compute $V^\\pi$\n",
    "    - Policy Improvement: Update $\\pi$ using $V^\\pi$\n",
    "    - If $\\pi$ is unchanged: Converged"
   ]
  },
  {
   "cell_type": "markdown",
   "id": "9b8be75a",
   "metadata": {},
   "source": [
    "## Example Implementation of Policy Iteration in Python\n",
    "\n",
    "Below is an example implementation of the Policy Iteration algorithm in Python.\n"
   ]
  },
  {
   "cell_type": "code",
   "execution_count": 1,
   "id": "ce34ee30",
   "metadata": {},
   "outputs": [
    {
     "name": "stdout",
     "output_type": "stream",
     "text": [
      "Optimal Policy:\n",
      "State 0: {'a': 0, 'b': 1}\n",
      "State 1: {'a': 0, 'b': 1}\n",
      "State 2: {'a': 0, 'b': 1}\n",
      "\n",
      "Optimal State-Value Function:\n",
      "V(0) = 29.254688524862296\n",
      "V(1) = 30.292367643612547\n",
      "V(2) = 30.329219672376066\n"
     ]
    }
   ],
   "source": [
    "import numpy as np\n",
    "\n",
    "# Define the states, actions, transition probabilities, and rewards\n",
    "states = [0, 1, 2]\n",
    "actions = ['a', 'b']\n",
    "transition_probs = {\n",
    "    0: {'a': {0: 0.5, 1: 0.5}, 'b': {1: 1.0}},\n",
    "    1: {'a': {0: 1.0}, 'b': {2: 1.0}},\n",
    "    2: {'a': {2: 1.0}, 'b': {0: 1.0}}\n",
    "}\n",
    "rewards = {\n",
    "    0: {'a': {0: 0, 1: 1}, 'b': {1: 2}},\n",
    "    1: {'a': {0: 0}, 'b': {2: 3}},\n",
    "    2: {'a': {2: 0}, 'b': {0: 4}}\n",
    "}\n",
    "gamma = 0.9\n",
    "theta = 0.01\n",
    "\n",
    "def policy_evaluation(policy, states, actions, transition_probs, rewards, gamma, theta):\n",
    "    V = {s: 0 for s in states}\n",
    "    while True:\n",
    "        delta = 0\n",
    "        for s in states:\n",
    "            v = V[s]\n",
    "            new_v = sum(policy[s][a] * sum(transition_probs[s][a][s_prime] * (rewards[s][a][s_prime] + gamma * V[s_prime])\n",
    "                        for s_prime in transition_probs[s][a])\n",
    "                        for a in actions)\n",
    "            V[s] = new_v\n",
    "            delta = max(delta, abs(v - new_v))\n",
    "        if delta < theta:\n",
    "            break\n",
    "    return V\n",
    "\n",
    "def policy_improvement(states, actions, transition_probs, rewards, V, gamma):\n",
    "    policy = {}\n",
    "    for s in states:\n",
    "        action_values = {}\n",
    "        for a in actions:\n",
    "            action_values[a] = sum(transition_probs[s][a][s_prime] * (rewards[s][a][s_prime] + gamma * V[s_prime])\n",
    "                                   for s_prime in transition_probs[s][a])\n",
    "        best_action = max(action_values, key=action_values.get)\n",
    "        policy[s] = {a: 1 if a == best_action else 0 for a in actions}\n",
    "    return policy\n",
    "\n",
    "def policy_iteration(states, actions, transition_probs, rewards, gamma, theta):\n",
    "    policy = {s: {a: 1 / len(actions) for a in actions} for s in states}\n",
    "    while True:\n",
    "        V = policy_evaluation(policy, states, actions, transition_probs, rewards, gamma, theta)\n",
    "        new_policy = policy_improvement(states, actions, transition_probs, rewards, V, gamma)\n",
    "        if new_policy == policy:\n",
    "            break\n",
    "        policy = new_policy\n",
    "    return policy, V\n",
    "\n",
    "# Run policy iteration\n",
    "optimal_policy, optimal_value_function = policy_iteration(states, actions, transition_probs, rewards, gamma, theta)\n",
    "\n",
    "print(\"Optimal Policy:\")\n",
    "for state in optimal_policy:\n",
    "    print(f\"State {state}: {optimal_policy[state]}\")\n",
    "\n",
    "print(\"\\nOptimal State-Value Function:\")\n",
    "for state in optimal_value_function:\n",
    "    print(f\"V({state}) = {optimal_value_function[state]}\")\n"
   ]
  },
  {
   "cell_type": "markdown",
   "id": "49fc5129",
   "metadata": {},
   "source": [
    "## Explanation of the Policy Iteration Implementation\n",
    "\n",
    "The implementation of the policy iteration algorithm involves the following steps:\n",
    "\n",
    "1. **Initialization**:\n",
    "   - We start with an arbitrary policy where each action is equally likely for each state.\n",
    "\n",
    "2. **Policy Evaluation**:\n",
    "   - We iteratively compute the value function $V^{\\pi}$ for the current policy $\\pi$ until it converges.\n",
    "   - The value function update is done by summing over the expected returns of each action and state transition.\n",
    "\n",
    "3. **Policy Improvement**:\n",
    "   - Using the current value function $V^{\\pi}$, we determine the best action for each state that maximizes the expected return.\n",
    "   - The policy is updated to take this best action.\n",
    "\n",
    "4. **Convergence Check**:\n",
    "   - If the policy does not change after the improvement step, the algorithm has converged to the optimal policy $\\pi^*$.\n"
   ]
  },
  {
   "cell_type": "markdown",
   "id": "36743e10",
   "metadata": {},
   "source": [
    "The optimal policy indicates the best action to take in each state, and the optimal state-value function provides the maximum expected return starting from each state under the optimal policy."
   ]
  }
 ],
 "metadata": {
  "kernelspec": {
   "display_name": "Python 3 (ipykernel)",
   "language": "python",
   "name": "python3"
  },
  "language_info": {
   "codemirror_mode": {
    "name": "ipython",
    "version": 3
   },
   "file_extension": ".py",
   "mimetype": "text/x-python",
   "name": "python",
   "nbconvert_exporter": "python",
   "pygments_lexer": "ipython3",
   "version": "3.11.5"
  }
 },
 "nbformat": 4,
 "nbformat_minor": 5
}
