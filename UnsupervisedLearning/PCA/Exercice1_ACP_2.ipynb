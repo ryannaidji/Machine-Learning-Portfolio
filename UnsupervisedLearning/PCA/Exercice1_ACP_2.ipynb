{
 "cells": [
  {
   "cell_type": "code",
   "execution_count": 4,
   "metadata": {},
   "outputs": [],
   "source": [
    "import pandas as pd\n",
    "import numpy as np"
   ]
  },
  {
   "cell_type": "code",
   "execution_count": 5,
   "metadata": {},
   "outputs": [
    {
     "data": {
      "text/html": [
       "<div>\n",
       "<style scoped>\n",
       "    .dataframe tbody tr th:only-of-type {\n",
       "        vertical-align: middle;\n",
       "    }\n",
       "\n",
       "    .dataframe tbody tr th {\n",
       "        vertical-align: top;\n",
       "    }\n",
       "\n",
       "    .dataframe thead th {\n",
       "        text-align: right;\n",
       "    }\n",
       "</style>\n",
       "<table border=\"1\" class=\"dataframe\">\n",
       "  <thead>\n",
       "    <tr style=\"text-align: right;\">\n",
       "      <th></th>\n",
       "      <th>puissance</th>\n",
       "      <th>Longueur</th>\n",
       "      <th>Hauteur</th>\n",
       "      <th>poids</th>\n",
       "      <th>CO2</th>\n",
       "      <th>Origine</th>\n",
       "      <th>Carburant</th>\n",
       "      <th>4X4</th>\n",
       "    </tr>\n",
       "    <tr>\n",
       "      <th>Modele</th>\n",
       "      <th></th>\n",
       "      <th></th>\n",
       "      <th></th>\n",
       "      <th></th>\n",
       "      <th></th>\n",
       "      <th></th>\n",
       "      <th></th>\n",
       "      <th></th>\n",
       "    </tr>\n",
       "  </thead>\n",
       "  <tbody>\n",
       "    <tr>\n",
       "      <th>Alfasud TI</th>\n",
       "      <td>75</td>\n",
       "      <td>421</td>\n",
       "      <td>149</td>\n",
       "      <td>1217</td>\n",
       "      <td>143</td>\n",
       "      <td>Europe</td>\n",
       "      <td>Diesel</td>\n",
       "      <td>non</td>\n",
       "    </tr>\n",
       "    <tr>\n",
       "      <th>Audi 100</th>\n",
       "      <td>138</td>\n",
       "      <td>426</td>\n",
       "      <td>146</td>\n",
       "      <td>1381</td>\n",
       "      <td>142</td>\n",
       "      <td>France</td>\n",
       "      <td>Diesel</td>\n",
       "      <td>non</td>\n",
       "    </tr>\n",
       "    <tr>\n",
       "      <th>Simca 1300</th>\n",
       "      <td>204</td>\n",
       "      <td>491</td>\n",
       "      <td>145</td>\n",
       "      <td>1723</td>\n",
       "      <td>223</td>\n",
       "      <td>France</td>\n",
       "      <td>Diesel</td>\n",
       "      <td>non</td>\n",
       "    </tr>\n",
       "    <tr>\n",
       "      <th>Citroen GS Club</th>\n",
       "      <td>150</td>\n",
       "      <td>486</td>\n",
       "      <td>158</td>\n",
       "      <td>1735</td>\n",
       "      <td>188</td>\n",
       "      <td>France</td>\n",
       "      <td>Diesel</td>\n",
       "      <td>non</td>\n",
       "    </tr>\n",
       "    <tr>\n",
       "      <th>Fiat 132</th>\n",
       "      <td>61</td>\n",
       "      <td>367</td>\n",
       "      <td>147</td>\n",
       "      <td>932</td>\n",
       "      <td>141</td>\n",
       "      <td>France</td>\n",
       "      <td>Essence</td>\n",
       "      <td>non</td>\n",
       "    </tr>\n",
       "    <tr>\n",
       "      <th>Lancia Beta</th>\n",
       "      <td>340</td>\n",
       "      <td>502</td>\n",
       "      <td>148</td>\n",
       "      <td>1835</td>\n",
       "      <td>291</td>\n",
       "      <td>Autre</td>\n",
       "      <td>Essence</td>\n",
       "      <td>non</td>\n",
       "    </tr>\n",
       "    <tr>\n",
       "      <th>Peugeot 504</th>\n",
       "      <td>102</td>\n",
       "      <td>421</td>\n",
       "      <td>143</td>\n",
       "      <td>1205</td>\n",
       "      <td>168</td>\n",
       "      <td>Europe</td>\n",
       "      <td>Essence</td>\n",
       "      <td>non</td>\n",
       "    </tr>\n",
       "    <tr>\n",
       "      <th>Renault 16 TL</th>\n",
       "      <td>202</td>\n",
       "      <td>455</td>\n",
       "      <td>167</td>\n",
       "      <td>1595</td>\n",
       "      <td>237</td>\n",
       "      <td>Autre</td>\n",
       "      <td>Diesel</td>\n",
       "      <td>oui</td>\n",
       "    </tr>\n",
       "    <tr>\n",
       "      <th>Renault 30</th>\n",
       "      <td>223</td>\n",
       "      <td>429</td>\n",
       "      <td>154</td>\n",
       "      <td>1595</td>\n",
       "      <td>235</td>\n",
       "      <td>Autre</td>\n",
       "      <td>Essence</td>\n",
       "      <td>non</td>\n",
       "    </tr>\n",
       "    <tr>\n",
       "      <th>Toyota Corolla</th>\n",
       "      <td>125</td>\n",
       "      <td>450</td>\n",
       "      <td>173</td>\n",
       "      <td>1757</td>\n",
       "      <td>197</td>\n",
       "      <td>Autre</td>\n",
       "      <td>Diesel</td>\n",
       "      <td>oui</td>\n",
       "    </tr>\n",
       "  </tbody>\n",
       "</table>\n",
       "</div>"
      ],
      "text/plain": [
       "                 puissance  Longueur  Hauteur  poids  CO2 Origine Carburant  \\\n",
       "Modele                                                                        \n",
       "Alfasud TI              75       421      149   1217  143  Europe    Diesel   \n",
       "Audi 100               138       426      146   1381  142  France    Diesel   \n",
       "Simca 1300             204       491      145   1723  223  France    Diesel   \n",
       "Citroen GS Club        150       486      158   1735  188  France    Diesel   \n",
       "Fiat 132                61       367      147    932  141  France   Essence   \n",
       "Lancia Beta            340       502      148   1835  291   Autre   Essence   \n",
       "Peugeot 504            102       421      143   1205  168  Europe   Essence   \n",
       "Renault 16 TL          202       455      167   1595  237   Autre    Diesel   \n",
       "Renault 30             223       429      154   1595  235   Autre   Essence   \n",
       "Toyota Corolla         125       450      173   1757  197   Autre    Diesel   \n",
       "\n",
       "                 4X4  \n",
       "Modele                \n",
       "Alfasud TI       non  \n",
       "Audi 100         non  \n",
       "Simca 1300       non  \n",
       "Citroen GS Club  non  \n",
       "Fiat 132         non  \n",
       "Lancia Beta      non  \n",
       "Peugeot 504      non  \n",
       "Renault 16 TL    oui  \n",
       "Renault 30       non  \n",
       "Toyota Corolla   oui  "
      ]
     },
     "execution_count": 5,
     "metadata": {},
     "output_type": "execute_result"
    }
   ],
   "source": [
    "X = pd.read_csv(\"Voitures.csv\",delimiter=\";\", index_col=0)\n",
    "\n",
    "X"
   ]
  },
  {
   "cell_type": "code",
   "execution_count": 6,
   "metadata": {},
   "outputs": [
    {
     "data": {
      "text/plain": [
       "puissance     int64\n",
       "Longueur      int64\n",
       "Hauteur       int64\n",
       "poids         int64\n",
       "CO2           int64\n",
       "Origine      object\n",
       "Carburant    object\n",
       "4X4          object\n",
       "dtype: object"
      ]
     },
     "execution_count": 6,
     "metadata": {},
     "output_type": "execute_result"
    }
   ],
   "source": [
    "X.dtypes\n",
    "# 10 individus et 8variables\n",
    "\n",
    "# 3 variables sont catégorielles\n",
    "\n",
    "# On va séparer les variables numériques (X1) et catégorielles (X2)"
   ]
  },
  {
   "cell_type": "code",
   "execution_count": 7,
   "metadata": {},
   "outputs": [
    {
     "data": {
      "text/html": [
       "<div>\n",
       "<style scoped>\n",
       "    .dataframe tbody tr th:only-of-type {\n",
       "        vertical-align: middle;\n",
       "    }\n",
       "\n",
       "    .dataframe tbody tr th {\n",
       "        vertical-align: top;\n",
       "    }\n",
       "\n",
       "    .dataframe thead th {\n",
       "        text-align: right;\n",
       "    }\n",
       "</style>\n",
       "<table border=\"1\" class=\"dataframe\">\n",
       "  <thead>\n",
       "    <tr style=\"text-align: right;\">\n",
       "      <th></th>\n",
       "      <th>puissance</th>\n",
       "      <th>Longueur</th>\n",
       "      <th>Hauteur</th>\n",
       "      <th>poids</th>\n",
       "      <th>CO2</th>\n",
       "    </tr>\n",
       "    <tr>\n",
       "      <th>Modele</th>\n",
       "      <th></th>\n",
       "      <th></th>\n",
       "      <th></th>\n",
       "      <th></th>\n",
       "      <th></th>\n",
       "    </tr>\n",
       "  </thead>\n",
       "  <tbody>\n",
       "    <tr>\n",
       "      <th>Alfasud TI</th>\n",
       "      <td>75</td>\n",
       "      <td>421</td>\n",
       "      <td>149</td>\n",
       "      <td>1217</td>\n",
       "      <td>143</td>\n",
       "    </tr>\n",
       "    <tr>\n",
       "      <th>Audi 100</th>\n",
       "      <td>138</td>\n",
       "      <td>426</td>\n",
       "      <td>146</td>\n",
       "      <td>1381</td>\n",
       "      <td>142</td>\n",
       "    </tr>\n",
       "    <tr>\n",
       "      <th>Simca 1300</th>\n",
       "      <td>204</td>\n",
       "      <td>491</td>\n",
       "      <td>145</td>\n",
       "      <td>1723</td>\n",
       "      <td>223</td>\n",
       "    </tr>\n",
       "    <tr>\n",
       "      <th>Citroen GS Club</th>\n",
       "      <td>150</td>\n",
       "      <td>486</td>\n",
       "      <td>158</td>\n",
       "      <td>1735</td>\n",
       "      <td>188</td>\n",
       "    </tr>\n",
       "    <tr>\n",
       "      <th>Fiat 132</th>\n",
       "      <td>61</td>\n",
       "      <td>367</td>\n",
       "      <td>147</td>\n",
       "      <td>932</td>\n",
       "      <td>141</td>\n",
       "    </tr>\n",
       "  </tbody>\n",
       "</table>\n",
       "</div>"
      ],
      "text/plain": [
       "                 puissance  Longueur  Hauteur  poids  CO2\n",
       "Modele                                                   \n",
       "Alfasud TI              75       421      149   1217  143\n",
       "Audi 100               138       426      146   1381  142\n",
       "Simca 1300             204       491      145   1723  223\n",
       "Citroen GS Club        150       486      158   1735  188\n",
       "Fiat 132                61       367      147    932  141"
      ]
     },
     "execution_count": 7,
     "metadata": {},
     "output_type": "execute_result"
    }
   ],
   "source": [
    "X=X.rename(columns={\"4X4\":\"quatre\"})\n",
    "X\n",
    "\n",
    "import numpy as np\n",
    "\n",
    "X1 = X.select_dtypes(exclude=['object'])\n",
    "\n",
    "X2 = X.select_dtypes(include=[object])\n",
    "\n",
    "X1.head()\n"
   ]
  },
  {
   "cell_type": "code",
   "execution_count": 8,
   "metadata": {},
   "outputs": [
    {
     "data": {
      "text/plain": [
       "<function matplotlib.pyplot.show(close=None, block=None)>"
      ]
     },
     "execution_count": 8,
     "metadata": {},
     "output_type": "execute_result"
    },
    {
     "data": {
      "image/png": "[encoded data removed]",
      "text/plain": [
       "<Figure size 640x480 with 1 Axes>"
      ]
     },
     "metadata": {},
     "output_type": "display_data"
    },
    {
     "data": {
      "image/png": "[encoded data removed]",
      "text/plain": [
       "<Figure size 640x480 with 1 Axes>"
      ]
     },
     "metadata": {},
     "output_type": "display_data"
    },
    {
     "data": {
      "image/png": "[encoded data removed]",
      "text/plain": [
       "<Figure size 640x480 with 1 Axes>"
      ]
     },
     "metadata": {},
     "output_type": "display_data"
    },
    {
     "data": {
      "image/png": "[encoded data removed]",
      "text/plain": [
       "<Figure size 640x480 with 1 Axes>"
      ]
     },
     "metadata": {},
     "output_type": "display_data"
    }
   ],
   "source": [
    "#On regarde un peu les modalités des variables catégorielles\n",
    "\n",
    "import seaborn as sns\n",
    "\n",
    "import matplotlib.pyplot as plt\n",
    "\n",
    "X2.Origine.hist(bins=10)\n",
    "X2.Carburant.hist(bins=10)\n",
    "X2.quatre.hist(bins=10)\n",
    "\n",
    "pd.crosstab(X2.Origine,X2.Carburant).plot(kind=\"bar\") ; plt.show\n",
    "pd.crosstab(X2.Origine,X2.quatre).plot(kind=\"bar\") ; plt.show\n",
    "pd.crosstab(X2.quatre,X2.Carburant).plot(kind=\"bar\") ; plt.show\n"
   ]
  },
  {
   "cell_type": "code",
   "execution_count": 9,
   "metadata": {},
   "outputs": [],
   "source": [
    "# On voit bien les biais initiaux des variables catégorielles...\n",
    "# Toutes les voitures 4X4 sont au diesel et non europeenne\n",
    "# Le diesel est sur-représenté en France\n",
    " \n",
    "\n",
    "# On va transformer les variables catégorielles en variables binaires \n",
    "\n",
    "# Vérification avant qu'il n'y a aucune donnée manquante"
   ]
  },
  {
   "cell_type": "code",
   "execution_count": 10,
   "metadata": {},
   "outputs": [
    {
     "data": {
      "text/plain": [
       "puissance    0\n",
       "Longueur     0\n",
       "Hauteur      0\n",
       "poids        0\n",
       "CO2          0\n",
       "dtype: int64"
      ]
     },
     "execution_count": 10,
     "metadata": {},
     "output_type": "execute_result"
    }
   ],
   "source": [
    "X1.isnull().sum()\n"
   ]
  },
  {
   "cell_type": "code",
   "execution_count": 11,
   "metadata": {},
   "outputs": [
    {
     "data": {
      "text/html": [
       "<div>\n",
       "<style scoped>\n",
       "    .dataframe tbody tr th:only-of-type {\n",
       "        vertical-align: middle;\n",
       "    }\n",
       "\n",
       "    .dataframe tbody tr th {\n",
       "        vertical-align: top;\n",
       "    }\n",
       "\n",
       "    .dataframe thead th {\n",
       "        text-align: right;\n",
       "    }\n",
       "</style>\n",
       "<table border=\"1\" class=\"dataframe\">\n",
       "  <thead>\n",
       "    <tr style=\"text-align: right;\">\n",
       "      <th></th>\n",
       "      <th>Origine_Autre</th>\n",
       "      <th>Origine_Europe</th>\n",
       "      <th>Origine_France</th>\n",
       "      <th>Carburant_Diesel</th>\n",
       "      <th>Carburant_Essence</th>\n",
       "      <th>quatre_non</th>\n",
       "      <th>quatre_oui</th>\n",
       "    </tr>\n",
       "    <tr>\n",
       "      <th>Modele</th>\n",
       "      <th></th>\n",
       "      <th></th>\n",
       "      <th></th>\n",
       "      <th></th>\n",
       "      <th></th>\n",
       "      <th></th>\n",
       "      <th></th>\n",
       "    </tr>\n",
       "  </thead>\n",
       "  <tbody>\n",
       "    <tr>\n",
       "      <th>Alfasud TI</th>\n",
       "      <td>0</td>\n",
       "      <td>1</td>\n",
       "      <td>0</td>\n",
       "      <td>1</td>\n",
       "      <td>0</td>\n",
       "      <td>1</td>\n",
       "      <td>0</td>\n",
       "    </tr>\n",
       "    <tr>\n",
       "      <th>Audi 100</th>\n",
       "      <td>0</td>\n",
       "      <td>0</td>\n",
       "      <td>1</td>\n",
       "      <td>1</td>\n",
       "      <td>0</td>\n",
       "      <td>1</td>\n",
       "      <td>0</td>\n",
       "    </tr>\n",
       "    <tr>\n",
       "      <th>Simca 1300</th>\n",
       "      <td>0</td>\n",
       "      <td>0</td>\n",
       "      <td>1</td>\n",
       "      <td>1</td>\n",
       "      <td>0</td>\n",
       "      <td>1</td>\n",
       "      <td>0</td>\n",
       "    </tr>\n",
       "    <tr>\n",
       "      <th>Citroen GS Club</th>\n",
       "      <td>0</td>\n",
       "      <td>0</td>\n",
       "      <td>1</td>\n",
       "      <td>1</td>\n",
       "      <td>0</td>\n",
       "      <td>1</td>\n",
       "      <td>0</td>\n",
       "    </tr>\n",
       "    <tr>\n",
       "      <th>Fiat 132</th>\n",
       "      <td>0</td>\n",
       "      <td>0</td>\n",
       "      <td>1</td>\n",
       "      <td>0</td>\n",
       "      <td>1</td>\n",
       "      <td>1</td>\n",
       "      <td>0</td>\n",
       "    </tr>\n",
       "  </tbody>\n",
       "</table>\n",
       "</div>"
      ],
      "text/plain": [
       "                 Origine_Autre  Origine_Europe  Origine_France  \\\n",
       "Modele                                                           \n",
       "Alfasud TI                   0               1               0   \n",
       "Audi 100                     0               0               1   \n",
       "Simca 1300                   0               0               1   \n",
       "Citroen GS Club              0               0               1   \n",
       "Fiat 132                     0               0               1   \n",
       "\n",
       "                 Carburant_Diesel  Carburant_Essence  quatre_non  quatre_oui  \n",
       "Modele                                                                        \n",
       "Alfasud TI                      1                  0           1           0  \n",
       "Audi 100                        1                  0           1           0  \n",
       "Simca 1300                      1                  0           1           0  \n",
       "Citroen GS Club                 1                  0           1           0  \n",
       "Fiat 132                        0                  1           1           0  "
      ]
     },
     "execution_count": 11,
     "metadata": {},
     "output_type": "execute_result"
    }
   ],
   "source": [
    "X2bis=pd.get_dummies(X2)\n",
    "# drop_first=True permet de ne garder qu'une variable binaire plutôt que 2 identiques\n",
    "X2bis.head()"
   ]
  },
  {
   "cell_type": "code",
   "execution_count": 12,
   "metadata": {},
   "outputs": [],
   "source": [
    "# Oncalcule \"à la main\" les podérations de chaque modalités afin d'obtenir des données normalisées"
   ]
  },
  {
   "cell_type": "code",
   "execution_count": 13,
   "metadata": {},
   "outputs": [
    {
     "name": "stdout",
     "output_type": "stream",
     "text": [
      "10\n",
      "Origine_Autre        0.4\n",
      "Origine_Europe       0.2\n",
      "Origine_France       0.4\n",
      "Carburant_Diesel     0.6\n",
      "Carburant_Essence    0.4\n",
      "quatre_non           0.8\n",
      "quatre_oui           0.2\n",
      "dtype: float64\n"
     ]
    },
    {
     "data": {
      "text/html": [
       "<div>\n",
       "<style scoped>\n",
       "    .dataframe tbody tr th:only-of-type {\n",
       "        vertical-align: middle;\n",
       "    }\n",
       "\n",
       "    .dataframe tbody tr th {\n",
       "        vertical-align: top;\n",
       "    }\n",
       "\n",
       "    .dataframe thead th {\n",
       "        text-align: right;\n",
       "    }\n",
       "</style>\n",
       "<table border=\"1\" class=\"dataframe\">\n",
       "  <thead>\n",
       "    <tr style=\"text-align: right;\">\n",
       "      <th></th>\n",
       "      <th>Origine_Autre</th>\n",
       "      <th>Origine_Europe</th>\n",
       "      <th>Origine_France</th>\n",
       "      <th>Carburant_Diesel</th>\n",
       "      <th>Carburant_Essence</th>\n",
       "      <th>quatre_non</th>\n",
       "      <th>quatre_oui</th>\n",
       "    </tr>\n",
       "    <tr>\n",
       "      <th>Modele</th>\n",
       "      <th></th>\n",
       "      <th></th>\n",
       "      <th></th>\n",
       "      <th></th>\n",
       "      <th></th>\n",
       "      <th></th>\n",
       "      <th></th>\n",
       "    </tr>\n",
       "  </thead>\n",
       "  <tbody>\n",
       "    <tr>\n",
       "      <th>Alfasud TI</th>\n",
       "      <td>0.0</td>\n",
       "      <td>2.236068</td>\n",
       "      <td>0.000000</td>\n",
       "      <td>1.290994</td>\n",
       "      <td>0.000000</td>\n",
       "      <td>1.118034</td>\n",
       "      <td>0.0</td>\n",
       "    </tr>\n",
       "    <tr>\n",
       "      <th>Audi 100</th>\n",
       "      <td>0.0</td>\n",
       "      <td>0.000000</td>\n",
       "      <td>1.581139</td>\n",
       "      <td>1.290994</td>\n",
       "      <td>0.000000</td>\n",
       "      <td>1.118034</td>\n",
       "      <td>0.0</td>\n",
       "    </tr>\n",
       "    <tr>\n",
       "      <th>Simca 1300</th>\n",
       "      <td>0.0</td>\n",
       "      <td>0.000000</td>\n",
       "      <td>1.581139</td>\n",
       "      <td>1.290994</td>\n",
       "      <td>0.000000</td>\n",
       "      <td>1.118034</td>\n",
       "      <td>0.0</td>\n",
       "    </tr>\n",
       "    <tr>\n",
       "      <th>Citroen GS Club</th>\n",
       "      <td>0.0</td>\n",
       "      <td>0.000000</td>\n",
       "      <td>1.581139</td>\n",
       "      <td>1.290994</td>\n",
       "      <td>0.000000</td>\n",
       "      <td>1.118034</td>\n",
       "      <td>0.0</td>\n",
       "    </tr>\n",
       "    <tr>\n",
       "      <th>Fiat 132</th>\n",
       "      <td>0.0</td>\n",
       "      <td>0.000000</td>\n",
       "      <td>1.581139</td>\n",
       "      <td>0.000000</td>\n",
       "      <td>1.581139</td>\n",
       "      <td>1.118034</td>\n",
       "      <td>0.0</td>\n",
       "    </tr>\n",
       "  </tbody>\n",
       "</table>\n",
       "</div>"
      ],
      "text/plain": [
       "                 Origine_Autre  Origine_Europe  Origine_France  \\\n",
       "Modele                                                           \n",
       "Alfasud TI                 0.0        2.236068        0.000000   \n",
       "Audi 100                   0.0        0.000000        1.581139   \n",
       "Simca 1300                 0.0        0.000000        1.581139   \n",
       "Citroen GS Club            0.0        0.000000        1.581139   \n",
       "Fiat 132                   0.0        0.000000        1.581139   \n",
       "\n",
       "                 Carburant_Diesel  Carburant_Essence  quatre_non  quatre_oui  \n",
       "Modele                                                                        \n",
       "Alfasud TI               1.290994           0.000000    1.118034         0.0  \n",
       "Audi 100                 1.290994           0.000000    1.118034         0.0  \n",
       "Simca 1300               1.290994           0.000000    1.118034         0.0  \n",
       "Citroen GS Club          1.290994           0.000000    1.118034         0.0  \n",
       "Fiat 132                 0.000000           1.581139    1.118034         0.0  "
      ]
     },
     "execution_count": 13,
     "metadata": {},
     "output_type": "execute_result"
    }
   ],
   "source": [
    "import numpy \n",
    "n=X2bis.shape[0]\n",
    "print(n)\n",
    "X2ter2=(numpy.sum(X2bis,axis=0))/n\n",
    "print(X2ter2)\n",
    "X2ter2=numpy.sqrt(X2ter2)\n",
    "X2ter=X2bis/X2ter2\n",
    "X2ter.head()"
   ]
  },
  {
   "cell_type": "code",
   "execution_count": 14,
   "metadata": {},
   "outputs": [],
   "source": [
    "# Les données sont maintenant prêtes pour l'analyse. Les valeurs tiennent compte de la sur ou sous représentation de la modalité.\n",
    "#Les modalités faiblement représentées sont \"tirées\". Comme les \"outliers\" des données continues, elles vont \"tirer\" les axes factoriels.\n",
    "\n",
    "\n",
    "# On regarde maintenant les données continues: corrélations et distributions"
   ]
  },
  {
   "cell_type": "code",
   "execution_count": 15,
   "metadata": {},
   "outputs": [
    {
     "data": {
      "text/plain": [
       "<seaborn.axisgrid.PairGrid at 0x1d6079fcca0>"
      ]
     },
     "execution_count": 15,
     "metadata": {},
     "output_type": "execute_result"
    },
    {
     "data": {
      "image/png": "[encoded data removed]",
      "text/plain": [
       "<Figure size 1250x1250 with 30 Axes>"
      ]
     },
     "metadata": {},
     "output_type": "display_data"
    }
   ],
   "source": [
    "import seaborn as sns\n",
    "sns.pairplot(X1)"
   ]
  },
  {
   "cell_type": "code",
   "execution_count": 16,
   "metadata": {},
   "outputs": [
    {
     "data": {
      "image/png": "[encoded data removed]",
      "text/plain": [
       "<Figure size 1000x800 with 2 Axes>"
      ]
     },
     "metadata": {},
     "output_type": "display_data"
    }
   ],
   "source": [
    "import matplotlib.pyplot as plt\n",
    "\n",
    "\n",
    "corr=X1.corr()\n",
    "corr=corr.round(2)\n",
    "f,ax = plt.subplots(figsize=(10,8))\n",
    "sns.heatmap(corr)\n",
    "\n",
    "plt.show()"
   ]
  },
  {
   "cell_type": "code",
   "execution_count": 17,
   "metadata": {},
   "outputs": [],
   "source": [
    "# On va centrer/réduire. Intéressant de comparer dans le futur avec une transformation \"RobustScaler\""
   ]
  },
  {
   "cell_type": "code",
   "execution_count": 18,
   "metadata": {},
   "outputs": [
    {
     "data": {
      "text/html": [
       "<div>\n",
       "<style scoped>\n",
       "    .dataframe tbody tr th:only-of-type {\n",
       "        vertical-align: middle;\n",
       "    }\n",
       "\n",
       "    .dataframe tbody tr th {\n",
       "        vertical-align: top;\n",
       "    }\n",
       "\n",
       "    .dataframe thead th {\n",
       "        text-align: right;\n",
       "    }\n",
       "</style>\n",
       "<table border=\"1\" class=\"dataframe\">\n",
       "  <thead>\n",
       "    <tr style=\"text-align: right;\">\n",
       "      <th></th>\n",
       "      <th>puissance</th>\n",
       "      <th>Longueur</th>\n",
       "      <th>Hauteur</th>\n",
       "      <th>poids</th>\n",
       "      <th>CO2</th>\n",
       "    </tr>\n",
       "  </thead>\n",
       "  <tbody>\n",
       "    <tr>\n",
       "      <th>0</th>\n",
       "      <td>-1.102875</td>\n",
       "      <td>-0.614031</td>\n",
       "      <td>-0.418854</td>\n",
       "      <td>-0.988562</td>\n",
       "      <td>-1.126565</td>\n",
       "    </tr>\n",
       "    <tr>\n",
       "      <th>1</th>\n",
       "      <td>-0.304241</td>\n",
       "      <td>-0.485033</td>\n",
       "      <td>-0.732994</td>\n",
       "      <td>-0.410579</td>\n",
       "      <td>-1.147623</td>\n",
       "    </tr>\n",
       "    <tr>\n",
       "      <th>2</th>\n",
       "      <td>0.532422</td>\n",
       "      <td>1.191942</td>\n",
       "      <td>-0.837708</td>\n",
       "      <td>0.794727</td>\n",
       "      <td>0.558018</td>\n",
       "    </tr>\n",
       "    <tr>\n",
       "      <th>3</th>\n",
       "      <td>-0.152121</td>\n",
       "      <td>1.062944</td>\n",
       "      <td>0.523567</td>\n",
       "      <td>0.837018</td>\n",
       "      <td>-0.178987</td>\n",
       "    </tr>\n",
       "    <tr>\n",
       "      <th>4</th>\n",
       "      <td>-1.280349</td>\n",
       "      <td>-2.007209</td>\n",
       "      <td>-0.628281</td>\n",
       "      <td>-1.992984</td>\n",
       "      <td>-1.168680</td>\n",
       "    </tr>\n",
       "  </tbody>\n",
       "</table>\n",
       "</div>"
      ],
      "text/plain": [
       "   puissance  Longueur   Hauteur     poids       CO2\n",
       "0  -1.102875 -0.614031 -0.418854 -0.988562 -1.126565\n",
       "1  -0.304241 -0.485033 -0.732994 -0.410579 -1.147623\n",
       "2   0.532422  1.191942 -0.837708  0.794727  0.558018\n",
       "3  -0.152121  1.062944  0.523567  0.837018 -0.178987\n",
       "4  -1.280349 -2.007209 -0.628281 -1.992984 -1.168680"
      ]
     },
     "execution_count": 18,
     "metadata": {},
     "output_type": "execute_result"
    }
   ],
   "source": [
    "from sklearn.preprocessing import StandardScaler\n",
    "sc = StandardScaler()\n",
    "Z = StandardScaler().fit_transform(X1)\n",
    "Z1 = pd.DataFrame(data = Z, columns = X1.columns)\n",
    "Z1.head()"
   ]
  },
  {
   "cell_type": "code",
   "execution_count": 19,
   "metadata": {},
   "outputs": [
    {
     "name": "stdout",
     "output_type": "stream",
     "text": [
      "<class 'pandas.core.frame.DataFrame'>\n",
      "RangeIndex: 10 entries, 0 to 9\n",
      "Data columns (total 5 columns):\n",
      " #   Column     Non-Null Count  Dtype  \n",
      "---  ------     --------------  -----  \n",
      " 0   puissance  10 non-null     float64\n",
      " 1   Longueur   10 non-null     float64\n",
      " 2   Hauteur    10 non-null     float64\n",
      " 3   poids      10 non-null     float64\n",
      " 4   CO2        10 non-null     float64\n",
      "dtypes: float64(5)\n",
      "memory usage: 528.0 bytes\n"
     ]
    }
   ],
   "source": [
    "Z1.info()"
   ]
  },
  {
   "cell_type": "code",
   "execution_count": 20,
   "metadata": {},
   "outputs": [],
   "source": [
    "# Intéressant de faire 3 études: ACP avec les données continues initiales. ACM avec les données catégorielles. AFDM avec les données complètes.\n",
    "#On regarde le dernier cas ici"
   ]
  },
  {
   "cell_type": "code",
   "execution_count": 21,
   "metadata": {},
   "outputs": [
    {
     "data": {
      "text/html": [
       "<div>\n",
       "<style scoped>\n",
       "    .dataframe tbody tr th:only-of-type {\n",
       "        vertical-align: middle;\n",
       "    }\n",
       "\n",
       "    .dataframe tbody tr th {\n",
       "        vertical-align: top;\n",
       "    }\n",
       "\n",
       "    .dataframe thead th {\n",
       "        text-align: right;\n",
       "    }\n",
       "</style>\n",
       "<table border=\"1\" class=\"dataframe\">\n",
       "  <thead>\n",
       "    <tr style=\"text-align: right;\">\n",
       "      <th></th>\n",
       "      <th>puissance</th>\n",
       "      <th>Longueur</th>\n",
       "      <th>Hauteur</th>\n",
       "      <th>poids</th>\n",
       "      <th>CO2</th>\n",
       "      <th>Origine_Autre</th>\n",
       "      <th>Origine_Europe</th>\n",
       "      <th>Origine_France</th>\n",
       "      <th>Carburant_Diesel</th>\n",
       "      <th>Carburant_Essence</th>\n",
       "      <th>quatre_non</th>\n",
       "      <th>quatre_oui</th>\n",
       "    </tr>\n",
       "    <tr>\n",
       "      <th>Modele</th>\n",
       "      <th></th>\n",
       "      <th></th>\n",
       "      <th></th>\n",
       "      <th></th>\n",
       "      <th></th>\n",
       "      <th></th>\n",
       "      <th></th>\n",
       "      <th></th>\n",
       "      <th></th>\n",
       "      <th></th>\n",
       "      <th></th>\n",
       "      <th></th>\n",
       "    </tr>\n",
       "  </thead>\n",
       "  <tbody>\n",
       "    <tr>\n",
       "      <th>Alfasud TI</th>\n",
       "      <td>-1.102875</td>\n",
       "      <td>-0.614031</td>\n",
       "      <td>-0.418854</td>\n",
       "      <td>-0.988562</td>\n",
       "      <td>-1.126565</td>\n",
       "      <td>0.0</td>\n",
       "      <td>2.236068</td>\n",
       "      <td>0.000000</td>\n",
       "      <td>1.290994</td>\n",
       "      <td>0.000000</td>\n",
       "      <td>1.118034</td>\n",
       "      <td>0.0</td>\n",
       "    </tr>\n",
       "    <tr>\n",
       "      <th>Audi 100</th>\n",
       "      <td>-0.304241</td>\n",
       "      <td>-0.485033</td>\n",
       "      <td>-0.732994</td>\n",
       "      <td>-0.410579</td>\n",
       "      <td>-1.147623</td>\n",
       "      <td>0.0</td>\n",
       "      <td>0.000000</td>\n",
       "      <td>1.581139</td>\n",
       "      <td>1.290994</td>\n",
       "      <td>0.000000</td>\n",
       "      <td>1.118034</td>\n",
       "      <td>0.0</td>\n",
       "    </tr>\n",
       "    <tr>\n",
       "      <th>Simca 1300</th>\n",
       "      <td>0.532422</td>\n",
       "      <td>1.191942</td>\n",
       "      <td>-0.837708</td>\n",
       "      <td>0.794727</td>\n",
       "      <td>0.558018</td>\n",
       "      <td>0.0</td>\n",
       "      <td>0.000000</td>\n",
       "      <td>1.581139</td>\n",
       "      <td>1.290994</td>\n",
       "      <td>0.000000</td>\n",
       "      <td>1.118034</td>\n",
       "      <td>0.0</td>\n",
       "    </tr>\n",
       "    <tr>\n",
       "      <th>Citroen GS Club</th>\n",
       "      <td>-0.152121</td>\n",
       "      <td>1.062944</td>\n",
       "      <td>0.523567</td>\n",
       "      <td>0.837018</td>\n",
       "      <td>-0.178987</td>\n",
       "      <td>0.0</td>\n",
       "      <td>0.000000</td>\n",
       "      <td>1.581139</td>\n",
       "      <td>1.290994</td>\n",
       "      <td>0.000000</td>\n",
       "      <td>1.118034</td>\n",
       "      <td>0.0</td>\n",
       "    </tr>\n",
       "    <tr>\n",
       "      <th>Fiat 132</th>\n",
       "      <td>-1.280349</td>\n",
       "      <td>-2.007209</td>\n",
       "      <td>-0.628281</td>\n",
       "      <td>-1.992984</td>\n",
       "      <td>-1.168680</td>\n",
       "      <td>0.0</td>\n",
       "      <td>0.000000</td>\n",
       "      <td>1.581139</td>\n",
       "      <td>0.000000</td>\n",
       "      <td>1.581139</td>\n",
       "      <td>1.118034</td>\n",
       "      <td>0.0</td>\n",
       "    </tr>\n",
       "  </tbody>\n",
       "</table>\n",
       "</div>"
      ],
      "text/plain": [
       "                 puissance  Longueur   Hauteur     poids       CO2  \\\n",
       "Modele                                                               \n",
       "Alfasud TI       -1.102875 -0.614031 -0.418854 -0.988562 -1.126565   \n",
       "Audi 100         -0.304241 -0.485033 -0.732994 -0.410579 -1.147623   \n",
       "Simca 1300        0.532422  1.191942 -0.837708  0.794727  0.558018   \n",
       "Citroen GS Club  -0.152121  1.062944  0.523567  0.837018 -0.178987   \n",
       "Fiat 132         -1.280349 -2.007209 -0.628281 -1.992984 -1.168680   \n",
       "\n",
       "                 Origine_Autre  Origine_Europe  Origine_France  \\\n",
       "Modele                                                           \n",
       "Alfasud TI                 0.0        2.236068        0.000000   \n",
       "Audi 100                   0.0        0.000000        1.581139   \n",
       "Simca 1300                 0.0        0.000000        1.581139   \n",
       "Citroen GS Club            0.0        0.000000        1.581139   \n",
       "Fiat 132                   0.0        0.000000        1.581139   \n",
       "\n",
       "                 Carburant_Diesel  Carburant_Essence  quatre_non  quatre_oui  \n",
       "Modele                                                                        \n",
       "Alfasud TI               1.290994           0.000000    1.118034         0.0  \n",
       "Audi 100                 1.290994           0.000000    1.118034         0.0  \n",
       "Simca 1300               1.290994           0.000000    1.118034         0.0  \n",
       "Citroen GS Club          1.290994           0.000000    1.118034         0.0  \n",
       "Fiat 132                 0.000000           1.581139    1.118034         0.0  "
      ]
     },
     "execution_count": 21,
     "metadata": {},
     "output_type": "execute_result"
    }
   ],
   "source": [
    "X2ter=X2ter.reset_index(drop=True)\n",
    "\n",
    "X4=Z1.join(X2ter)\n",
    "X4[\"Modele\"]= X.index\n",
    "X4.index=X4.Modele\n",
    "X4.drop (X4.columns [-1], axis = 1, inplace = True)\n",
    "#X=pd.DataFrame(X)\n",
    "X4.head()"
   ]
  },
  {
   "cell_type": "code",
   "execution_count": 22,
   "metadata": {},
   "outputs": [],
   "source": [
    "import sklearn as sk"
   ]
  },
  {
   "cell_type": "code",
   "execution_count": 23,
   "metadata": {},
   "outputs": [],
   "source": [
    "from sklearn.decomposition import PCA"
   ]
  },
  {
   "cell_type": "code",
   "execution_count": 24,
   "metadata": {},
   "outputs": [
    {
     "name": "stdout",
     "output_type": "stream",
     "text": [
      "<class 'sklearn.decomposition._pca.PCA'>\n"
     ]
    }
   ],
   "source": [
    "print(PCA)"
   ]
  },
  {
   "cell_type": "code",
   "execution_count": 25,
   "metadata": {},
   "outputs": [
    {
     "name": "stdout",
     "output_type": "stream",
     "text": [
      "PCA(svd_solver='full')\n"
     ]
    }
   ],
   "source": [
    "acp=PCA(svd_solver='full')\n",
    "print(acp)"
   ]
  },
  {
   "cell_type": "code",
   "execution_count": 26,
   "metadata": {},
   "outputs": [],
   "source": [
    "coord1=acp.fit_transform(X4)"
   ]
  },
  {
   "cell_type": "code",
   "execution_count": 27,
   "metadata": {},
   "outputs": [
    {
     "name": "stdout",
     "output_type": "stream",
     "text": [
      "[[ 2.31780488e+00  6.87271028e-01 -7.84095593e-02 -1.68280345e+00\n",
      "  -1.42093614e-01  4.29438758e-01 -2.05498683e-01  1.74641324e-02\n",
      "   4.68831521e-02  1.50491456e-16]\n",
      " [ 1.44536838e+00  1.22286335e-01  1.37059476e+00  5.64739986e-01\n",
      "  -4.19769900e-01  4.28251958e-01  2.93921882e-01 -1.38478152e-01\n",
      "  -2.65034431e-02  1.50491456e-16]\n",
      " [-7.79731139e-01 -1.01856317e+00  1.96251470e+00 -1.63893117e-01\n",
      "  -3.02878064e-01 -2.84252368e-01  3.13447838e-02  2.61155977e-01\n",
      "   9.91643484e-03  1.50491456e-16]\n",
      " [-5.41062892e-01  1.60059140e-01  1.89411439e+00  3.27065750e-03\n",
      "   7.76188937e-01 -1.00227511e-01 -2.02713659e-01 -1.26104223e-01\n",
      "  -2.92707085e-02  1.50491456e-16]\n",
      " [ 3.27586403e+00 -2.51169274e-02 -6.53761116e-01  1.84390241e+00\n",
      "  -2.67727997e-02 -2.64394680e-01 -1.37602850e-01  2.61040178e-03\n",
      "   4.31089624e-02  1.50491456e-16]\n",
      " [-2.95770457e+00 -2.62811174e+00 -6.67643746e-01 -1.58881630e-01\n",
      "  -1.16999786e-01 -3.23660344e-02  1.93057840e-02 -1.53339033e-01\n",
      "   5.88578995e-02  1.50491456e-16]\n",
      " [ 2.31613266e+00 -7.95341413e-01 -1.24602314e+00 -1.16519467e+00\n",
      "   1.80443465e-01 -4.93896873e-01  1.95599162e-01 -1.89219255e-02\n",
      "  -4.95948669e-02  1.50491456e-16]\n",
      " [-2.25591897e+00  1.84042590e+00 -6.86078476e-01  5.75608264e-02\n",
      "  -6.64559604e-01 -2.20169962e-01 -2.03538059e-01 -5.48062369e-02\n",
      "  -5.13341482e-02  1.50491456e-16]\n",
      " [-9.31809048e-01 -1.09085231e+00 -1.37825957e+00  6.28065812e-01\n",
      "   3.11051183e-01  5.67274162e-01 -4.48814347e-02  1.57395556e-01\n",
      "  -5.26922221e-02  1.50491456e-16]\n",
      " [-1.88894333e+00  2.74794316e+00 -5.17048247e-01  7.32331736e-02\n",
      "   4.05390182e-01 -2.96574496e-02  2.54063074e-01  5.30235033e-02\n",
      "   5.06289401e-02  1.50491456e-16]]\n"
     ]
    }
   ],
   "source": [
    "print(coord1)"
   ]
  },
  {
   "cell_type": "code",
   "execution_count": 28,
   "metadata": {},
   "outputs": [
    {
     "name": "stdout",
     "output_type": "stream",
     "text": [
      "[4.74792847e-01 2.35765258e-01 1.59857542e-01 9.29296826e-02\n",
      " 1.82255648e-02 1.27189214e-02 3.73612805e-03 1.75613559e-03\n",
      " 2.17920143e-04 2.51640871e-33]\n"
     ]
    }
   ],
   "source": [
    "print(acp.explained_variance_ratio_)"
   ]
  },
  {
   "cell_type": "code",
   "execution_count": 29,
   "metadata": {},
   "outputs": [],
   "source": [
    "# On a 90% de la variance expliquée sur 2 axes"
   ]
  },
  {
   "cell_type": "code",
   "execution_count": 30,
   "metadata": {},
   "outputs": [
    {
     "name": "stdout",
     "output_type": "stream",
     "text": [
      "[array([4.74792847e+00, 2.35765258e+00, 1.59857542e+00, 9.29296826e-01,\n",
      "       1.82255648e-01, 1.27189214e-01, 3.73612805e-02, 1.75613559e-02,\n",
      "       2.17920143e-03, 2.51640871e-32])]\n"
     ]
    }
   ],
   "source": [
    "# Les Valeurs propres\n",
    "eigval = acp.explained_variance_\n",
    "print([eigval])"
   ]
  },
  {
   "cell_type": "code",
   "execution_count": 31,
   "metadata": {},
   "outputs": [],
   "source": [
    "#On a les 4 premières VP >1 \n",
    "\n",
    "#On va regarder l'évolution des VP en fonction des composantes principales"
   ]
  },
  {
   "cell_type": "code",
   "execution_count": 32,
   "metadata": {},
   "outputs": [
    {
     "name": "stdout",
     "output_type": "stream",
     "text": [
      "12\n",
      "[ 0  1  2  3  4  5  6  7  8  9 10 11]\n",
      "[4.74792847e+00 2.35765258e+00 1.59857542e+00 9.29296826e-01\n",
      " 1.82255648e-01 1.27189214e-01 3.73612805e-02 1.75613559e-02\n",
      " 2.17920143e-03 2.51640871e-32]\n"
     ]
    },
    {
     "data": {
      "image/png": "[encoded data removed]",
      "text/plain": [
       "<Figure size 640x480 with 1 Axes>"
      ]
     },
     "metadata": {},
     "output_type": "display_data"
    }
   ],
   "source": [
    "#nombre de variables\n",
    "p = X4.shape[1]\n",
    "print(p)\n",
    "nunu=np.arange(p)\n",
    "print(nunu)\n",
    "print(eigval)\n",
    "#nombre d'observations\n",
    "n = X4.shape[0]\n",
    "#matrice des X\n",
    "X = X4.values\n",
    "\n",
    "import matplotlib.pyplot as plt\n",
    "plt.plot(np.arange(10),eigval)\n",
    "plt.ylabel(\"Eigen Values\")\n",
    "plt.xlabel(\"Factor number\")\n",
    "plt.show()"
   ]
  },
  {
   "cell_type": "code",
   "execution_count": 33,
   "metadata": {},
   "outputs": [
    {
     "name": "stdout",
     "output_type": "stream",
     "text": [
      "[[ 2.31780488  0.68727103]\n",
      " [ 1.44536838  0.12228634]\n",
      " [-0.77973114 -1.01856317]\n",
      " [-0.54106289  0.16005914]\n",
      " [ 3.27586403 -0.02511693]\n",
      " [-2.95770457 -2.62811174]\n",
      " [ 2.31613266 -0.79534141]\n",
      " [-2.25591897  1.8404259 ]\n",
      " [-0.93180905 -1.09085231]\n",
      " [-1.88894333  2.74794316]]\n"
     ]
    }
   ],
   "source": [
    "# On va regarder sur 2 CP (90% déjà de variance expliquée) \n",
    "\n",
    "acp=PCA(n_components=2,svd_solver='full')\n",
    "coord=acp.fit_transform(X4)\n",
    "print(coord)"
   ]
  },
  {
   "cell_type": "code",
   "execution_count": 38,
   "metadata": {
    "scrolled": false
   },
   "outputs": [
    {
     "data": {
      "image/png": "[encoded data removed]",
      "text/plain": [
       "<Figure size 1000x1000 with 1 Axes>"
      ]
     },
     "metadata": {},
     "output_type": "display_data"
    }
   ],
   "source": [
    "f,ax = plt.subplots(figsize=(10,10))\n",
    "#fig, axes = plt.plot(figsize=(10,10))\n",
    "ax.set_xlim(-10,10)\n",
    "ax.set_ylim(-5,5)\n",
    "n = X4.shape[0]\n",
    "for i in range(n):\n",
    "    plt.annotate(X4.index[i],(coord[i,0],coord[i,1]))\n",
    "plt.plot([-10,5],[0,0],color='black',linestyle='-',linewidth=1)\n",
    "plt.plot([0,0],[-10,5],color='black',linestyle='-',linewidth=1)\n",
    "plt.show()"
   ]
  },
  {
   "cell_type": "code",
   "execution_count": 35,
   "metadata": {},
   "outputs": [],
   "source": [
    "#Quelles sont les variables qui distinguent ces voitures?\n",
    "#Comment projeter de nouvelles voitures?\n",
    "\n",
    "#Package \"prince\""
   ]
  },
  {
   "cell_type": "code",
   "execution_count": 41,
   "metadata": {},
   "outputs": [
    {
     "data": {
      "text/plain": [
       "array([[-1.17308591, -1.00826206, -0.28823982, -1.07106492, -1.17746518,\n",
       "        -0.01207264,  1.00142416,  0.88509766,  0.84519496,  0.54599063,\n",
       "         0.97962953,  0.27680892],\n",
       "       [-0.61815519, -0.57725334, -0.34030223, -0.6550553 , -0.65457143,\n",
       "         0.21068898,  0.796304  ,  0.80737789,  0.7340277 ,  0.68214217,\n",
       "         1.02160899,  0.19285001],\n",
       "       [ 0.68607766,  0.47155628, -0.31576616,  0.39335887,  0.60095868,\n",
       "         0.79827232,  0.2697389 ,  0.59213231,  0.53338877,  0.92787367,\n",
       "         1.05611908,  0.12382982],\n",
       "       [ 0.15521161,  0.18148616,  0.2352887 ,  0.23657686,  0.19148122,\n",
       "         0.80367565,  0.31419002,  0.55529728,  0.84663255,  0.54422996,\n",
       "         0.79705394,  0.6419601 ],\n",
       "       [-1.28913517, -1.25750238, -0.92973157, -1.47196876, -1.40491444,\n",
       "        -0.34304245,  1.24185416,  1.04605778,  0.59916496,  0.84731462,\n",
       "         1.25575791, -0.27544784],\n",
       "       [ 2.14512029,  1.58101068, -0.55010724,  1.440252  ,  1.95812611,\n",
       "         1.34148135, -0.24006093,  0.40940619,  0.20087749,  1.33511515,\n",
       "         1.20905427, -0.18204056],\n",
       "       [-0.62363452, -0.75836726, -1.06495595, -1.008093  , -0.79101097,\n",
       "        -0.10762554,  1.01790351,  0.96899789,  0.43580324,  1.04739105,\n",
       "         1.33789   , -0.43971202],\n",
       "       [ 0.21293029,  0.55948016,  1.59594082,  0.93715885,  0.49316577,\n",
       "         1.42234095, -0.12077731,  0.24420033,  1.39893136, -0.13219518,\n",
       "         0.20483093,  1.82640611],\n",
       "       [ 0.77311356,  0.54228325, -0.31110965,  0.46477584,  0.68529104,\n",
       "         0.83879985,  0.23368525,  0.57709855,  0.52124564,  0.94274591,\n",
       "         1.05710354,  0.1218609 ],\n",
       "       [-0.26844263,  0.2655685 ,  1.9689831 ,  0.73405955,  0.09893922,\n",
       "         1.37203685, -0.0421258 ,  0.23888942,  1.63070002, -0.41605266,\n",
       "         0.02522372,  2.18562053]])"
      ]
     },
     "execution_count": 41,
     "metadata": {},
     "output_type": "execute_result"
    }
   ],
   "source": [
    "#On peut reprendre les données initiales normalisées de l'acp \n",
    "\n",
    "X4_transform = acp.transform(X4)\n",
    "X4_transform\n",
    "\n",
    "X_projected = acp.inverse_transform(X4_transform)\n",
    "X_projected\n",
    "\n"
   ]
  },
  {
   "cell_type": "code",
   "execution_count": 42,
   "metadata": {},
   "outputs": [
    {
     "data": {
      "text/html": [
       "<div>\n",
       "<style scoped>\n",
       "    .dataframe tbody tr th:only-of-type {\n",
       "        vertical-align: middle;\n",
       "    }\n",
       "\n",
       "    .dataframe tbody tr th {\n",
       "        vertical-align: top;\n",
       "    }\n",
       "\n",
       "    .dataframe thead th {\n",
       "        text-align: right;\n",
       "    }\n",
       "</style>\n",
       "<table border=\"1\" class=\"dataframe\">\n",
       "  <thead>\n",
       "    <tr style=\"text-align: right;\">\n",
       "      <th></th>\n",
       "      <th>PC1</th>\n",
       "      <th>PC2</th>\n",
       "    </tr>\n",
       "  </thead>\n",
       "  <tbody>\n",
       "    <tr>\n",
       "      <th>0</th>\n",
       "      <td>-0.863665</td>\n",
       "      <td>-0.568352</td>\n",
       "    </tr>\n",
       "    <tr>\n",
       "      <th>1</th>\n",
       "      <td>-0.839249</td>\n",
       "      <td>-0.258136</td>\n",
       "    </tr>\n",
       "    <tr>\n",
       "      <th>2</th>\n",
       "      <td>-0.609663</td>\n",
       "      <td>0.804889</td>\n",
       "    </tr>\n",
       "    <tr>\n",
       "      <th>3</th>\n",
       "      <td>-0.979796</td>\n",
       "      <td>-0.064438</td>\n",
       "    </tr>\n",
       "    <tr>\n",
       "      <th>4</th>\n",
       "      <td>-0.938840</td>\n",
       "      <td>-0.399484</td>\n",
       "    </tr>\n",
       "    <tr>\n",
       "      <th>5</th>\n",
       "      <td>-0.647780</td>\n",
       "      <td>0.099474</td>\n",
       "    </tr>\n",
       "    <tr>\n",
       "      <th>6</th>\n",
       "      <td>0.528373</td>\n",
       "      <td>-0.017487</td>\n",
       "    </tr>\n",
       "    <tr>\n",
       "      <th>7</th>\n",
       "      <td>0.274164</td>\n",
       "      <td>-0.087109</td>\n",
       "    </tr>\n",
       "    <tr>\n",
       "      <th>8</th>\n",
       "      <td>-0.112076</td>\n",
       "      <td>0.424075</td>\n",
       "    </tr>\n",
       "    <tr>\n",
       "      <th>9</th>\n",
       "      <td>0.137264</td>\n",
       "      <td>-0.519384</td>\n",
       "    </tr>\n",
       "    <tr>\n",
       "      <th>10</th>\n",
       "      <td>0.236304</td>\n",
       "      <td>-0.371220</td>\n",
       "    </tr>\n",
       "    <tr>\n",
       "      <th>11</th>\n",
       "      <td>-0.472607</td>\n",
       "      <td>0.742439</td>\n",
       "    </tr>\n",
       "  </tbody>\n",
       "</table>\n",
       "</div>"
      ],
      "text/plain": [
       "         PC1       PC2\n",
       "0  -0.863665 -0.568352\n",
       "1  -0.839249 -0.258136\n",
       "2  -0.609663  0.804889\n",
       "3  -0.979796 -0.064438\n",
       "4  -0.938840 -0.399484\n",
       "5  -0.647780  0.099474\n",
       "6   0.528373 -0.017487\n",
       "7   0.274164 -0.087109\n",
       "8  -0.112076  0.424075\n",
       "9   0.137264 -0.519384\n",
       "10  0.236304 -0.371220\n",
       "11 -0.472607  0.742439"
      ]
     },
     "execution_count": 42,
     "metadata": {},
     "output_type": "execute_result"
    }
   ],
   "source": [
    "loadings = acp.components_.T * np.sqrt(acp.explained_variance_)\n",
    "\n",
    "loading_matrix = pd.DataFrame(loadings, columns=['PC1', 'PC2'])\n",
    "loading_matrix\n"
   ]
  },
  {
   "cell_type": "code",
   "execution_count": null,
   "metadata": {},
   "outputs": [],
   "source": []
  }
 ],
 "metadata": {
  "kernelspec": {
   "display_name": "Python 3 (ipykernel)",
   "language": "python",
   "name": "python3"
  },
  "language_info": {
   "codemirror_mode": {
    "name": "ipython",
    "version": 3
   },
   "file_extension": ".py",
   "mimetype": "text/x-python",
   "name": "python",
   "nbconvert_exporter": "python",
   "pygments_lexer": "ipython3",
   "version": "3.11.5"
  }
 },
 "nbformat": 4,
 "nbformat_minor": 2
}
