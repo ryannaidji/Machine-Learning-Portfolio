{
 "cells": [
  {
   "cell_type": "markdown",
   "id": "e7304417",
   "metadata": {},
   "source": [
    "# Étape 1 : Préparation des données"
   ]
  },
  {
   "cell_type": "code",
   "execution_count": 13,
   "id": "bd4ef82d",
   "metadata": {},
   "outputs": [],
   "source": [
    "import pandas as pd\n",
    "import matplotlib.pyplot as plt\n",
    "import seaborn as sns\n",
    "import numpy as np\n",
    "\n",
    "from sklearn.preprocessing import StandardScaler\n",
    "from sklearn.decomposition import PCA"
   ]
  },
  {
   "cell_type": "markdown",
   "id": "ed3227e4",
   "metadata": {},
   "source": [
    "## 1)  À partir de la feuille Feuil1, téléchargez le contenu de la base de données et affichez son contenue"
   ]
  },
  {
   "cell_type": "code",
   "execution_count": 3,
   "id": "968171a1",
   "metadata": {},
   "outputs": [],
   "source": [
    "data = pd.read_excel(\"autos-Saporta.xlsx\", sheet_name=\"Feuil1\")"
   ]
  },
  {
   "cell_type": "code",
   "execution_count": 4,
   "id": "ae12e3f8",
   "metadata": {},
   "outputs": [
    {
     "data": {
      "text/html": [
       "<div>\n",
       "<style scoped>\n",
       "    .dataframe tbody tr th:only-of-type {\n",
       "        vertical-align: middle;\n",
       "    }\n",
       "\n",
       "    .dataframe tbody tr th {\n",
       "        vertical-align: top;\n",
       "    }\n",
       "\n",
       "    .dataframe thead th {\n",
       "        text-align: right;\n",
       "    }\n",
       "</style>\n",
       "<table border=\"1\" class=\"dataframe\">\n",
       "  <thead>\n",
       "    <tr style=\"text-align: right;\">\n",
       "      <th></th>\n",
       "      <th>Modele</th>\n",
       "      <th>CYL</th>\n",
       "      <th>PUISS</th>\n",
       "      <th>LONG</th>\n",
       "      <th>LARG</th>\n",
       "      <th>POIDS</th>\n",
       "      <th>V.MAX</th>\n",
       "    </tr>\n",
       "  </thead>\n",
       "  <tbody>\n",
       "    <tr>\n",
       "      <th>0</th>\n",
       "      <td>Alfasud TI</td>\n",
       "      <td>1350</td>\n",
       "      <td>79</td>\n",
       "      <td>393</td>\n",
       "      <td>161</td>\n",
       "      <td>870</td>\n",
       "      <td>165</td>\n",
       "    </tr>\n",
       "    <tr>\n",
       "      <th>1</th>\n",
       "      <td>Audi 100</td>\n",
       "      <td>1588</td>\n",
       "      <td>85</td>\n",
       "      <td>468</td>\n",
       "      <td>177</td>\n",
       "      <td>1110</td>\n",
       "      <td>160</td>\n",
       "    </tr>\n",
       "    <tr>\n",
       "      <th>2</th>\n",
       "      <td>Simca 1300</td>\n",
       "      <td>1294</td>\n",
       "      <td>68</td>\n",
       "      <td>424</td>\n",
       "      <td>168</td>\n",
       "      <td>1050</td>\n",
       "      <td>152</td>\n",
       "    </tr>\n",
       "    <tr>\n",
       "      <th>3</th>\n",
       "      <td>Citroen GS Club</td>\n",
       "      <td>1222</td>\n",
       "      <td>59</td>\n",
       "      <td>412</td>\n",
       "      <td>161</td>\n",
       "      <td>930</td>\n",
       "      <td>151</td>\n",
       "    </tr>\n",
       "    <tr>\n",
       "      <th>4</th>\n",
       "      <td>Fiat 132</td>\n",
       "      <td>1585</td>\n",
       "      <td>98</td>\n",
       "      <td>439</td>\n",
       "      <td>164</td>\n",
       "      <td>1105</td>\n",
       "      <td>165</td>\n",
       "    </tr>\n",
       "  </tbody>\n",
       "</table>\n",
       "</div>"
      ],
      "text/plain": [
       "            Modele   CYL  PUISS  LONG  LARG  POIDS  V.MAX\n",
       "0       Alfasud TI  1350     79   393   161    870    165\n",
       "1         Audi 100  1588     85   468   177   1110    160\n",
       "2       Simca 1300  1294     68   424   168   1050    152\n",
       "3  Citroen GS Club  1222     59   412   161    930    151\n",
       "4         Fiat 132  1585     98   439   164   1105    165"
      ]
     },
     "execution_count": 4,
     "metadata": {},
     "output_type": "execute_result"
    }
   ],
   "source": [
    "data.head()"
   ]
  },
  {
   "cell_type": "markdown",
   "id": "2a546f8f",
   "metadata": {},
   "source": [
    "## 2) Réalisez une standardisation des données en vue d’une analyse ACP."
   ]
  },
  {
   "cell_type": "code",
   "execution_count": 39,
   "id": "ae629080",
   "metadata": {},
   "outputs": [],
   "source": [
    "data_to_standardized = data[[\"CYL\", \"PUISS\", \"LONG\", \"LARG\", \"POIDS\", \"V.MAX\"]]\n",
    "scaler = StandardScaler()\n",
    "data_standardized = scaler.fit_transform(data_to_standardized)"
   ]
  },
  {
   "cell_type": "markdown",
   "id": "d44a5b74",
   "metadata": {},
   "source": [
    "## 3) Vérifiez que la moyenne et l’écart type sont nuls."
   ]
  },
  {
   "cell_type": "code",
   "execution_count": 40,
   "id": "19342e1f",
   "metadata": {},
   "outputs": [
    {
     "name": "stdout",
     "output_type": "stream",
     "text": [
      "Moyenne des données standardisées\n",
      "4.194175870806147e-16\n"
     ]
    }
   ],
   "source": [
    "print(\"Moyenne des données standardisées\")\n",
    "print(data_standardized.mean())"
   ]
  },
  {
   "cell_type": "code",
   "execution_count": 41,
   "id": "7c326246",
   "metadata": {},
   "outputs": [
    {
     "name": "stdout",
     "output_type": "stream",
     "text": [
      "Écart-type des données standardisées\n",
      "1.0\n"
     ]
    }
   ],
   "source": [
    "print(\"Écart-type des données standardisées\")\n",
    "print(data_standardized.std())"
   ]
  },
  {
   "cell_type": "markdown",
   "id": "df37cd6c",
   "metadata": {},
   "source": [
    "## 4) Déterminez la matrice de corrélation"
   ]
  },
  {
   "cell_type": "code",
   "execution_count": 42,
   "id": "7ee746f0",
   "metadata": {},
   "outputs": [
    {
     "name": "stdout",
     "output_type": "stream",
     "text": [
      "[[1.         0.79662771 0.70146192 0.62975716 0.78895203 0.66493402]\n",
      " [0.79662771 1.         0.64136235 0.52083197 0.765293   0.84437948]\n",
      " [0.70146192 0.64136235 1.         0.84926635 0.86809028 0.47592847]\n",
      " [0.62975716 0.52083197 0.84926635 1.         0.71687392 0.47294527]\n",
      " [0.78895203 0.765293   0.86809028 0.71687392 1.         0.4775956 ]\n",
      " [0.66493402 0.84437948 0.47592847 0.47294527 0.4775956  1.        ]]\n"
     ]
    }
   ],
   "source": [
    "corr_matrix = np.corrcoef(data_standardized.transpose())\n",
    "print(corr_matrix)"
   ]
  },
  {
   "cell_type": "code",
   "execution_count": 43,
   "id": "60de4a3b",
   "metadata": {},
   "outputs": [
    {
     "name": "stdout",
     "output_type": "stream",
     "text": [
      "[[1.05882353 0.84348817 0.74272439 0.6668017  0.83536097 0.70404778]\n",
      " [0.84348817 1.05882353 0.67908955 0.55146915 0.81031024 0.89404886]\n",
      " [0.74272439 0.67908955 1.05882353 0.8992232  0.91915442 0.50392427]\n",
      " [0.6668017  0.55146915 0.8992232  1.05882353 0.75904297 0.50076558]\n",
      " [0.83536097 0.81031024 0.91915442 0.75904297 1.05882353 0.50568946]\n",
      " [0.70404778 0.89404886 0.50392427 0.50076558 0.50568946 1.05882353]]\n"
     ]
    }
   ],
   "source": [
    "cov_matrix = np.cov(data_standardized.transpose())\n",
    "print(cov_matrix)"
   ]
  },
  {
   "cell_type": "markdown",
   "id": "98030e0b",
   "metadata": {},
   "source": [
    "## 5) Déterminez les valeurs propres. Que pensez-vous de leur sommes?"
   ]
  },
  {
   "cell_type": "code",
   "execution_count": 10,
   "id": "34cbfac6",
   "metadata": {},
   "outputs": [
    {
     "name": "stdout",
     "output_type": "stream",
     "text": [
      "Les valeurs propres sont: \n",
      " [4.421 0.856 0.373 0.214 0.093 0.043] \n",
      "\n",
      "Les vecteurs propres sont: \n",
      " [[-0.425 -0.124 -0.354  0.808  0.152 -0.059]\n",
      " [-0.422 -0.416 -0.185 -0.358 -0.294 -0.633]\n",
      " [-0.421  0.412  0.068 -0.28   0.731 -0.19 ]\n",
      " [-0.387  0.446  0.605  0.212 -0.478 -0.11 ]\n",
      " [-0.431  0.243 -0.484 -0.302 -0.305  0.581]\n",
      " [-0.359 -0.62   0.485 -0.074  0.189  0.459]]\n"
     ]
    }
   ],
   "source": [
    "eigval, vectors = np.linalg.eig(corr_matrix)\n",
    "print(\"Les valeurs propres sont:\", \"\\n\", eigval.round(3), \"\\n\")\n",
    "print(\"Les vecteurs propres sont:\", \"\\n\", vectors.round(3))"
   ]
  },
  {
   "cell_type": "markdown",
   "id": "e5c39d46",
   "metadata": {},
   "source": [
    "# Étape 2 : Analyse ACP"
   ]
  },
  {
   "cell_type": "markdown",
   "id": "eb5d5e20",
   "metadata": {},
   "source": [
    "## 1) Réalisez une ACP"
   ]
  },
  {
   "cell_type": "code",
   "execution_count": 46,
   "id": "9c4d4d30",
   "metadata": {},
   "outputs": [],
   "source": [
    "acp = PCA(svd_solver=\"full\", n_components=None)\n",
    "C = acp.fit_transform(data_standardized)\n",
    "\n",
    "eigenvalues = acp.explained_variance_"
   ]
  },
  {
   "cell_type": "markdown",
   "id": "f6e5c68b",
   "metadata": {},
   "source": [
    "## 2) Déterminez les axes factoriels (les facteurs principaux)"
   ]
  },
  {
   "cell_type": "code",
   "execution_count": 57,
   "id": "bef65eac",
   "metadata": {},
   "outputs": [
    {
     "name": "stdout",
     "output_type": "stream",
     "text": [
      "[[ 0.42493602  0.42179441  0.42145993  0.38692224  0.43051198  0.35894427]\n",
      " [ 0.12419108  0.41577389 -0.41181773 -0.446087   -0.24267581  0.6198626 ]\n",
      " [-0.35361252 -0.18492049  0.06763394  0.60486812 -0.48439601  0.48547226]\n",
      " [ 0.80778648 -0.35779199 -0.27975231  0.21156941 -0.30171136 -0.0735743 ]\n",
      " [ 0.15158003 -0.29373465  0.73056903 -0.47819008 -0.30455842  0.18865511]\n",
      " [-0.05889517 -0.63303302 -0.19029153 -0.10956624  0.5808122   0.45852167]]\n"
     ]
    }
   ],
   "source": [
    "print(acp.components_)"
   ]
  },
  {
   "cell_type": "markdown",
   "id": "f903b9a1",
   "metadata": {},
   "source": [
    "## 3) Déterminez les coordonnées des individus dans l'espace factoriel"
   ]
  },
  {
   "cell_type": "code",
   "execution_count": 67,
   "id": "b0a03ce5",
   "metadata": {},
   "outputs": [
    {
     "name": "stdout",
     "output_type": "stream",
     "text": [
      "[[-2.13892361  1.78568102  0.57186228  0.20192734 -0.30135696  0.05392079]\n",
      " [ 1.56145859 -1.52704027  1.31527135 -0.21135154  0.14851614 -0.32723844]\n",
      " [-1.11938528 -0.67450517  0.4565881  -0.16762584 -0.37536398  0.27180323]\n",
      " [-2.5737417   0.11288416  0.1485698  -0.01734322  0.22685322  0.26347623]\n",
      " [ 0.4278552   0.69556731 -0.19328567 -0.62775448  0.26350531 -0.03715265]\n",
      " [-0.30423764 -0.19614878  0.67580317 -0.55594137 -0.44508594  0.20008299]\n",
      " [ 0.6839285  -0.93305677 -0.25682308  0.20313429  0.20865165  0.15389175]\n",
      " [-1.94849257 -0.98044805 -0.61957488  0.63031916  0.29316513  0.10864179]\n",
      " [ 4.40973457  1.06363317 -0.59352842  0.84724778 -0.37488967  0.04399657]\n",
      " [-3.98578242  0.23624042 -0.30313336  0.2651218   0.27842846 -0.32889199]\n",
      " [ 0.43765819  1.91244816  0.02494224 -0.75891042  0.16810267 -0.05424075]\n",
      " [ 1.01817538 -0.8417121   0.21661021  0.30342642 -0.18487578  0.18489356]\n",
      " [ 2.94108031 -0.55917459 -1.24398816 -0.77217107  0.05441213 -0.05726266]\n",
      " [ 1.31488038  0.48652246  0.2826214   0.58222623 -0.06673467 -0.25309176]\n",
      " [-0.69111137 -0.89772139 -0.62840689 -0.35773669 -0.37708593 -0.12153156]\n",
      " [ 0.38570887  0.35618457 -0.07558299  0.10289945  0.52704301  0.33883195]\n",
      " [ 2.28976824  0.10434464  0.79638378  0.23634748  0.33846113 -0.15668108]\n",
      " [-2.70857363 -0.1436988  -0.57432888  0.09618467 -0.38174588 -0.28344798]]\n"
     ]
    }
   ],
   "source": [
    "coordonnees_individus = acp.transform(data_standardized)\n",
    "print(coordonnees_individus)"
   ]
  },
  {
   "cell_type": "markdown",
   "id": "1c175b78",
   "metadata": {},
   "source": [
    "## Déterminez le nombre d'axe à retenir selon deux approches différentes"
   ]
  },
  {
   "cell_type": "code",
   "execution_count": 56,
   "id": "601905fa",
   "metadata": {},
   "outputs": [
    {
     "name": "stdout",
     "output_type": "stream",
     "text": [
      "Nombre d'axes à retenir selon le critère de Kaiser: 1\n"
     ]
    }
   ],
   "source": [
    "num_axes_kaiser = np.sum(eigenvalues > 1)\n",
    "print(f\"Nombre d'axes à retenir selon le critère de Kaiser: {num_axes_kaiser}\")"
   ]
  },
  {
   "cell_type": "markdown",
   "id": "91f4dea2",
   "metadata": {},
   "source": [
    "On peut quand même garder la deuxième valeur propre car elle est proche de 1. Donc selon le critère de Kaiser, nous avons 2 axes à retenir."
   ]
  },
  {
   "cell_type": "code",
   "execution_count": 66,
   "id": "0ab3ba21",
   "metadata": {},
   "outputs": [
    {
     "data": {
      "image/png": "[encoded data removed]",
      "text/plain": [
       "<Figure size 576x432 with 1 Axes>"
      ]
     },
     "metadata": {
      "needs_background": "light"
     },
     "output_type": "display_data"
    }
   ],
   "source": [
    "plt.figure(figsize=(8, 6))\n",
    "plt.plot(eigenvalues, marker='o')\n",
    "plt.title(\"Courbe de décroissance des valeurs propres\")\n",
    "plt.xlabel(\"Composante principale\")\n",
    "plt.ylabel(\"Valeur propre\")\n",
    "plt.grid(True)\n",
    "plt.show()\n"
   ]
  },
  {
   "cell_type": "markdown",
   "id": "d883ba3c",
   "metadata": {},
   "source": [
    "Selon la règle de Coude, en étudiant la courbe de décroissance des valeurs propres on remarque une décroissance lente à la deuxieme valeur propre. Donc selon la règle de Coude, nous avons 2 axes à retenir."
   ]
  },
  {
   "cell_type": "markdown",
   "id": "d1bf9df9",
   "metadata": {},
   "source": [
    "# Étape 3 : Interprétation des résultats de l'ACP"
   ]
  },
  {
   "cell_type": "markdown",
   "id": "3962eeb4",
   "metadata": {},
   "source": [
    "## 1)  Projetez et représentez les individus sur les deux premières composantes principales."
   ]
  },
  {
   "cell_type": "code",
   "execution_count": 55,
   "id": "6627c14b",
   "metadata": {},
   "outputs": [
    {
     "data": {
      "image/png": "[encoded data removed]",
      "text/plain": [
       "<Figure size 576x432 with 1 Axes>"
      ]
     },
     "metadata": {
      "needs_background": "light"
     },
     "output_type": "display_data"
    }
   ],
   "source": [
    "axe_x, axe_y = 0, 1\n",
    "plt.figure(figsize=(8, 6))\n",
    "plt.scatter(coordonnees_individus[:, axe_x], coordonnees_individus[:, axe_y], marker='o')\n",
    "for i, modele in enumerate(data['Modele']):\n",
    "    plt.text(coordonnees_individus[i, axe_x], coordonnees_individus[i, axe_y], modele)\n",
    "plt.title(\"Représentation des individus dans l'espace factoriel\")\n",
    "plt.xlabel(f\"Axe {axe_x + 1}\")\n",
    "plt.ylabel(f\"Axe {axe_y + 1}\")\n",
    "plt.grid(True)\n",
    "plt.show()"
   ]
  }
 ],
 "metadata": {
  "kernelspec": {
   "display_name": "Python 3 (ipykernel)",
   "language": "python",
   "name": "python3"
  },
  "language_info": {
   "codemirror_mode": {
    "name": "ipython",
    "version": 3
   },
   "file_extension": ".py",
   "mimetype": "text/x-python",
   "name": "python",
   "nbconvert_exporter": "python",
   "pygments_lexer": "ipython3",
   "version": "3.11.5"
  }
 },
 "nbformat": 4,
 "nbformat_minor": 5
}
