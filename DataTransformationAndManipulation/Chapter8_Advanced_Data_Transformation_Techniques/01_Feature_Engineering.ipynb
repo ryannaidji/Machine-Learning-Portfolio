{
 "cells": [
  {
   "cell_type": "markdown",
   "id": "7e0c2ca2",
   "metadata": {},
   "source": [
    "# Feature Engineering\n",
    "\n",
    "Feature engineering is the process of creating new variables and transforming existing ones to improve the performance of machine learning models. This involves domain knowledge and creativity to extract useful information from raw data. In this notebook, we will explore the following concepts:\n",
    "\n",
    "- Creating new variables\n",
    "- Transforming existing variables\n",
    "\n",
    "## 1. Creating New Variables\n",
    "\n",
    "Creating new variables involves generating additional features that can provide more information to the model. These new variables are derived from the existing ones and can help improve model accuracy and interpretability. Here are several examples of creating new variables in different domains:\n",
    "\n",
    "### Example 1: Finance\n",
    "\n",
    "- **Existing Variables**: Transaction amount, transaction date\n",
    "- **New Variables**: \n",
    "  - Monthly transaction count\n",
    "  - Average transaction amount per month\n",
    "  - Transaction amount deviation\n",
    "\n",
    "### Example 2: Healthcare\n",
    "\n",
    "- **Existing Variables**: Patient age, weight, height\n",
    "- **New Variables**: \n",
    "  - Body Mass Index (BMI)\n",
    "  - Age group (e.g., child, adult, senior)\n",
    "  - Weight change over time\n",
    "\n",
    "### Example 3: E-commerce\n",
    "\n",
    "- **Existing Variables**: Product price, product category, user rating\n",
    "- **New Variables**: \n",
    "  - Price after discount\n",
    "  - Popularity score (based on user rating and number of reviews)\n",
    "  - Seasonal sales trend\n",
    "\n",
    "## 2. Transforming Existing Variables\n",
    "\n",
    "Transforming existing variables involves modifying the original features to better represent the underlying data. This can include scaling, encoding, and aggregating data. Here are some common transformations:\n",
    "\n",
    "- **Scaling**: Normalizing or standardizing numerical variables to have a consistent scale.\n",
    "- **Encoding**: Converting categorical variables into numerical format using techniques such as one-hot encoding or label encoding.\n",
    "- **Aggregating**: Summarizing data at a higher level, such as calculating the total sales per month from daily sales data.\n",
    "\n",
    "## Importance of Domain Expertise\n",
    "\n",
    "Feature engineering often requires domain knowledge to ensure that the new and transformed variables are meaningful and useful. Collaboration with domain experts can provide valuable insights and help in creating features that are coherent and relevant to the specific application.\n",
    "\n",
    "In the following sections, we will implement these concepts using Python.\n"
   ]
  },
  {
   "cell_type": "code",
   "execution_count": 1,
   "id": "e44b4c11",
   "metadata": {
    "scrolled": true
   },
   "outputs": [],
   "source": [
    "# Import necessary libraries\n",
    "import pandas as pd\n",
    "import numpy as np\n",
    "from sklearn.preprocessing import StandardScaler, OneHotEncoder\n",
    "\n",
    "# Example dataset\n",
    "data = {\n",
    "    'transaction_amount': [100, 200, 150, 300, 250, 50, 400],\n",
    "    'transaction_date': pd.date_range(start='2021-01-01', periods=7, freq='M'),\n",
    "    'patient_age': [25, 45, 30, 35, 60, 50, 40],\n",
    "    'weight': [70, 80, 75, 85, 90, 95, 65],\n",
    "    'height': [1.75, 1.80, 1.65, 1.70, 1.60, 1.85, 1.90],\n",
    "    'product_price': [20, 30, 25, 40, 35, 15, 50],\n",
    "    'product_category': ['A', 'B', 'A', 'B', 'A', 'B', 'A'],\n",
    "    'user_rating': [4, 5, 3, 4, 5, 2, 5]\n",
    "}\n",
    "\n",
    "# Convert to DataFrame\n",
    "df = pd.DataFrame(data)"
   ]
  },
  {
   "cell_type": "code",
   "execution_count": 2,
   "id": "66f93c4b",
   "metadata": {},
   "outputs": [
    {
     "name": "stdout",
     "output_type": "stream",
     "text": [
      "Original Dataset:\n",
      "   transaction_amount transaction_date  patient_age  weight  height  \\\n",
      "0                 100       2021-01-31           25      70    1.75   \n",
      "1                 200       2021-02-28           45      80    1.80   \n",
      "2                 150       2021-03-31           30      75    1.65   \n",
      "3                 300       2021-04-30           35      85    1.70   \n",
      "4                 250       2021-05-31           60      90    1.60   \n",
      "5                  50       2021-06-30           50      95    1.85   \n",
      "6                 400       2021-07-31           40      65    1.90   \n",
      "\n",
      "   product_price product_category  user_rating  \n",
      "0             20                A            4  \n",
      "1             30                B            5  \n",
      "2             25                A            3  \n",
      "3             40                B            4  \n",
      "4             35                A            5  \n",
      "5             15                B            2  \n",
      "6             50                A            5  \n"
     ]
    }
   ],
   "source": [
    "# Display original dataset\n",
    "print(\"Original Dataset:\")\n",
    "print(df)"
   ]
  },
  {
   "cell_type": "code",
   "execution_count": 3,
   "id": "94c16b1e",
   "metadata": {},
   "outputs": [],
   "source": [
    "# Finance: Monthly transaction count and average transaction amount per month\n",
    "df['transaction_month'] = df['transaction_date'].dt.to_period('M')\n",
    "monthly_transaction_count = df.groupby('transaction_month')['transaction_amount'].count().reset_index(name='monthly_transaction_count')\n",
    "average_transaction_amount = df.groupby('transaction_month')['transaction_amount'].mean().reset_index(name='average_transaction_amount')\n",
    "transaction_amount_deviation = df.groupby('transaction_month')['transaction_amount'].std().reset_index(name='transaction_amount_deviation')"
   ]
  },
  {
   "cell_type": "code",
   "execution_count": 4,
   "id": "204111cf",
   "metadata": {},
   "outputs": [],
   "source": [
    "# Healthcare: Body Mass Index (BMI) and age group\n",
    "df['BMI'] = df['weight'] / (df['height'] ** 2)\n",
    "df['age_group'] = pd.cut(df['patient_age'], bins=[0, 18, 35, 55, 100], labels=['child', 'adult', 'middle_age', 'senior'])"
   ]
  },
  {
   "cell_type": "code",
   "execution_count": 5,
   "id": "f6b5b3fd",
   "metadata": {},
   "outputs": [],
   "source": [
    "# E-commerce: Price after discount and popularity score\n",
    "df['discount'] = [0.1, 0.2, 0.15, 0.25, 0.1, 0.3, 0.2]\n",
    "df['price_after_discount'] = df['product_price'] * (1 - df['discount'])\n",
    "df['popularity_score'] = df['user_rating'] * df['product_price']"
   ]
  },
  {
   "cell_type": "code",
   "execution_count": 6,
   "id": "cd6628f2",
   "metadata": {},
   "outputs": [
    {
     "name": "stdout",
     "output_type": "stream",
     "text": [
      "\n",
      "New Variables:\n",
      "   transaction_amount transaction_date  patient_age  weight  height  \\\n",
      "0                 100       2021-01-31           25      70    1.75   \n",
      "1                 200       2021-02-28           45      80    1.80   \n",
      "2                 150       2021-03-31           30      75    1.65   \n",
      "3                 300       2021-04-30           35      85    1.70   \n",
      "4                 250       2021-05-31           60      90    1.60   \n",
      "5                  50       2021-06-30           50      95    1.85   \n",
      "6                 400       2021-07-31           40      65    1.90   \n",
      "\n",
      "   product_price product_category  user_rating transaction_month        BMI  \\\n",
      "0             20                A            4           2021-01  22.857143   \n",
      "1             30                B            5           2021-02  24.691358   \n",
      "2             25                A            3           2021-03  27.548209   \n",
      "3             40                B            4           2021-04  29.411765   \n",
      "4             35                A            5           2021-05  35.156250   \n",
      "5             15                B            2           2021-06  27.757487   \n",
      "6             50                A            5           2021-07  18.005540   \n",
      "\n",
      "    age_group  discount  price_after_discount  popularity_score  \n",
      "0       adult      0.10                 18.00                80  \n",
      "1  middle_age      0.20                 24.00               150  \n",
      "2       adult      0.15                 21.25                75  \n",
      "3       adult      0.25                 30.00               160  \n",
      "4      senior      0.10                 31.50               175  \n",
      "5  middle_age      0.30                 10.50                30  \n",
      "6  middle_age      0.20                 40.00               250  \n"
     ]
    }
   ],
   "source": [
    "# Display new variables\n",
    "print(\"\\nNew Variables:\")\n",
    "print(df)"
   ]
  },
  {
   "cell_type": "code",
   "execution_count": 7,
   "id": "97cb47b0",
   "metadata": {},
   "outputs": [],
   "source": [
    "# Scaling numerical variables\n",
    "scaler = StandardScaler()\n",
    "df[['transaction_amount_scaled', 'BMI_scaled']] = scaler.fit_transform(df[['transaction_amount', 'BMI']])"
   ]
  },
  {
   "cell_type": "code",
   "execution_count": 8,
   "id": "1d59f234",
   "metadata": {},
   "outputs": [],
   "source": [
    "# Encoding categorical variables\n",
    "encoder = OneHotEncoder(sparse=False)\n",
    "encoded_categories = encoder.fit_transform(df[['product_category']])\n",
    "encoded_category_df = pd.DataFrame(encoded_categories, columns=encoder.get_feature_names_out(['product_category']))\n",
    "df = pd.concat([df, encoded_category_df], axis=1)"
   ]
  },
  {
   "cell_type": "code",
   "execution_count": 9,
   "id": "2dfb6469",
   "metadata": {},
   "outputs": [],
   "source": [
    "# Aggregating data: Total sales per month\n",
    "total_sales_per_month = df.groupby('transaction_month')['transaction_amount'].sum().reset_index(name='total_sales')"
   ]
  },
  {
   "cell_type": "code",
   "execution_count": 10,
   "id": "fd1955e0",
   "metadata": {},
   "outputs": [
    {
     "name": "stdout",
     "output_type": "stream",
     "text": [
      "\n",
      "Transformed Variables:\n",
      "   transaction_amount transaction_date  patient_age  weight  height  \\\n",
      "0                 100       2021-01-31           25      70    1.75   \n",
      "1                 200       2021-02-28           45      80    1.80   \n",
      "2                 150       2021-03-31           30      75    1.65   \n",
      "3                 300       2021-04-30           35      85    1.70   \n",
      "4                 250       2021-05-31           60      90    1.60   \n",
      "5                  50       2021-06-30           50      95    1.85   \n",
      "6                 400       2021-07-31           40      65    1.90   \n",
      "\n",
      "   product_price product_category  user_rating transaction_month        BMI  \\\n",
      "0             20                A            4           2021-01  22.857143   \n",
      "1             30                B            5           2021-02  24.691358   \n",
      "2             25                A            3           2021-03  27.548209   \n",
      "3             40                B            4           2021-04  29.411765   \n",
      "4             35                A            5           2021-05  35.156250   \n",
      "5             15                B            2           2021-06  27.757487   \n",
      "6             50                A            5           2021-07  18.005540   \n",
      "\n",
      "    age_group  discount  price_after_discount  popularity_score  \\\n",
      "0       adult      0.10                 18.00                80   \n",
      "1  middle_age      0.20                 24.00               150   \n",
      "2       adult      0.15                 21.25                75   \n",
      "3       adult      0.25                 30.00               160   \n",
      "4      senior      0.10                 31.50               175   \n",
      "5  middle_age      0.30                 10.50                30   \n",
      "6  middle_age      0.20                 40.00               250   \n",
      "\n",
      "   transaction_amount_scaled  BMI_scaled  product_category_A  \\\n",
      "0                  -0.960277   -0.726952                 1.0   \n",
      "1                  -0.064018   -0.359885                 0.0   \n",
      "2                  -0.512148    0.211836                 1.0   \n",
      "3                   0.832240    0.584775                 0.0   \n",
      "4                   0.384111    1.734376                 1.0   \n",
      "5                  -1.408406    0.253717                 0.0   \n",
      "6                   1.728498   -1.697867                 1.0   \n",
      "\n",
      "   product_category_B  \n",
      "0                 0.0  \n",
      "1                 1.0  \n",
      "2                 0.0  \n",
      "3                 1.0  \n",
      "4                 0.0  \n",
      "5                 1.0  \n",
      "6                 0.0  \n"
     ]
    }
   ],
   "source": [
    "# Display transformed variables\n",
    "print(\"\\nTransformed Variables:\")\n",
    "print(df)"
   ]
  },
  {
   "cell_type": "code",
   "execution_count": 11,
   "id": "2fd338fa",
   "metadata": {},
   "outputs": [
    {
     "name": "stdout",
     "output_type": "stream",
     "text": [
      "\n",
      "Aggregated Data:\n",
      "  transaction_month  total_sales\n",
      "0           2021-01          100\n",
      "1           2021-02          200\n",
      "2           2021-03          150\n",
      "3           2021-04          300\n",
      "4           2021-05          250\n",
      "5           2021-06           50\n",
      "6           2021-07          400\n"
     ]
    }
   ],
   "source": [
    "# Display aggregated data\n",
    "print(\"\\nAggregated Data:\")\n",
    "print(total_sales_per_month)"
   ]
  }
 ],
 "metadata": {
  "kernelspec": {
   "display_name": "Python 3 (ipykernel)",
   "language": "python",
   "name": "python3"
  },
  "language_info": {
   "codemirror_mode": {
    "name": "ipython",
    "version": 3
   },
   "file_extension": ".py",
   "mimetype": "text/x-python",
   "name": "python",
   "nbconvert_exporter": "python",
   "pygments_lexer": "ipython3",
   "version": "3.11.5"
  }
 },
 "nbformat": 4,
 "nbformat_minor": 5
}
