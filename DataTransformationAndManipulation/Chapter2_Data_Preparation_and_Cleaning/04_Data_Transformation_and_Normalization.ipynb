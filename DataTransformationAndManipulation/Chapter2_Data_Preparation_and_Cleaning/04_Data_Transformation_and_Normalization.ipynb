{
 "cells": [
  {
   "cell_type": "markdown",
   "id": "a459dad3",
   "metadata": {},
   "source": [
    "# Data Transformation and Normalization\n",
    "\n",
    "## 1. Normalization and Standardization\n",
    "\n",
    "Normalization and standardization are techniques used to scale the features of your data so that they are on a comparable level. This is particularly important for machine learning algorithms that are sensitive to the scale of data."
   ]
  },
  {
   "cell_type": "markdown",
   "id": "2dd4afa1",
   "metadata": {},
   "source": [
    "### MinMaxScaler\n",
    "\n",
    "The MinMaxScaler transforms features by scaling each feature to a given range, usually between zero and one. The formula is:\n",
    "\n",
    "---\n",
    "\n",
    "\n",
    ">$$X' = \\frac{X - X_{min}}{X_{max} - X_{min}}$$\n",
    "\n",
    "\n",
    "---\n",
    "\n",
    "This scaler is useful when you want to preserve the relationships between the data points."
   ]
  },
  {
   "cell_type": "code",
   "execution_count": 12,
   "id": "a41702e0",
   "metadata": {},
   "outputs": [
    {
     "name": "stdout",
     "output_type": "stream",
     "text": [
      "        Age     Score\n",
      "0  0.285714  0.000000\n",
      "1  0.714286  1.000000\n",
      "2  0.000000  0.444444\n",
      "3  1.000000  0.555556\n"
     ]
    }
   ],
   "source": [
    "import pandas as pd\n",
    "from sklearn.preprocessing import MinMaxScaler\n",
    "\n",
    "# Example DataFrame\n",
    "data = {'Age': [24, 27, 22, 29],\n",
    "        'Score': [85.5, 90.0, 87.5, 88.0]}\n",
    "\n",
    "df = pd.DataFrame(data)\n",
    "\n",
    "# Applying MinMaxScaler\n",
    "scaler = MinMaxScaler()\n",
    "df_minmax = pd.DataFrame(scaler.fit_transform(df), columns=df.columns)\n",
    "print(df_minmax)"
   ]
  },
  {
   "cell_type": "markdown",
   "id": "1e977c87",
   "metadata": {},
   "source": [
    "### StandardScaler\n",
    "\n",
    "The StandardScaler standardizes features by removing the mean and scaling to unit variance. The formula is:\n",
    "\n",
    "---\n",
    "\n",
    "\n",
    ">$$X' = \\frac{X - \\mu}{\\sigma}$$\n",
    "\n",
    "Where:\n",
    "* X is the original value\n",
    "* $\\mu$ is the mean of the feature\n",
    "* $\\sigma$ is the standard deviation of the feature\n",
    "* $X'$ is the transformed value\n",
    "\n",
    "\n",
    "---\n",
    "\n",
    "This scaler is useful when the data follows a Gaussian distribution with different variances."
   ]
  },
  {
   "cell_type": "code",
   "execution_count": 13,
   "id": "23687c35",
   "metadata": {},
   "outputs": [
    {
     "name": "stdout",
     "output_type": "stream",
     "text": [
      "        Age     Score\n",
      "0 -0.557086 -1.405564\n",
      "1  0.557086  1.405564\n",
      "2 -1.299867 -0.156174\n",
      "3  1.299867  0.156174\n"
     ]
    }
   ],
   "source": [
    "from sklearn.preprocessing import StandardScaler\n",
    "\n",
    "# Applying StandardScaler\n",
    "scaler = StandardScaler()\n",
    "df_standard = pd.DataFrame(scaler.fit_transform(df), columns=df.columns)\n",
    "print(df_standard)"
   ]
  },
  {
   "cell_type": "markdown",
   "id": "c8aab0f1",
   "metadata": {},
   "source": [
    "### RobustScaler\n",
    "\n",
    "The RobustScaler uses the median and the interquartile range for scaling. It is less sensitive to outliers compared to the StandardScaler. The formula is:\n",
    "\n",
    "---\n",
    "\n",
    "\n",
    ">$$X' = \\frac{X - \\text{median}}{\\text{IQR}}$$\n",
    "\n",
    "Where:\n",
    "* $X$ is the original value\n",
    "* $\\text{median}$ is the median of the feature\n",
    "* $\\text{IQR}$ is the interquatile range of the feature (the difference between the Q3 and Q1)\n",
    "* $X'$ is the transformed value\n",
    "---\n",
    "\n",
    "This scaler is useful when your data contains outliers."
   ]
  },
  {
   "cell_type": "code",
   "execution_count": 14,
   "id": "ae135202",
   "metadata": {},
   "outputs": [
    {
     "name": "stdout",
     "output_type": "stream",
     "text": [
      "     Age     Score\n",
      "0 -0.375 -1.500000\n",
      "1  0.375  1.500000\n",
      "2 -0.875 -0.166667\n",
      "3  0.875  0.166667\n"
     ]
    }
   ],
   "source": [
    "from sklearn.preprocessing import RobustScaler\n",
    "\n",
    "# Applying RobustScaler\n",
    "scaler = RobustScaler()\n",
    "df_robust = pd.DataFrame(scaler.fit_transform(df), columns=df.columns)\n",
    "print(df_robust)"
   ]
  },
  {
   "cell_type": "markdown",
   "id": "3cb47308",
   "metadata": {},
   "source": [
    "### Differences and When to Use Them\n",
    "\n",
    "* **MinMaxScaler**: Use when you need to preserve the relationships between data points and your data does not contain outliers.\n",
    "* **StandardScaler**: Use when your data follows a Gaussian distribution with different variances. Not robust to outliers.\n",
    "* **RobustScaler**: Use when your data contains outliers. It scales the data based on the median and IQR, making it robust to outliers."
   ]
  },
  {
   "cell_type": "markdown",
   "id": "9ce968f2",
   "metadata": {},
   "source": [
    "## 2. Encoding Categorical Variables\n",
    "\n",
    "Categorical variables need to be converted into a numerical format for machine learning algorithms to process them. There are several methods for encoding categorical variables."
   ]
  },
  {
   "cell_type": "markdown",
   "id": "17b3268e",
   "metadata": {},
   "source": [
    "### One-Hot Encoding\n",
    "\n",
    "One-hot encoding creates a new binary column for each category."
   ]
  },
  {
   "cell_type": "code",
   "execution_count": 15,
   "id": "335aad90",
   "metadata": {},
   "outputs": [
    {
     "name": "stdout",
     "output_type": "stream",
     "text": [
      "      Name  Team_A  Team_B\n",
      "0    Alice       1       0\n",
      "1      Bob       0       1\n",
      "2  Charlie       1       0\n",
      "3    David       0       1\n"
     ]
    }
   ],
   "source": [
    "# Example DataFrame with categorical variable\n",
    "data = {'Name': ['Alice', 'Bob', 'Charlie', 'David'],\n",
    "        'Team': ['A', 'B', 'A', 'B']}\n",
    "\n",
    "df = pd.DataFrame(data)\n",
    "\n",
    "# Applying one-hot encoding\n",
    "df_onehot = pd.get_dummies(df, columns=['Team'])\n",
    "print(df_onehot)"
   ]
  },
  {
   "cell_type": "markdown",
   "id": "334a6a22",
   "metadata": {},
   "source": [
    "### Label Encoding\n",
    "\n",
    "Label encoding converts each category to a numerical label."
   ]
  },
  {
   "cell_type": "code",
   "execution_count": 16,
   "id": "fe2e3069",
   "metadata": {},
   "outputs": [
    {
     "name": "stdout",
     "output_type": "stream",
     "text": [
      "      Name Team  Team_Encoded\n",
      "0    Alice    A             0\n",
      "1      Bob    B             1\n",
      "2  Charlie    C             2\n",
      "3    David    D             3\n"
     ]
    }
   ],
   "source": [
    "from sklearn.preprocessing import LabelEncoder\n",
    "\n",
    "data = {'Name': ['Alice', 'Bob', 'Charlie', 'David'],\n",
    "        'Team': ['A', 'B', 'C', 'D']}\n",
    "\n",
    "df = pd.DataFrame(data)\n",
    "# Applying label encoding\n",
    "encoder = LabelEncoder()\n",
    "df['Team_Encoded'] = encoder.fit_transform(df['Team'])\n",
    "print(df)"
   ]
  },
  {
   "cell_type": "markdown",
   "id": "89c02854",
   "metadata": {},
   "source": [
    "## Handling Dates and Times\n",
    "\n",
    "Handling dates and times is crucial for time series analysis, feature extraction, and understanding trends over time."
   ]
  },
  {
   "cell_type": "markdown",
   "id": "4128f695",
   "metadata": {},
   "source": [
    "### Converting Strings to Datetime\n",
    "\n",
    "You can convert date strings to datetime objects using `pd.to_datetime()`."
   ]
  },
  {
   "cell_type": "code",
   "execution_count": 17,
   "id": "3b5e1de6",
   "metadata": {},
   "outputs": [
    {
     "name": "stdout",
     "output_type": "stream",
     "text": [
      "        Date  Value\n",
      "0 2021-01-01    100\n",
      "1 2021-01-02    150\n",
      "2 2021-01-03    200\n"
     ]
    }
   ],
   "source": [
    "# Example DataFrame with date strings\n",
    "data = {'Date': ['2021-01-01', '2021-01-02', '2021-01-03'],\n",
    "        'Value': [100, 150, 200]}\n",
    "\n",
    "df_dates = pd.DataFrame(data)\n",
    "\n",
    "# Converting to datetime\n",
    "df_dates['Date'] = pd.to_datetime(df_dates['Date'])\n",
    "print(df_dates)"
   ]
  },
  {
   "cell_type": "markdown",
   "id": "70ef3cb8",
   "metadata": {},
   "source": [
    "### Extracting Date Components\n",
    "\n",
    "You can extract various components of datetime objects for analysis."
   ]
  },
  {
   "cell_type": "code",
   "execution_count": 18,
   "id": "f8c3f4b0",
   "metadata": {},
   "outputs": [
    {
     "name": "stdout",
     "output_type": "stream",
     "text": [
      "        Date  Value  Year  Month  Day\n",
      "0 2021-01-01    100  2021      1    1\n",
      "1 2021-01-02    150  2021      1    2\n",
      "2 2021-01-03    200  2021      1    3\n"
     ]
    }
   ],
   "source": [
    "# Extracting year, month, day\n",
    "df_dates['Year'] = df_dates['Date'].dt.year\n",
    "df_dates['Month'] = df_dates['Date'].dt.month\n",
    "df_dates['Day'] = df_dates['Date'].dt.day\n",
    "print(df_dates)"
   ]
  },
  {
   "cell_type": "code",
   "execution_count": 19,
   "id": "e817b360",
   "metadata": {},
   "outputs": [
    {
     "name": "stdout",
     "output_type": "stream",
     "text": [
      "        Date  Value  Year  Month  Day  DayOfWeek\n",
      "0 2021-01-01    100  2021      1    1          4\n",
      "1 2021-01-02    150  2021      1    2          5\n",
      "2 2021-01-03    200  2021      1    3          6\n"
     ]
    }
   ],
   "source": [
    "# Extracting day of the week\n",
    "df_dates['DayOfWeek'] = df_dates['Date'].dt.dayofweek\n",
    "print(df_dates)"
   ]
  }
 ],
 "metadata": {
  "kernelspec": {
   "display_name": "Python 3 (ipykernel)",
   "language": "python",
   "name": "python3"
  },
  "language_info": {
   "codemirror_mode": {
    "name": "ipython",
    "version": 3
   },
   "file_extension": ".py",
   "mimetype": "text/x-python",
   "name": "python",
   "nbconvert_exporter": "python",
   "pygments_lexer": "ipython3",
   "version": "3.11.5"
  }
 },
 "nbformat": 4,
 "nbformat_minor": 5
}
