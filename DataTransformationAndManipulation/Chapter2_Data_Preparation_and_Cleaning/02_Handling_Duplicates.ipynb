{
 "cells": [
  {
   "cell_type": "markdown",
   "id": "ad14e702",
   "metadata": {},
   "source": [
    "# Handling Duplicates\n",
    "\n",
    "## Detecting and Removing duplicates\n",
    "\n",
    "### 1.1 Detecting Duplicates\n",
    "\n",
    "Detecting duplicates in a dataset is crucial for ensuring data integrity and accuracy. Duplicates can arise from data entry errors, merging of datasets, or other data processing steps. Pandas provides several functions to detect duplicates in a DataFrame.\n",
    "\n",
    "#### Using `duplicated()`\n",
    "The `duplicated()` function returns a Boolean Series indicating whether each row is a duplicate of a previous row. By default, it considers all columns but can be customized to check specific columns.\n"
   ]
  },
  {
   "cell_type": "code",
   "execution_count": 6,
   "id": "03fa49c5",
   "metadata": {},
   "outputs": [
    {
     "name": "stdout",
     "output_type": "stream",
     "text": [
      "0    False\n",
      "1    False\n",
      "2     True\n",
      "3    False\n",
      "4     True\n",
      "dtype: bool\n"
     ]
    }
   ],
   "source": [
    "import pandas as pd\n",
    "\n",
    "# Example DataFrame with duplicates\n",
    "data = {'Name': ['Alice', 'Bob', 'Alice', 'David', 'Alice'],\n",
    "        'Age': [24, 27, 24, 29, 24],\n",
    "        'Score': [85.5, 90.0, 85.5, 88.0, 85.5]}\n",
    "\n",
    "df = pd.DataFrame(data)\n",
    "\n",
    "# Detecting duplicate rows\n",
    "duplicates = df.duplicated()\n",
    "print(duplicates)"
   ]
  },
  {
   "cell_type": "markdown",
   "id": "70954e0d",
   "metadata": {},
   "source": [
    "#### Finding Duplicates Rows\n",
    "\n",
    "To get the actual duplicate rows, you can use the 'duplicated()' function along with boolean indexing."
   ]
  },
  {
   "cell_type": "code",
   "execution_count": 7,
   "id": "3259c529",
   "metadata": {},
   "outputs": [
    {
     "name": "stdout",
     "output_type": "stream",
     "text": [
      "    Name  Age  Score\n",
      "2  Alice   24   85.5\n",
      "4  Alice   24   85.5\n"
     ]
    }
   ],
   "source": [
    "# Finding duplicate rows\n",
    "duplicate_rows = df[df.duplicated()]\n",
    "print(duplicate_rows)"
   ]
  },
  {
   "cell_type": "markdown",
   "id": "43ac91ec",
   "metadata": {},
   "source": [
    "#### Detecting Duplicates in Specific Columns\n",
    "\n",
    "You can specify columns to check for duplicates. This is useful when duplicates in certain columns are more critical than others."
   ]
  },
  {
   "cell_type": "code",
   "execution_count": 8,
   "id": "2f46667b",
   "metadata": {},
   "outputs": [
    {
     "name": "stdout",
     "output_type": "stream",
     "text": [
      "0    False\n",
      "1    False\n",
      "2     True\n",
      "3    False\n",
      "4     True\n",
      "dtype: bool\n"
     ]
    }
   ],
   "source": [
    "# Detecting duplicates based on specific columns\n",
    "duplicates_specific = df.duplicated(subset=['Name', 'Age'])\n",
    "print(duplicates_specific)"
   ]
  },
  {
   "cell_type": "markdown",
   "id": "a3e964a2",
   "metadata": {},
   "source": [
    "### Handling Duplicates\n",
    "\n",
    "Once duplicates are detected, there are several ways to handle them, including dropping them or keeping only the first or last occurrence."
   ]
  },
  {
   "cell_type": "markdown",
   "id": "88a75194",
   "metadata": {},
   "source": [
    "#### Dropping Duplicate Rows\n",
    "\n",
    "The `drop_duplicates()` function removes duplicate rows from a DataFrame. By default, it keeps the first occurrence and drops the subsequent ones."
   ]
  },
  {
   "cell_type": "code",
   "execution_count": 9,
   "id": "d0aa6822",
   "metadata": {},
   "outputs": [
    {
     "name": "stdout",
     "output_type": "stream",
     "text": [
      "    Name  Age  Score\n",
      "0  Alice   24   85.5\n",
      "1    Bob   27   90.0\n",
      "3  David   29   88.0\n"
     ]
    }
   ],
   "source": [
    "# Dropping duplicate rows\n",
    "df_no_duplicates = df.drop_duplicates()\n",
    "print(df_no_duplicates)"
   ]
  },
  {
   "cell_type": "markdown",
   "id": "09e44d39",
   "metadata": {},
   "source": [
    "#### Keeping the Last Occurence\n",
    "\n",
    "You can change the `keep` parameter to keep the last occurrence of each duplicate."
   ]
  },
  {
   "cell_type": "code",
   "execution_count": 10,
   "id": "1febec4a",
   "metadata": {},
   "outputs": [
    {
     "name": "stdout",
     "output_type": "stream",
     "text": [
      "    Name  Age  Score\n",
      "1    Bob   27   90.0\n",
      "3  David   29   88.0\n",
      "4  Alice   24   85.5\n"
     ]
    }
   ],
   "source": [
    "# Dropping duplicates, keeping the last occurrence\n",
    "df_keep_last = df.drop_duplicates(keep='last')\n",
    "print(df_keep_last)"
   ]
  }
 ],
 "metadata": {
  "kernelspec": {
   "display_name": "Python 3 (ipykernel)",
   "language": "python",
   "name": "python3"
  },
  "language_info": {
   "codemirror_mode": {
    "name": "ipython",
    "version": 3
   },
   "file_extension": ".py",
   "mimetype": "text/x-python",
   "name": "python",
   "nbconvert_exporter": "python",
   "pygments_lexer": "ipython3",
   "version": "3.11.5"
  }
 },
 "nbformat": 4,
 "nbformat_minor": 5
}
