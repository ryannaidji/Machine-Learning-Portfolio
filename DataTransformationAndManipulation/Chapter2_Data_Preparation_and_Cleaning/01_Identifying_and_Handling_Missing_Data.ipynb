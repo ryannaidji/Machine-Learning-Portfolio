{
 "cells": [
  {
   "cell_type": "markdown",
   "id": "ec1beb0f",
   "metadata": {},
   "source": [
    "# Identifying and Handling Missing Data\n",
    "\n",
    "## 1.1 Detecting Missing Data\n",
    "\n",
    "Detecting missing data is the first step in handling it. Pandas provides several functions to detect missing values in a dataset.\n",
    "\n",
    "### Using `isnull()`\n",
    "The `isnull()` function returns a DataFrame of the same shape as the original, with `True` in positions where values are missing and `False` where they are not."
   ]
  },
  {
   "cell_type": "code",
   "execution_count": 23,
   "id": "4d3af681",
   "metadata": {},
   "outputs": [
    {
     "name": "stdout",
     "output_type": "stream",
     "text": [
      "    Name    Age  Score\n",
      "0  False  False  False\n",
      "1  False   True  False\n",
      "2   True  False   True\n",
      "3  False  False  False\n"
     ]
    }
   ],
   "source": [
    "import pandas as pd\n",
    "\n",
    "# Example DataFrame\n",
    "data = {'Name': ['Alice', 'Bob', None, 'David'],\n",
    "        'Age': [24, None, 22, 29],\n",
    "        'Score': [85.5, 90.0, None, 88.0]}\n",
    "\n",
    "df = pd.DataFrame(data)\n",
    "\n",
    "# Detecting missing values\n",
    "missing_data = df.isnull()\n",
    "print(missing_data)"
   ]
  },
  {
   "cell_type": "markdown",
   "id": "3ca5540a",
   "metadata": {},
   "source": [
    "### Using `notnull()`\n",
    "\n",
    "The `notnull()` function returns a DataFrame of the same shape as the original, with `True` in positions where values are not missing and `False` where they are."
   ]
  },
  {
   "cell_type": "code",
   "execution_count": 24,
   "id": "0d19f761",
   "metadata": {},
   "outputs": [
    {
     "name": "stdout",
     "output_type": "stream",
     "text": [
      "    Name    Age  Score\n",
      "0   True   True   True\n",
      "1   True  False   True\n",
      "2  False   True  False\n",
      "3   True   True   True\n"
     ]
    }
   ],
   "source": [
    "# Detecting non-missing values\n",
    "non_missing_data = df.notnull()\n",
    "print(non_missing_data)"
   ]
  },
  {
   "cell_type": "markdown",
   "id": "2351f11d",
   "metadata": {},
   "source": [
    "### Summary Statistic for Missing Data\n",
    "\n",
    "You can also use the `sum()` function to get the total count of missing values per column."
   ]
  },
  {
   "cell_type": "code",
   "execution_count": 25,
   "id": "6a316939",
   "metadata": {},
   "outputs": [
    {
     "name": "stdout",
     "output_type": "stream",
     "text": [
      "Name     1\n",
      "Age      1\n",
      "Score    1\n",
      "dtype: int64\n"
     ]
    }
   ],
   "source": [
    "# Count of missing values per column\n",
    "missing_count = df.isnull().sum()\n",
    "print(missing_count)"
   ]
  },
  {
   "cell_type": "markdown",
   "id": "9a26165d",
   "metadata": {},
   "source": [
    "## 1.2 Techniques for Handling Missing Data\n",
    "\n",
    "Once missing data is detected, there are several ways to handle it. Common techniques include deletion and imputation.\n",
    "\n",
    "**Deletion**\n",
    "* **Dropping Rows**: Removing rows with missing values can be useful when the dataset is large and the amount of missing data is relatively small."
   ]
  },
  {
   "cell_type": "code",
   "execution_count": 26,
   "id": "4c86a59c",
   "metadata": {},
   "outputs": [
    {
     "name": "stdout",
     "output_type": "stream",
     "text": [
      "    Name   Age  Score\n",
      "0  Alice  24.0   85.5\n",
      "3  David  29.0   88.0\n"
     ]
    }
   ],
   "source": [
    "# Dropping rows with missing values\n",
    "df_dropped_rows = df.dropna()\n",
    "print(df_dropped_rows)"
   ]
  },
  {
   "cell_type": "markdown",
   "id": "77e8428b",
   "metadata": {},
   "source": [
    "* **Dropping Columns**: Removing columns with missing values is an option when a column has a significant amount of missing data."
   ]
  },
  {
   "cell_type": "code",
   "execution_count": 27,
   "id": "573ed8a6",
   "metadata": {},
   "outputs": [
    {
     "name": "stdout",
     "output_type": "stream",
     "text": [
      "Empty DataFrame\n",
      "Columns: []\n",
      "Index: [0, 1, 2, 3]\n"
     ]
    }
   ],
   "source": [
    "# Dropping columns with missing values\n",
    "df_dropped_columns = df.dropna(axis=1)\n",
    "print(df_dropped_columns)"
   ]
  },
  {
   "cell_type": "markdown",
   "id": "8773f8b5",
   "metadata": {},
   "source": [
    "**Imputation**\n",
    "* **Fill with a Specific Value**: Replacing missing values with a specified value, such as zero, the mean, or the median of the column."
   ]
  },
  {
   "cell_type": "code",
   "execution_count": 28,
   "id": "dcbeb8bf",
   "metadata": {},
   "outputs": [
    {
     "name": "stdout",
     "output_type": "stream",
     "text": [
      "    Name   Age  Score\n",
      "0  Alice  24.0   85.5\n",
      "1    Bob   0.0   90.0\n",
      "2      0  22.0    0.0\n",
      "3  David  29.0   88.0\n"
     ]
    }
   ],
   "source": [
    "# Filling missing values with a specific value\n",
    "df_filled_zero = df.fillna(0)\n",
    "print(df_filled_zero)"
   ]
  },
  {
   "cell_type": "markdown",
   "id": "eb1ad383",
   "metadata": {},
   "source": [
    "* **Filling with the Mean/Median of the Column**: This is a common technique for numerical data."
   ]
  },
  {
   "cell_type": "code",
   "execution_count": 29,
   "id": "8e590068",
   "metadata": {},
   "outputs": [
    {
     "name": "stdout",
     "output_type": "stream",
     "text": [
      "    Name   Age      Score\n",
      "0  Alice  24.0  85.500000\n",
      "1    Bob  25.0  90.000000\n",
      "2   None  22.0  87.833333\n",
      "3  David  29.0  88.000000\n"
     ]
    }
   ],
   "source": [
    "# Filling missing values with the mean of the column\n",
    "df_filled_mean = df.fillna(df.mean(numeric_only=True))\n",
    "print(df_filled_mean)"
   ]
  },
  {
   "cell_type": "code",
   "execution_count": 30,
   "id": "c6427736",
   "metadata": {},
   "outputs": [
    {
     "name": "stdout",
     "output_type": "stream",
     "text": [
      "    Name   Age  Score\n",
      "0  Alice  24.0   85.5\n",
      "1    Bob  24.0   90.0\n",
      "2   None  22.0   88.0\n",
      "3  David  29.0   88.0\n"
     ]
    }
   ],
   "source": [
    "# Filling missing values with the median of the column\n",
    "df_filled_median = df.fillna(df.median(numeric_only=True))\n",
    "print(df_filled_median)"
   ]
  },
  {
   "cell_type": "markdown",
   "id": "c9c3e95b",
   "metadata": {},
   "source": [
    "## 1.3 Advanced Imputation Methods\n",
    "\n",
    "Advanced imputation methods involve using models to predict and fill in missing values. Two common methods are K-Nearest Neighbors (KNN) and Multiple Imputation by Chained Equations (MICE)."
   ]
  },
  {
   "cell_type": "markdown",
   "id": "e8c9aed6",
   "metadata": {},
   "source": [
    "### K-Nearest Neighbors (KNN)\n",
    "KNN imputation replaces a missing value with the mean (or median) value of the **`k`** nearest neighbors found in the dataset."
   ]
  },
  {
   "cell_type": "code",
   "execution_count": 31,
   "id": "108b6e23",
   "metadata": {},
   "outputs": [],
   "source": [
    "from sklearn.impute import KNNImputer\n",
    "\n",
    "# Example DataFrame with numerical data\n",
    "data_numeric = {'Age': [24, None, 22, 29],\n",
    "                'Score': [85.5, 90.0, None, 88.0]}\n",
    "df_numeric = pd.DataFrame(data_numeric)"
   ]
  },
  {
   "cell_type": "code",
   "execution_count": 32,
   "id": "5a4e6827",
   "metadata": {},
   "outputs": [
    {
     "name": "stdout",
     "output_type": "stream",
     "text": [
      "    Age  Score\n",
      "0  24.0  85.50\n",
      "1  26.5  90.00\n",
      "2  22.0  86.75\n",
      "3  29.0  88.00\n"
     ]
    }
   ],
   "source": [
    "# Applying KNN imputation\n",
    "knn_imputer = KNNImputer(n_neighbors=2)\n",
    "df_knn_imputed = pd.DataFrame(knn_imputer.fit_transform(df_numeric), columns=df_numeric.columns)\n",
    "print(df_knn_imputed)"
   ]
  },
  {
   "cell_type": "markdown",
   "id": "ff22a848",
   "metadata": {},
   "source": [
    "### Multiple Imputation by Chained Equations (MICE)\n",
    "\n",
    "MICE is a more sophisticated imputation method that fills in missing data multiple times to create several complete datasets. Each dataset is then analyzed, and the results are pooled to account for the uncertainty in the imputations."
   ]
  },
  {
   "cell_type": "code",
   "execution_count": 33,
   "id": "039426a1",
   "metadata": {},
   "outputs": [
    {
     "name": "stdout",
     "output_type": "stream",
     "text": [
      "         Age     Score\n",
      "0  24.000000  85.50000\n",
      "1  25.002583  90.00000\n",
      "2  22.000000  87.83034\n",
      "3  29.000000  88.00000\n"
     ]
    }
   ],
   "source": [
    "from sklearn.experimental import enable_iterative_imputer\n",
    "from sklearn.impute import IterativeImputer\n",
    "\n",
    "# Applying MICE imputation\n",
    "mice_imputer = IterativeImputer()\n",
    "df_mice_imputed = pd.DataFrame(mice_imputer.fit_transform(df_numeric), columns=df_numeric.columns)\n",
    "print(df_mice_imputed)"
   ]
  }
 ],
 "metadata": {
  "kernelspec": {
   "display_name": "Python 3 (ipykernel)",
   "language": "python",
   "name": "python3"
  },
  "language_info": {
   "codemirror_mode": {
    "name": "ipython",
    "version": 3
   },
   "file_extension": ".py",
   "mimetype": "text/x-python",
   "name": "python",
   "nbconvert_exporter": "python",
   "pygments_lexer": "ipython3",
   "version": "3.11.5"
  }
 },
 "nbformat": 4,
 "nbformat_minor": 5
}
