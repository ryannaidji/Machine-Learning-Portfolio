{
 "cells": [
  {
   "cell_type": "markdown",
   "id": "c3854336",
   "metadata": {},
   "source": [
    "# Mathematical Concept of Linear Regression\n",
    "\n",
    "In this notebook, we will cover the following topics:\n",
    "- Need for Prediction\n",
    "- Linear Model\n",
    "- Linear Regression\n",
    "- Parameter Estimators"
   ]
  },
  {
   "cell_type": "markdown",
   "id": "261b27a6",
   "metadata": {},
   "source": [
    "## Need for Prediction\n",
    "\n",
    "**Regression** is a method of investigating the functional relationships between variables.\n",
    "- We have independent variables.\n",
    "- We aim to estimate the value of the dependent variable given the independent variables.\n",
    "- We seek a model, which in our case is the equation governing the relationship between these two variables.\n",
    "- **Regression** is used when the variables are continuous and have some correlation.\n",
    "- **Criterion**: Goodness of fit, which explains the quality of the model.\n"
   ]
  },
  {
   "cell_type": "markdown",
   "id": "31491e64",
   "metadata": {},
   "source": [
    "## Linear Model\n",
    "\n",
    "We consider two variables:\n",
    "- **$X$** is the independent variable or predictor.\n",
    "- **$Y$** is the dependent variable.\n",
    "\n",
    "We want to calculate **$Y$** from **$X$** using the equation:\n",
    "\n",
    "> $Y = \\beta_0 + \\beta_1 X$\n",
    "\n",
    "where:\n",
    "- $\\beta_1$ = slope, which equals $\\frac{Y}{X}$\n",
    "- $\\beta_0$ = intercept, which is the value of $Y$ when $X = 0$.\n"
   ]
  },
  {
   "cell_type": "markdown",
   "id": "91961bb1",
   "metadata": {},
   "source": [
    "## Linear Model with Noise\n",
    "\n",
    "We consider an additional term for error or noise, $\\epsilon$:\n",
    "\n",
    "> $y = \\beta_0 + \\beta_1 X + \\epsilon$\n",
    "\n",
    "Given estimators for the model coefficients, we want to predict the future value of $Y$ using the relationship:\n",
    "\n",
    "> $\\hat{y} = \\hat{\\beta_0} + \\hat{\\beta_1} x$\n",
    "\n",
    "where $\\hat{y}$ is the predicted value of $Y$ given $X = x$.\n"
   ]
  },
  {
   "cell_type": "markdown",
   "id": "574b8b1b",
   "metadata": {},
   "source": [
    "## Building the Model\n",
    "\n",
    "The process involves designing a line that fits through the points. The approach is to find a line that passes through the points such that the sum of the squared vertical distances between the points and the line is minimized.\n",
    "\n",
    "Let's visualize this with a plot."
   ]
  },
  {
   "cell_type": "code",
   "execution_count": 4,
   "id": "6f902d9b",
   "metadata": {},
   "outputs": [
    {
     "data": {
      "image/png": "[encoded data removed]",
      "text/plain": [
       "<Figure size 640x480 with 1 Axes>"
      ]
     },
     "metadata": {},
     "output_type": "display_data"
    }
   ],
   "source": [
    "import numpy as np\n",
    "import matplotlib.pyplot as plt\n",
    "\n",
    "# Sample data\n",
    "X = np.array([1, 2, 3, 4, 5])\n",
    "Y = np.array([2, 3, 5, 6, 5])\n",
    "\n",
    "# Plot the data points\n",
    "plt.scatter(X, Y, color='blue', label='Data points')\n",
    "\n",
    "# Fit a line using linear regression\n",
    "coefficients = np.polyfit(X, Y, 1)\n",
    "linear_regression_line = np.poly1d(coefficients)\n",
    "\n",
    "# Plot the linear regression line\n",
    "plt.plot(X, linear_regression_line(X), color='red', label='Fitted line')\n",
    "\n",
    "# Plot vertical lines between data points and the fitted line\n",
    "for x, y in zip(X, Y):\n",
    "    plt.plot([x, x], [y, linear_regression_line(x)], color='green', linestyle='dashed')\n",
    "\n",
    "plt.xlabel('X')\n",
    "plt.ylabel('Y')\n",
    "plt.title('Linear Regression Fit')\n",
    "plt.legend()\n",
    "plt.show()\n"
   ]
  },
  {
   "cell_type": "markdown",
   "id": "ced5807c",
   "metadata": {},
   "source": [
    "## How to Estimate the Parameters?\n",
    "\n",
    "The approach is straightforward if we consider the prediction of $Y$, denoted by $\\hat{y_i}$, given the value $x_i$:\n",
    "\n",
    "> $\\hat{y_i} = \\hat{\\beta_0} + \\hat{\\beta_1} x_i$\n",
    "\n",
    "Now consider the residual between the true value $y_i$ and the prediction $\\hat{y_i}$:\n",
    "\n",
    "> $e_i = y_i - \\hat{y_i}$\n",
    "\n",
    "The sum of squares of residuals (RSS) is then defined as:\n",
    "\n",
    "> $\\text{RSS} = e_1^2 + e_2^2 + \\ldots + e_N^2$\n",
    "\n",
    "**Objective**: Choose $\\hat{\\beta_0}$ and $\\hat{\\beta_1}$ to minimize RSS.\n"
   ]
  },
  {
   "cell_type": "markdown",
   "id": "009660fc",
   "metadata": {},
   "source": [
    "## Solutions\n",
    "\n",
    "The estimators $\\hat{\\beta_0}$ and $\\hat{\\beta_1}$ are calculated as follows:\n",
    "\n",
    "> $\\hat{\\beta_1} = \\frac{\\sum_{i=1}^{n} (x_i - \\bar{x})(y_i - \\bar{y})}{\\sum_{i=1}^{n} (x_i - \\bar{x})^2}$\n",
    "\n",
    "> $\\hat{\\beta_0} = \\bar{y} - \\hat{\\beta_1} \\bar{x}$\n",
    "\n",
    "where the sample means $\\bar{y}$ and $\\bar{x}$ are given by:\n",
    "\n",
    "> $\\bar{y} = \\frac{1}{n} \\sum_{i=1}^{n} y_i$\n",
    "\n",
    "> $\\bar{x} = \\frac{1}{n} \\sum_{i=1}^{n} x_i$\n"
   ]
  },
  {
   "cell_type": "code",
   "execution_count": 5,
   "id": "87464668",
   "metadata": {},
   "outputs": [
    {
     "name": "stdout",
     "output_type": "stream",
     "text": [
      "Estimated coefficients:\n",
      "β0: 1.50\n",
      "β1: 0.90\n"
     ]
    }
   ],
   "source": [
    "# Calculating the sample means\n",
    "x_bar = np.mean(X)\n",
    "y_bar = np.mean(Y)\n",
    "\n",
    "# Calculating the estimators\n",
    "beta_1_hat = np.sum((X - x_bar) * (Y - y_bar)) / np.sum((X - x_bar) ** 2)\n",
    "beta_0_hat = y_bar - beta_1_hat * x_bar\n",
    "\n",
    "print(f'Estimated coefficients:\\nβ0: {beta_0_hat:.2f}\\nβ1: {beta_1_hat:.2f}')\n"
   ]
  },
  {
   "cell_type": "markdown",
   "id": "2e7e4255",
   "metadata": {},
   "source": [
    "The calculated estimators are:\n",
    "\n",
    "> $\\hat{\\beta_0} = \\text{calculated value of } \\beta_0$\n",
    "\n",
    "> $\\hat{\\beta_1} = \\text{calculated value of } \\beta_1$\n",
    "\n",
    "We can use these estimators to predict future values of $y$ given $x$.\n"
   ]
  },
  {
   "cell_type": "code",
   "execution_count": 7,
   "id": "afcc1ce3",
   "metadata": {},
   "outputs": [
    {
     "name": "stdout",
     "output_type": "stream",
     "text": [
      "For x = 6, predicted y = 6.90\n"
     ]
    },
    {
     "data": {
      "image/png": "[encoded data removed]",
      "text/plain": [
       "<Figure size 640x480 with 1 Axes>"
      ]
     },
     "metadata": {},
     "output_type": "display_data"
    }
   ],
   "source": [
    "# Sample new data point for prediction\n",
    "x_new = 6\n",
    "y_pred = beta_0_hat + beta_1_hat * x_new\n",
    "\n",
    "print(f'For x = {x_new}, predicted y = {y_pred:.2f}')\n",
    "\n",
    "# Plot the data points and the regression line\n",
    "plt.scatter(X, Y, color='blue', label='Data points')\n",
    "plt.plot(X, linear_regression_line(X), color='red', label=f'Fitted line: y = {beta_0:.2f} + {beta_1:.2f}x')\n",
    "\n",
    "# Plot vertical lines between data points and the fitted line\n",
    "for x, y in zip(X, Y):\n",
    "    plt.plot([x, x], [y, linear_regression_line(x)], color='green', linestyle='dashed')\n",
    "\n",
    "# Highlight the new prediction\n",
    "plt.scatter(x_new, y_pred, color='orange', label=f'Predicted point (x={x_new}, y={y_pred:.2f})')\n",
    "plt.plot([x_new, x_new], [0, y_pred], color='orange', linestyle='dotted')\n",
    "\n",
    "plt.xlabel('X')\n",
    "plt.ylabel('Y')\n",
    "plt.title('Linear Regression Fit with Predictions')\n",
    "plt.legend()\n",
    "plt.show()\n"
   ]
  },
  {
   "cell_type": "markdown",
   "id": "563e179a",
   "metadata": {},
   "source": [
    "## Line Fitting\n",
    "\n",
    "### Best Model or Best Fit Line\n",
    "\n",
    "- The best model or best fit line is the one that minimizes the sum of squared residuals.\n",
    "- **Residuals** are the differences between the observed values and the predicted values.\n",
    "\n",
    "### Result\n",
    "\n",
    "- The equation of the fitted line becomes the predictor of $Y$.\n",
    "- Note: A line can always be fitted to any set of points, but it might not necessarily be a good predictor.\n"
   ]
  },
  {
   "cell_type": "code",
   "execution_count": 8,
   "id": "ee0e50cc",
   "metadata": {},
   "outputs": [
    {
     "name": "stdout",
     "output_type": "stream",
     "text": [
      "Sum of squared residuals (RSS): 2.70\n"
     ]
    }
   ],
   "source": [
    "# Residuals\n",
    "residuals = Y - linear_regression_line(X)\n",
    "\n",
    "# Sum of squared residuals (RSS)\n",
    "RSS = np.sum(residuals ** 2)\n",
    "print(f'Sum of squared residuals (RSS): {RSS:.2f}')"
   ]
  },
  {
   "cell_type": "markdown",
   "id": "c27eb6a6",
   "metadata": {},
   "source": [
    "## Goodness of Fit\n",
    "\n",
    "### R-squared Measure\n",
    "\n",
    "- **R-squared** measures the quality of the model.\n",
    "- It indicates how well the points fit the line.\n",
    "- Ranges between 0 and 1: the closer to 1, the better the model.\n",
    "\n",
    "### Finding R-squared for Our Predictor\n",
    "\n",
    "- R-squared is the criterion for model selection.\n",
    "- The correlation between the independent variables $X$ and the dependent variable $Y$ determines how close R-squared is to 1.\n"
   ]
  },
  {
   "cell_type": "code",
   "execution_count": 10,
   "id": "22cbabe0",
   "metadata": {},
   "outputs": [
    {
     "name": "stdout",
     "output_type": "stream",
     "text": [
      "R-squared: 0.75\n"
     ]
    }
   ],
   "source": [
    "# Calculate the Total Sum of Squares (TSS)\n",
    "TSS = np.sum((Y - y_bar) ** 2)\n",
    "\n",
    "# Calculate R-squared\n",
    "R_squared = 1 - (RSS / TSS)\n",
    "print(f'R-squared: {R_squared:.2f}')"
   ]
  },
  {
   "cell_type": "markdown",
   "id": "2e4bfb03",
   "metadata": {},
   "source": [
    "## Summary\n",
    "\n",
    "- The best fit line is determined by minimizing the sum of squared residuals.\n",
    "- The goodness of fit is measured using R-squared.\n",
    "- An R-squared value closer to 1 indicates a better model.\n",
    "- The equation of the best fit line can be used to predict future values of $Y$.\n"
   ]
  },
  {
   "cell_type": "markdown",
   "id": "f752aff6",
   "metadata": {},
   "source": [
    "## Multiple Regression\n",
    "\n",
    "### Definition\n",
    "\n",
    "- In multiple regression, more than one independent variable is used to predict the dependent variable:\n",
    "\n",
    "> $Y = \\beta_0 + \\beta_1 X_1 + \\ldots + \\beta_n X_n$\n",
    "\n",
    "- The process is the same as in the single variable case: finding the minimum distance.\n",
    "\n",
    "### Importance\n",
    "\n",
    "- Given multiple variables, they have different impacts on Y.\n",
    "- The coefficients ($\\beta_1, \\beta_2, \\ldots, \\beta_n$) will have values according to the impact of each variable.\n"
   ]
  },
  {
   "cell_type": "markdown",
   "id": "8c924a4a",
   "metadata": {},
   "source": [
    "## Use of Linear Regression in Machine Learning\n",
    "\n",
    "### Supervised Learning Approach\n",
    "\n",
    "- Linear regression is a supervised learning approach.\n",
    "- Used for predicting continuous data.\n",
    "- Predictors $X$ and output $Y$ are provided as input.\n",
    "- The data is analyzed (training) to find the equation linking $Y$ to $X$.\n",
    "  - Coefficients $\\beta$, Intercept $\\beta_0$, and R-squared distance."
   ]
  }
 ],
 "metadata": {
  "kernelspec": {
   "display_name": "Python 3 (ipykernel)",
   "language": "python",
   "name": "python3"
  },
  "language_info": {
   "codemirror_mode": {
    "name": "ipython",
    "version": 3
   },
   "file_extension": ".py",
   "mimetype": "text/x-python",
   "name": "python",
   "nbconvert_exporter": "python",
   "pygments_lexer": "ipython3",
   "version": "3.11.5"
  }
 },
 "nbformat": 4,
 "nbformat_minor": 5
}
