{
 "cells": [
  {
   "cell_type": "markdown",
   "id": "4d488a92",
   "metadata": {},
   "source": [
    "# Classification and K-Nearest Neighbor\n",
    "\n",
    "In this notebook, we will cover two main topics:\n",
    "1. Classification\n",
    "2. K-Nearest Neighbor\n",
    "\n",
    "## 1. Classification\n",
    "\n",
    "Given an input X, we consider the output or prediction $Y$. The output $Y$ is a category, while $X$ can take any value: numeric or categorical.\n",
    "\n",
    "**Classification** is the task of assigning objects to a category from a predefined set of categories.\n",
    "\n",
    "### Discrete Values\n",
    "\n",
    "**Discrete values** are values that can take on only a finite number of distinct values. These values are typically counted and not measured. Examples of discrete values include:\n",
    "- Number of students in a class (e.g., 25, 30)\n",
    "- Days of the week (e.g., Monday, Tuesday)\n",
    "- Categories like \"red,\" \"blue,\" and \"green\"\n",
    "- Binary (\"True\", \"False\") or (\"0\", \"1\")\n",
    "\n",
    "### Definition of Classification\n",
    "\n",
    "- Given a set of records, considered as a training set.\n",
    "- Each record is characterized by a tuple (x, y):\n",
    "  - x is the attribute, predictor, independent variable, input.\n",
    "  - y is the class label, response, dependent variable, output.\n",
    "\n",
    "**Objective**: Define a model that maps each set of attributes $X$ to one of the predefined class labels.\n"
   ]
  },
  {
   "cell_type": "markdown",
   "id": "e7756973",
   "metadata": {},
   "source": [
    "### Classification vs Clustering\n",
    "\n",
    "**Classification**: In classification, we predict a value $y$ and the labels are known beforehand. We train the model using labeled data to predict the labels of new instances.\n",
    "\n",
    "**Clustering**: In clustering, the labels of $y$ are unknown, and the result to be achieved is not predefined. Clustering groups similar data points together based on their features."
   ]
  },
  {
   "cell_type": "markdown",
   "id": "293725c5",
   "metadata": {},
   "source": [
    "### Classification Models: Descriptive vs Predictive\n",
    "\n",
    "- **Descriptive**:\n",
    "  - The model serves as a tool to distinguish objects of different classes.\n",
    "- **Predictive**:\n",
    "  - The model is used to predict the class label of unknown objects.\n",
    "\n",
    "### Classification Techniques\n",
    "\n",
    "**Basic Classifiers**:\n",
    "- Decision Tree based Methods\n",
    "- Rule-based Methods\n",
    "- Nearest-neighbor\n",
    "- Naive Bayes and Bayesian Belief Networks\n",
    "- Support Vector Machines\n",
    "\n",
    "**Ensemble Classifiers**:\n",
    "- Boosting\n",
    "- Bagging\n",
    "- Random Forests"
   ]
  },
  {
   "cell_type": "markdown",
   "id": "a50ad0b6",
   "metadata": {},
   "source": [
    "### Basic vs Ensemble Classification\n",
    "\n",
    "**Basic Classification**: In basic classification, we have a single model that gives a prediction.\n",
    "\n",
    "**Ensemble Classification**: In ensemble classification, we have multiple models, and the final prediction is the majority predictor (the one most predicted). Random Forest is an example of ensemble classification. There are different types of ensemble classifiers:\n",
    "- **Parallel Ensembles**: Multiple models are built independently and their predictions are combined.\n",
    "- **Series Ensembles**: Models are built sequentially, where each model attempts to correct the errors of the previous one.\n"
   ]
  },
  {
   "cell_type": "markdown",
   "id": "a1147d29",
   "metadata": {},
   "source": [
    "## 2. K-Nearest Neighbor Classifier\n",
    "\n",
    "### Objective\n",
    "\n",
    "The goal is to find the training data point closest to the test data point and classify the test instance as being of the same class.\n",
    "\n",
    "### k-Nearest Neighbor Classifier\n",
    "\n",
    "**Objective**: Find the $k$ training instances that are closest to the test data point and classify the test instance as being of the same class as the majority class of the k instances."
   ]
  },
  {
   "cell_type": "code",
   "execution_count": 52,
   "id": "c9cdfcd9",
   "metadata": {},
   "outputs": [],
   "source": [
    "import pandas as pd\n",
    "import numpy as np\n",
    "import matplotlib.pyplot as plt\n",
    "from sklearn.model_selection import train_test_split\n",
    "from sklearn.neighbors import KNeighborsClassifier\n",
    "from sklearn.metrics import classification_report, confusion_matrix, accuracy_score, precision_score, recall_score, f1_score\n",
    "\n",
    "# Generate more complex data\n",
    "np.random.seed(42)  # For reproducibility\n",
    "n_points = 100\n",
    "\n",
    "# Generate labels for the two classes\n",
    "labels = np.random.choice(['Effect', 'No effect'], size=n_points)\n",
    "\n",
    "# Generate fictitious data associated with closer centers for each class\n",
    "data = []\n",
    "for label in labels:\n",
    "    if label == 'Effect':\n",
    "        point = np.random.normal(loc=[3, 3, 3], scale=3.0, size=3)  # Center around [3, 3, 3]\n",
    "    else:\n",
    "        point = np.random.normal(loc=[0, 0, 0], scale=3.0, size=3)  # Center around [0, 0, 0]\n",
    "    data.append(point)\n",
    "\n",
    "data = np.array(data)\n",
    "\n",
    "# Create the DataFrame\n",
    "df = pd.DataFrame(data, columns=['Feature1', 'Feature2', 'Feature3'])\n",
    "df['Class'] = labels\n",
    "\n",
    "# Prepare the data for KNN\n",
    "X = df[['Feature1', 'Feature2', 'Feature3']]\n",
    "y = df['Class']"
   ]
  },
  {
   "cell_type": "markdown",
   "id": "93f27a47",
   "metadata": {},
   "source": [
    "### Choosing k\n",
    "\n",
    "- The choice of $k$ is not straightforward due to the nature of the algorithm.\n",
    "- If $k$ is very small, there is a risk of overfitting due to noise in the training data.\n",
    "- If $k$ is too large, there is a risk of misclassification because the neighborhood of the test instance becomes larger and distant, irrelevant points may be used for classification.\n"
   ]
  },
  {
   "cell_type": "code",
   "execution_count": 53,
   "id": "c36bb5d2",
   "metadata": {},
   "outputs": [],
   "source": [
    "# Split the data into training and test sets\n",
    "X_train, X_test, y_train, y_test = train_test_split(X, y, test_size=0.3, random_state=42)\n",
    "\n",
    "# Create and train the KNN model\n",
    "knn = KNeighborsClassifier(n_neighbors=3)\n",
    "knn.fit(X_train, y_train)\n",
    "\n",
    "# Predict on the test set\n",
    "y_pred = knn.predict(X_test)"
   ]
  },
  {
   "cell_type": "markdown",
   "id": "f2c3b849",
   "metadata": {},
   "source": [
    "### Class Voting\n",
    "\n",
    "Take the class labels of the k nearest neighbors and assign the majority class:\n",
    "\n",
    "> $y = \\underset{v}{\\operatorname{argmax}} \\sum_{(x_i, y_i) \\in D_z} I(v = y_i)$\n",
    "\n",
    "where:\n",
    "- v: a class label.\n",
    "- $y_i$: class label of neighbor i.\n",
    "- $I(.)$: indicator function that returns 1 if the argument is True and 0 otherwise.\n",
    "\n",
    "### Alternative\n",
    "\n",
    "We can modify the voting rule by weighting the influence of neighbors according to their distance:\n",
    "\n",
    ">$y = \\underset{v}{\\operatorname{argmax}} \\sum_{(x_i, y_i) \\in D_z} w_i \\cdot I(v = y_i)$\n",
    "\n",
    "where the weight\n",
    "\n",
    ">$w_i = \\frac{1}{d(x', x_i)^2}$.\n"
   ]
  },
  {
   "cell_type": "markdown",
   "id": "2122fb10",
   "metadata": {},
   "source": [
    "## Metrics and Evaluation of a Classification Model\n",
    "\n",
    "### Confusion Matrix and Error Types\n",
    "\n",
    "**Confusion Matrix**: A table used to evaluate the performance of a classification model. It compares the predicted labels with the actual labels.\n",
    "\n",
    "- **Type 1 Error (False Positive)**: The model incorrectly predicts the positive class.\n",
    "- **Type 2 Error (False Negative)**: The model incorrectly predicts the negative class.\n",
    "\n",
    "### Hypothesis Testing Example\n",
    "\n",
    "> $H_0$ : The vaccine has an effect.\n",
    "\n",
    "\n",
    "> $H_1$ : The vaccine does not have an effect.\n",
    "\n",
    "| **Actual \\\\ Predicted** | **Positive** | **Negative** |\n",
    "|---------------------|----------|----------|\n",
    "| **Positive**            | True Positive (TP) | False Negative (FN) |\n",
    "| **Negative**            | False Positive (FP) | True Negative (TN) |\n",
    "\n",
    "\n",
    "- **True Positive (TP)**: The model correctly predicts the positive class. In the example, this means the model correctly identifies that the vaccine has an effect.\n",
    "- **False Negative (FN)**: The model incorrectly predicts the negative class. In the example, this means the model incorrectly identifies that the vaccine does not have an effect when it actually does.\n",
    "- **False Positive (FP)**: The model incorrectly predicts the positive class. In the example, this means the model incorrectly identifies that the vaccine has an effect when it does not.\n",
    "- **True Negative (TN)**: The model correctly predicts the negative class. In the example, this means the model correctly identifies that the vaccine does not have an effect."
   ]
  },
  {
   "cell_type": "markdown",
   "id": "92285d03",
   "metadata": {},
   "source": [
    "### Metrics, Formulas and Interpretation\n",
    "\n",
    "When evaluating the performance of a classification model, it's important to understand what constitutes a \"good\" value for each metric. The quality of these values can vary depending on the context and the specific problem being addressed.\n",
    "\n",
    "1. **Accuracy**: The ratio of correctly predicted instances to the total instances.\n",
    "\n",
    "- Measures the proportion of correctly predicted instances out of the total instances.\n",
    "- A value between 0.95 and 0.99 can be generally be considered \"good\". However, for imbalanced datasets, accuracy might not be the best metric to rely on.\n",
    "- An accuracy of 1.0 is often a red flag, as it can indicate overfitting, meaning the model has learned the training data too well and may not generelize to new, unseen data.\n",
    "\n",
    "$$\\text{Accuracy} = \\frac{TP + TN}{TP + TN + FP + FN}$$\n",
    "\n",
    "2. **Precision**: The ratio of correctly predicted positive instances to the total predicted positive instances.\n",
    "\n",
    "- Measures the proportion of correctly predicted positive instances out of the total predicted positive instances.\n",
    "- Good precision values are typically above 0.8, but this can vary based on the specific application.\n",
    "\n",
    "$$\\text{Precision} = \\frac{TP}{TP + FP}$$\n",
    "\n",
    "3. **Recall (Sensitivity)**: The ratio of correctly predicted positive instances to the total actual positive instances.\n",
    "\n",
    "- Measures the proportion of correctly predicted positive instances out of the total actual positive instances.\n",
    "- A high recall (close to 1.0) indicates a low rate of false negatives.\n",
    "- Good recall values are typically above 0.8, but again, this depends on the context. In some cases, a high recall is more important than precision.\n",
    "\n",
    "$$\\text{Recall} = \\frac{TP}{TP + FN}$$\n",
    "\n",
    "4. **F1 Score**: The harmonic mean of precision and recall.\n",
    "\n",
    "- Is the harmonic main of precision and recall, providing a balance between the two metrics.\n",
    "- A high F1 score (close to 1.0) indicates a good balance between precision and recall.\n",
    "- Good F1 scores are typically above 0.8, but the acceptable value can vary based on the application.\n",
    "\n",
    "$$F1 = 2 \\times \\frac{\\text{Precision} \\times \\text{Recall}}{\\text{Precision} + \\text{Recall}}$$\n",
    "\n",
    "\n",
    "### Context Matters\n",
    "\n",
    "- The acceptable values for these metrics depend on the specific use case and the importance of different types of errors.\n",
    "- For example, in medical diagnostics, a high recall might be more important to ensure that all potential cases are identified, even if it means having more false positives.\n",
    "- In other applications, such as spam detection, precision might be more important to ensure that non-spam emails are not incorrectly classified as spam.\n",
    "- It's crucial to consider the specific requirements and constraints of the problem at hand when evaluating these metrics."
   ]
  },
  {
   "cell_type": "code",
   "execution_count": 54,
   "id": "21532dfe",
   "metadata": {},
   "outputs": [
    {
     "name": "stdout",
     "output_type": "stream",
     "text": [
      "Confusion Matrix:\n",
      "[[10  1]\n",
      " [ 7 12]]\n"
     ]
    }
   ],
   "source": [
    "# Display the results\n",
    "print(\"Confusion Matrix:\")\n",
    "print(confusion_matrix(y_test, y_pred))"
   ]
  },
  {
   "cell_type": "code",
   "execution_count": 55,
   "id": "f08a74b6",
   "metadata": {},
   "outputs": [
    {
     "name": "stdout",
     "output_type": "stream",
     "text": [
      "\n",
      "Classification Report:\n",
      "              precision    recall  f1-score   support\n",
      "\n",
      "      Effect       0.59      0.91      0.71        11\n",
      "   No effect       0.92      0.63      0.75        19\n",
      "\n",
      "    accuracy                           0.73        30\n",
      "   macro avg       0.76      0.77      0.73        30\n",
      "weighted avg       0.80      0.73      0.74        30\n",
      "\n"
     ]
    }
   ],
   "source": [
    "print(\"\\nClassification Report:\")\n",
    "print(classification_report(y_test, y_pred))"
   ]
  },
  {
   "cell_type": "code",
   "execution_count": 56,
   "id": "23d3beb6",
   "metadata": {},
   "outputs": [
    {
     "name": "stdout",
     "output_type": "stream",
     "text": [
      "Accuracy: 0.73\n",
      "Precision: 0.59\n",
      "Recall (Sensitivity): 0.91\n",
      "F1 Score: 0.71\n"
     ]
    }
   ],
   "source": [
    "# Calculate performance metrics\n",
    "accuracy = accuracy_score(y_test, y_pred)\n",
    "precision = precision_score(y_test, y_pred, pos_label='Effect')\n",
    "recall = recall_score(y_test, y_pred, pos_label='Effect')\n",
    "f1 = f1_score(y_test, y_pred, pos_label='Effect')\n",
    "\n",
    "# Display additional metrics\n",
    "print(f\"Accuracy: {accuracy:.2f}\")\n",
    "print(f\"Precision: {precision:.2f}\")\n",
    "print(f\"Recall (Sensitivity): {recall:.2f}\")\n",
    "print(f\"F1 Score: {f1:.2f}\")"
   ]
  },
  {
   "cell_type": "code",
   "execution_count": 57,
   "id": "f5219f4c",
   "metadata": {},
   "outputs": [
    {
     "data": {
      "image/png": "[encoded data removed]",
      "text/plain": [
       "<Figure size 800x600 with 1 Axes>"
      ]
     },
     "metadata": {},
     "output_type": "display_data"
    }
   ],
   "source": [
    "# Plot the data and predictions\n",
    "plt.figure(figsize=(8, 6))\n",
    "for label in df['Class'].unique():\n",
    "    subset = df[df['Class'] == label]\n",
    "    plt.scatter(subset['Feature1'], subset['Feature2'], label=label)\n",
    "\n",
    "# Plot the predicted points\n",
    "for i, pred in enumerate(y_pred):\n",
    "    plt.scatter(X_test.iloc[i, 0], X_test.iloc[i, 1], marker='x', color='red' if pred == 'Effect' else 'blue')\n",
    "\n",
    "plt.xlabel('Feature1')\n",
    "plt.ylabel('Feature2')\n",
    "plt.title('Scatter Plot of Feature1 vs Feature2 by Class and Predictions')\n",
    "plt.legend()\n",
    "plt.show()"
   ]
  }
 ],
 "metadata": {
  "kernelspec": {
   "display_name": "Python 3 (ipykernel)",
   "language": "python",
   "name": "python3"
  },
  "language_info": {
   "codemirror_mode": {
    "name": "ipython",
    "version": 3
   },
   "file_extension": ".py",
   "mimetype": "text/x-python",
   "name": "python",
   "nbconvert_exporter": "python",
   "pygments_lexer": "ipython3",
   "version": "3.11.5"
  }
 },
 "nbformat": 4,
 "nbformat_minor": 5
}
