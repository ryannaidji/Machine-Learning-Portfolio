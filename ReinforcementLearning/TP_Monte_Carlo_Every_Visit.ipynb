{
 "cells": [
  {
   "cell_type": "markdown",
   "id": "b5733496",
   "metadata": {},
   "source": [
    "# TP2 - Monte-Carlo\n",
    "\n",
    "## Algorithme de Monte-Carlo Every-Visit\n",
    "\n",
    "Nom: Ryan NAIDJI"
   ]
  },
  {
   "cell_type": "code",
   "execution_count": 21,
   "id": "3790e040",
   "metadata": {},
   "outputs": [],
   "source": [
    "# Définition des épisodes et des récompenses\n",
    "episodes = [\n",
    "    [\"S(3,1)\", \"S(3,0)\", \"S(2,0)\", \"S(1,0)\", \"S(1,1)\", \"S(1,2)\", \"S(2,2)\", \"S(3,2)\", \"S(3,1)\", \"S(4,1)\", \"S(4,2)\", \"S(3,2)\", \"S(3,1)\", \"S(3,0)\", \"S(2,0)\"],\n",
    "    [\"S(3,1)\", \"S(3,2)\", \"S(2,2)\", \"S(1,2)\", \"S(1,1)\", \"S(0,1)\"],\n",
    "    [\"S(3,1)\", \"S(3,0)\", \"S(2,0)\", \"S(1,0)\", \"S(1,1)\", \"S(0,1)\"]\n",
    "]\n",
    "\n",
    "rewards = {\n",
    "    \"S(0,0)\": 0, \"S(0,1)\": 5, \"S(0,2)\": 0, \"S(0,3)\": 0,\n",
    "    \"S(1,0)\": 2, \"S(1,1)\": 1, \"S(1,2)\": 3, \"S(1,3)\": 0,\n",
    "    \"S(2,0)\": 2, \"S(2,1)\": 0, \"S(2,2)\": 1, \"S(2,3)\": 4,\n",
    "    \"S(3,0)\": 1, \"S(3,1)\": 2, \"S(3,2)\": 3, \"S(3,3)\": 0,\n",
    "    \"S(4,0)\": 0, \"S(4,1)\": 1, \"S(4,2)\": 1, \"S(4,3)\": 3\n",
    "}"
   ]
  },
  {
   "cell_type": "code",
   "execution_count": 22,
   "id": "6149e943",
   "metadata": {},
   "outputs": [
    {
     "data": {
      "text/plain": [
       "[{'S(3,1)': 14.666666666666666,\n",
       "  'S(3,0)': 14.0,\n",
       "  'S(2,0)': 13.0,\n",
       "  'S(1,0)': 22,\n",
       "  'S(1,1)': 20,\n",
       "  'S(1,2)': 19,\n",
       "  'S(2,2)': 16,\n",
       "  'S(3,2)': 11.5,\n",
       "  'S(4,1)': 10,\n",
       "  'S(4,2)': 9},\n",
       " {'S(3,1)': 15,\n",
       "  'S(3,2)': 13,\n",
       "  'S(2,2)': 10,\n",
       "  'S(1,2)': 9,\n",
       "  'S(1,1)': 6,\n",
       "  'S(0,1)': 5},\n",
       " {'S(3,1)': 13,\n",
       "  'S(3,0)': 11,\n",
       "  'S(2,0)': 10,\n",
       "  'S(1,0)': 8,\n",
       "  'S(1,1)': 6,\n",
       "  'S(0,1)': 5}]"
      ]
     },
     "execution_count": 22,
     "metadata": {},
     "output_type": "execute_result"
    }
   ],
   "source": [
    "def calculate_episode_returns(episodes, rewards):\n",
    "    episode_returns = []\n",
    "\n",
    "    # Parcourir chaque épisode\n",
    "    for episode in episodes:\n",
    "        state_returns = {}\n",
    "        \n",
    "        # Identifier chaque visite d'un état et calculer les récompenses cumulatives\n",
    "        for i, state in enumerate(episode):\n",
    "            if state not in state_returns:\n",
    "                state_returns[state] = []\n",
    "\n",
    "            # Calculer la récompense cumulée depuis cette visite\n",
    "            total_reward = sum(rewards[s] for s in episode[i:])\n",
    "            state_returns[state].append(total_reward)\n",
    "\n",
    "        # Calculer la moyenne des récompenses pour les états visités plusieurs fois\n",
    "        for state, returns in state_returns.items():\n",
    "            if len(returns) > 1:\n",
    "                # Calculer la moyenne des récompenses pour cet état dans cet épisode\n",
    "                state_returns[state] = sum(returns) / len(returns)\n",
    "            else:\n",
    "                state_returns[state] = returns[0]\n",
    "\n",
    "        episode_returns.append(state_returns)\n",
    "\n",
    "    return episode_returns\n",
    "\n",
    "# Utilisation de la fonction définie\n",
    "episode_returns = calculate_episode_returns(episodes, rewards)\n",
    "episode_returns"
   ]
  },
  {
   "cell_type": "code",
   "execution_count": 23,
   "id": "534b51e5",
   "metadata": {},
   "outputs": [
    {
     "data": {
      "text/plain": [
       "{'S(3,1)': [14.666666666666666, 15, 13],\n",
       " 'S(3,0)': [14.0, 11],\n",
       " 'S(2,0)': [13.0, 10],\n",
       " 'S(1,0)': [22, 8],\n",
       " 'S(1,1)': [20, 6, 6],\n",
       " 'S(1,2)': [19, 9],\n",
       " 'S(2,2)': [16, 10],\n",
       " 'S(3,2)': [11.5, 13],\n",
       " 'S(4,1)': [10],\n",
       " 'S(4,2)': [9],\n",
       " 'S(0,1)': [5, 5]}"
      ]
     },
     "execution_count": 23,
     "metadata": {},
     "output_type": "execute_result"
    }
   ],
   "source": [
    "def aggregate_episode_returns(episode_returns):\n",
    "    aggregated_returns = {}\n",
    "\n",
    "    # Parcourir chaque dictionnaire d'un épisode\n",
    "    for episode in episode_returns:\n",
    "        for state, return_value in episode.items():\n",
    "            if state not in aggregated_returns:\n",
    "                aggregated_returns[state] = []\n",
    "            aggregated_returns[state].append(return_value)\n",
    "\n",
    "    return aggregated_returns\n",
    "\n",
    "# Calculer les retours agrégés sur tous les épisodes\n",
    "aggregated_returns = aggregate_episode_returns(episode_returns)\n",
    "aggregated_returns\n"
   ]
  },
  {
   "cell_type": "code",
   "execution_count": 24,
   "id": "def9a63d",
   "metadata": {},
   "outputs": [
    {
     "data": {
      "text/plain": [
       "{'S(3,1)': 14.222222222222221,\n",
       " 'S(3,0)': 12.5,\n",
       " 'S(2,0)': 11.5,\n",
       " 'S(1,0)': 15.0,\n",
       " 'S(1,1)': 10.666666666666666,\n",
       " 'S(1,2)': 14.0,\n",
       " 'S(2,2)': 13.0,\n",
       " 'S(3,2)': 12.25,\n",
       " 'S(4,1)': 10.0,\n",
       " 'S(4,2)': 9.0,\n",
       " 'S(0,1)': 5.0}"
      ]
     },
     "execution_count": 24,
     "metadata": {},
     "output_type": "execute_result"
    }
   ],
   "source": [
    "def calculate_average_returns(aggregated_returns):\n",
    "    average_returns = {}\n",
    "\n",
    "    # Calculer la moyenne pour chaque état\n",
    "    for state, returns in aggregated_returns.items():\n",
    "        average_returns[state] = sum(returns) / len(returns) if returns else 0\n",
    "\n",
    "    return average_returns\n",
    "\n",
    "# Utilisation de la fonction pour calculer les moyennes\n",
    "average_returns = calculate_average_returns(aggregated_returns)\n",
    "average_returns\n"
   ]
  }
 ],
 "metadata": {
  "kernelspec": {
   "display_name": "Python 3 (ipykernel)",
   "language": "python",
   "name": "python3"
  },
  "language_info": {
   "codemirror_mode": {
    "name": "ipython",
    "version": 3
   },
   "file_extension": ".py",
   "mimetype": "text/x-python",
   "name": "python",
   "nbconvert_exporter": "python",
   "pygments_lexer": "ipython3",
   "version": "3.11.5"
  }
 },
 "nbformat": 4,
 "nbformat_minor": 5
}
